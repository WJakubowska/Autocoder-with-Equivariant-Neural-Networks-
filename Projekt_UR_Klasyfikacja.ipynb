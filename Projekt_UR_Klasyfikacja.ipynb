{
  "nbformat": 4,
  "nbformat_minor": 0,
  "metadata": {
    "colab": {
      "provenance": [],
      "toc_visible": true
    },
    "kernelspec": {
      "name": "python3",
      "display_name": "Python 3"
    },
    "language_info": {
      "name": "python"
    },
    "gpuClass": "standard",
    "widgets": {
      "application/vnd.jupyter.widget-state+json": {
        "f78b5348aad04e44ab1a07919a002dfd": {
          "model_module": "@jupyter-widgets/controls",
          "model_name": "HBoxModel",
          "model_module_version": "1.5.0",
          "state": {
            "_dom_classes": [],
            "_model_module": "@jupyter-widgets/controls",
            "_model_module_version": "1.5.0",
            "_model_name": "HBoxModel",
            "_view_count": null,
            "_view_module": "@jupyter-widgets/controls",
            "_view_module_version": "1.5.0",
            "_view_name": "HBoxView",
            "box_style": "",
            "children": [
              "IPY_MODEL_17fed5c6d7d0444b82b97d9a654b5f5a",
              "IPY_MODEL_6a41e112bf7140beb73b61f097d77b14",
              "IPY_MODEL_a498a705a35c414b9c2e5b0249aa71eb"
            ],
            "layout": "IPY_MODEL_c05e39f6e1e14253b992b238e4c3b4ea"
          }
        },
        "17fed5c6d7d0444b82b97d9a654b5f5a": {
          "model_module": "@jupyter-widgets/controls",
          "model_name": "HTMLModel",
          "model_module_version": "1.5.0",
          "state": {
            "_dom_classes": [],
            "_model_module": "@jupyter-widgets/controls",
            "_model_module_version": "1.5.0",
            "_model_name": "HTMLModel",
            "_view_count": null,
            "_view_module": "@jupyter-widgets/controls",
            "_view_module_version": "1.5.0",
            "_view_name": "HTMLView",
            "description": "",
            "description_tooltip": null,
            "layout": "IPY_MODEL_dd71ef16dc9a48ebad9d66e819aacc6f",
            "placeholder": "​",
            "style": "IPY_MODEL_95fcb21348fc4c95956e0d2c433e312c",
            "value": "Epoch 4999: 100%"
          }
        },
        "6a41e112bf7140beb73b61f097d77b14": {
          "model_module": "@jupyter-widgets/controls",
          "model_name": "FloatProgressModel",
          "model_module_version": "1.5.0",
          "state": {
            "_dom_classes": [],
            "_model_module": "@jupyter-widgets/controls",
            "_model_module_version": "1.5.0",
            "_model_name": "FloatProgressModel",
            "_view_count": null,
            "_view_module": "@jupyter-widgets/controls",
            "_view_module_version": "1.5.0",
            "_view_name": "ProgressView",
            "bar_style": "success",
            "description": "",
            "description_tooltip": null,
            "layout": "IPY_MODEL_0ce2372699244bffb240da4f992209d8",
            "max": 1,
            "min": 0,
            "orientation": "horizontal",
            "style": "IPY_MODEL_9c8a85f819bd43769d99237c9080fec6",
            "value": 1
          }
        },
        "a498a705a35c414b9c2e5b0249aa71eb": {
          "model_module": "@jupyter-widgets/controls",
          "model_name": "HTMLModel",
          "model_module_version": "1.5.0",
          "state": {
            "_dom_classes": [],
            "_model_module": "@jupyter-widgets/controls",
            "_model_module_version": "1.5.0",
            "_model_name": "HTMLModel",
            "_view_count": null,
            "_view_module": "@jupyter-widgets/controls",
            "_view_module_version": "1.5.0",
            "_view_name": "HTMLView",
            "description": "",
            "description_tooltip": null,
            "layout": "IPY_MODEL_eed6c91582c34856af790c76fce32dcd",
            "placeholder": "​",
            "style": "IPY_MODEL_cc3d6e2fe32d45399ebd779dfaccec28",
            "value": " 1/1 [00:00&lt;00:00, 12.10it/s, loss=0.00801, v_num=2]"
          }
        },
        "c05e39f6e1e14253b992b238e4c3b4ea": {
          "model_module": "@jupyter-widgets/base",
          "model_name": "LayoutModel",
          "model_module_version": "1.2.0",
          "state": {
            "_model_module": "@jupyter-widgets/base",
            "_model_module_version": "1.2.0",
            "_model_name": "LayoutModel",
            "_view_count": null,
            "_view_module": "@jupyter-widgets/base",
            "_view_module_version": "1.2.0",
            "_view_name": "LayoutView",
            "align_content": null,
            "align_items": null,
            "align_self": null,
            "border": null,
            "bottom": null,
            "display": "inline-flex",
            "flex": null,
            "flex_flow": "row wrap",
            "grid_area": null,
            "grid_auto_columns": null,
            "grid_auto_flow": null,
            "grid_auto_rows": null,
            "grid_column": null,
            "grid_gap": null,
            "grid_row": null,
            "grid_template_areas": null,
            "grid_template_columns": null,
            "grid_template_rows": null,
            "height": null,
            "justify_content": null,
            "justify_items": null,
            "left": null,
            "margin": null,
            "max_height": null,
            "max_width": null,
            "min_height": null,
            "min_width": null,
            "object_fit": null,
            "object_position": null,
            "order": null,
            "overflow": null,
            "overflow_x": null,
            "overflow_y": null,
            "padding": null,
            "right": null,
            "top": null,
            "visibility": null,
            "width": "100%"
          }
        },
        "dd71ef16dc9a48ebad9d66e819aacc6f": {
          "model_module": "@jupyter-widgets/base",
          "model_name": "LayoutModel",
          "model_module_version": "1.2.0",
          "state": {
            "_model_module": "@jupyter-widgets/base",
            "_model_module_version": "1.2.0",
            "_model_name": "LayoutModel",
            "_view_count": null,
            "_view_module": "@jupyter-widgets/base",
            "_view_module_version": "1.2.0",
            "_view_name": "LayoutView",
            "align_content": null,
            "align_items": null,
            "align_self": null,
            "border": null,
            "bottom": null,
            "display": null,
            "flex": null,
            "flex_flow": null,
            "grid_area": null,
            "grid_auto_columns": null,
            "grid_auto_flow": null,
            "grid_auto_rows": null,
            "grid_column": null,
            "grid_gap": null,
            "grid_row": null,
            "grid_template_areas": null,
            "grid_template_columns": null,
            "grid_template_rows": null,
            "height": null,
            "justify_content": null,
            "justify_items": null,
            "left": null,
            "margin": null,
            "max_height": null,
            "max_width": null,
            "min_height": null,
            "min_width": null,
            "object_fit": null,
            "object_position": null,
            "order": null,
            "overflow": null,
            "overflow_x": null,
            "overflow_y": null,
            "padding": null,
            "right": null,
            "top": null,
            "visibility": null,
            "width": null
          }
        },
        "95fcb21348fc4c95956e0d2c433e312c": {
          "model_module": "@jupyter-widgets/controls",
          "model_name": "DescriptionStyleModel",
          "model_module_version": "1.5.0",
          "state": {
            "_model_module": "@jupyter-widgets/controls",
            "_model_module_version": "1.5.0",
            "_model_name": "DescriptionStyleModel",
            "_view_count": null,
            "_view_module": "@jupyter-widgets/base",
            "_view_module_version": "1.2.0",
            "_view_name": "StyleView",
            "description_width": ""
          }
        },
        "0ce2372699244bffb240da4f992209d8": {
          "model_module": "@jupyter-widgets/base",
          "model_name": "LayoutModel",
          "model_module_version": "1.2.0",
          "state": {
            "_model_module": "@jupyter-widgets/base",
            "_model_module_version": "1.2.0",
            "_model_name": "LayoutModel",
            "_view_count": null,
            "_view_module": "@jupyter-widgets/base",
            "_view_module_version": "1.2.0",
            "_view_name": "LayoutView",
            "align_content": null,
            "align_items": null,
            "align_self": null,
            "border": null,
            "bottom": null,
            "display": null,
            "flex": "2",
            "flex_flow": null,
            "grid_area": null,
            "grid_auto_columns": null,
            "grid_auto_flow": null,
            "grid_auto_rows": null,
            "grid_column": null,
            "grid_gap": null,
            "grid_row": null,
            "grid_template_areas": null,
            "grid_template_columns": null,
            "grid_template_rows": null,
            "height": null,
            "justify_content": null,
            "justify_items": null,
            "left": null,
            "margin": null,
            "max_height": null,
            "max_width": null,
            "min_height": null,
            "min_width": null,
            "object_fit": null,
            "object_position": null,
            "order": null,
            "overflow": null,
            "overflow_x": null,
            "overflow_y": null,
            "padding": null,
            "right": null,
            "top": null,
            "visibility": null,
            "width": null
          }
        },
        "9c8a85f819bd43769d99237c9080fec6": {
          "model_module": "@jupyter-widgets/controls",
          "model_name": "ProgressStyleModel",
          "model_module_version": "1.5.0",
          "state": {
            "_model_module": "@jupyter-widgets/controls",
            "_model_module_version": "1.5.0",
            "_model_name": "ProgressStyleModel",
            "_view_count": null,
            "_view_module": "@jupyter-widgets/base",
            "_view_module_version": "1.2.0",
            "_view_name": "StyleView",
            "bar_color": null,
            "description_width": ""
          }
        },
        "eed6c91582c34856af790c76fce32dcd": {
          "model_module": "@jupyter-widgets/base",
          "model_name": "LayoutModel",
          "model_module_version": "1.2.0",
          "state": {
            "_model_module": "@jupyter-widgets/base",
            "_model_module_version": "1.2.0",
            "_model_name": "LayoutModel",
            "_view_count": null,
            "_view_module": "@jupyter-widgets/base",
            "_view_module_version": "1.2.0",
            "_view_name": "LayoutView",
            "align_content": null,
            "align_items": null,
            "align_self": null,
            "border": null,
            "bottom": null,
            "display": null,
            "flex": null,
            "flex_flow": null,
            "grid_area": null,
            "grid_auto_columns": null,
            "grid_auto_flow": null,
            "grid_auto_rows": null,
            "grid_column": null,
            "grid_gap": null,
            "grid_row": null,
            "grid_template_areas": null,
            "grid_template_columns": null,
            "grid_template_rows": null,
            "height": null,
            "justify_content": null,
            "justify_items": null,
            "left": null,
            "margin": null,
            "max_height": null,
            "max_width": null,
            "min_height": null,
            "min_width": null,
            "object_fit": null,
            "object_position": null,
            "order": null,
            "overflow": null,
            "overflow_x": null,
            "overflow_y": null,
            "padding": null,
            "right": null,
            "top": null,
            "visibility": null,
            "width": null
          }
        },
        "cc3d6e2fe32d45399ebd779dfaccec28": {
          "model_module": "@jupyter-widgets/controls",
          "model_name": "DescriptionStyleModel",
          "model_module_version": "1.5.0",
          "state": {
            "_model_module": "@jupyter-widgets/controls",
            "_model_module_version": "1.5.0",
            "_model_name": "DescriptionStyleModel",
            "_view_count": null,
            "_view_module": "@jupyter-widgets/base",
            "_view_module_version": "1.2.0",
            "_view_name": "StyleView",
            "description_width": ""
          }
        },
        "9877b1f5741341c8af5cd683b5a26a93": {
          "model_module": "@jupyter-widgets/controls",
          "model_name": "HBoxModel",
          "model_module_version": "1.5.0",
          "state": {
            "_dom_classes": [],
            "_model_module": "@jupyter-widgets/controls",
            "_model_module_version": "1.5.0",
            "_model_name": "HBoxModel",
            "_view_count": null,
            "_view_module": "@jupyter-widgets/controls",
            "_view_module_version": "1.5.0",
            "_view_name": "HBoxView",
            "box_style": "",
            "children": [
              "IPY_MODEL_7d2b3fba839744f2aba9c959a9eb57ae",
              "IPY_MODEL_7bfd08f98e8c4824a8009525d251e011",
              "IPY_MODEL_79b79e3c89f24130878dddc1390464a5"
            ],
            "layout": "IPY_MODEL_e5aae2469db446c281ed81430c01fc27"
          }
        },
        "7d2b3fba839744f2aba9c959a9eb57ae": {
          "model_module": "@jupyter-widgets/controls",
          "model_name": "HTMLModel",
          "model_module_version": "1.5.0",
          "state": {
            "_dom_classes": [],
            "_model_module": "@jupyter-widgets/controls",
            "_model_module_version": "1.5.0",
            "_model_name": "HTMLModel",
            "_view_count": null,
            "_view_module": "@jupyter-widgets/controls",
            "_view_module_version": "1.5.0",
            "_view_name": "HTMLView",
            "description": "",
            "description_tooltip": null,
            "layout": "IPY_MODEL_dacf9742e832415884eab9638e193781",
            "placeholder": "​",
            "style": "IPY_MODEL_e2087b25bddb40e09038ff5ee43fb489",
            "value": "Epoch 4999: 100%"
          }
        },
        "7bfd08f98e8c4824a8009525d251e011": {
          "model_module": "@jupyter-widgets/controls",
          "model_name": "FloatProgressModel",
          "model_module_version": "1.5.0",
          "state": {
            "_dom_classes": [],
            "_model_module": "@jupyter-widgets/controls",
            "_model_module_version": "1.5.0",
            "_model_name": "FloatProgressModel",
            "_view_count": null,
            "_view_module": "@jupyter-widgets/controls",
            "_view_module_version": "1.5.0",
            "_view_name": "ProgressView",
            "bar_style": "success",
            "description": "",
            "description_tooltip": null,
            "layout": "IPY_MODEL_92070466096542b39fd216459bd299b0",
            "max": 8,
            "min": 0,
            "orientation": "horizontal",
            "style": "IPY_MODEL_59444444444545a4b0279765a90cb539",
            "value": 8
          }
        },
        "79b79e3c89f24130878dddc1390464a5": {
          "model_module": "@jupyter-widgets/controls",
          "model_name": "HTMLModel",
          "model_module_version": "1.5.0",
          "state": {
            "_dom_classes": [],
            "_model_module": "@jupyter-widgets/controls",
            "_model_module_version": "1.5.0",
            "_model_name": "HTMLModel",
            "_view_count": null,
            "_view_module": "@jupyter-widgets/controls",
            "_view_module_version": "1.5.0",
            "_view_name": "HTMLView",
            "description": "",
            "description_tooltip": null,
            "layout": "IPY_MODEL_f1e675e2baa14ade9faa9e7d372ba3c6",
            "placeholder": "​",
            "style": "IPY_MODEL_2e0e1cf3a5f3455084191bbd4553b5e5",
            "value": " 8/8 [00:00&lt;00:00, 10.22it/s, loss=0.0241, v_num=3]"
          }
        },
        "e5aae2469db446c281ed81430c01fc27": {
          "model_module": "@jupyter-widgets/base",
          "model_name": "LayoutModel",
          "model_module_version": "1.2.0",
          "state": {
            "_model_module": "@jupyter-widgets/base",
            "_model_module_version": "1.2.0",
            "_model_name": "LayoutModel",
            "_view_count": null,
            "_view_module": "@jupyter-widgets/base",
            "_view_module_version": "1.2.0",
            "_view_name": "LayoutView",
            "align_content": null,
            "align_items": null,
            "align_self": null,
            "border": null,
            "bottom": null,
            "display": "inline-flex",
            "flex": null,
            "flex_flow": "row wrap",
            "grid_area": null,
            "grid_auto_columns": null,
            "grid_auto_flow": null,
            "grid_auto_rows": null,
            "grid_column": null,
            "grid_gap": null,
            "grid_row": null,
            "grid_template_areas": null,
            "grid_template_columns": null,
            "grid_template_rows": null,
            "height": null,
            "justify_content": null,
            "justify_items": null,
            "left": null,
            "margin": null,
            "max_height": null,
            "max_width": null,
            "min_height": null,
            "min_width": null,
            "object_fit": null,
            "object_position": null,
            "order": null,
            "overflow": null,
            "overflow_x": null,
            "overflow_y": null,
            "padding": null,
            "right": null,
            "top": null,
            "visibility": null,
            "width": "100%"
          }
        },
        "dacf9742e832415884eab9638e193781": {
          "model_module": "@jupyter-widgets/base",
          "model_name": "LayoutModel",
          "model_module_version": "1.2.0",
          "state": {
            "_model_module": "@jupyter-widgets/base",
            "_model_module_version": "1.2.0",
            "_model_name": "LayoutModel",
            "_view_count": null,
            "_view_module": "@jupyter-widgets/base",
            "_view_module_version": "1.2.0",
            "_view_name": "LayoutView",
            "align_content": null,
            "align_items": null,
            "align_self": null,
            "border": null,
            "bottom": null,
            "display": null,
            "flex": null,
            "flex_flow": null,
            "grid_area": null,
            "grid_auto_columns": null,
            "grid_auto_flow": null,
            "grid_auto_rows": null,
            "grid_column": null,
            "grid_gap": null,
            "grid_row": null,
            "grid_template_areas": null,
            "grid_template_columns": null,
            "grid_template_rows": null,
            "height": null,
            "justify_content": null,
            "justify_items": null,
            "left": null,
            "margin": null,
            "max_height": null,
            "max_width": null,
            "min_height": null,
            "min_width": null,
            "object_fit": null,
            "object_position": null,
            "order": null,
            "overflow": null,
            "overflow_x": null,
            "overflow_y": null,
            "padding": null,
            "right": null,
            "top": null,
            "visibility": null,
            "width": null
          }
        },
        "e2087b25bddb40e09038ff5ee43fb489": {
          "model_module": "@jupyter-widgets/controls",
          "model_name": "DescriptionStyleModel",
          "model_module_version": "1.5.0",
          "state": {
            "_model_module": "@jupyter-widgets/controls",
            "_model_module_version": "1.5.0",
            "_model_name": "DescriptionStyleModel",
            "_view_count": null,
            "_view_module": "@jupyter-widgets/base",
            "_view_module_version": "1.2.0",
            "_view_name": "StyleView",
            "description_width": ""
          }
        },
        "92070466096542b39fd216459bd299b0": {
          "model_module": "@jupyter-widgets/base",
          "model_name": "LayoutModel",
          "model_module_version": "1.2.0",
          "state": {
            "_model_module": "@jupyter-widgets/base",
            "_model_module_version": "1.2.0",
            "_model_name": "LayoutModel",
            "_view_count": null,
            "_view_module": "@jupyter-widgets/base",
            "_view_module_version": "1.2.0",
            "_view_name": "LayoutView",
            "align_content": null,
            "align_items": null,
            "align_self": null,
            "border": null,
            "bottom": null,
            "display": null,
            "flex": "2",
            "flex_flow": null,
            "grid_area": null,
            "grid_auto_columns": null,
            "grid_auto_flow": null,
            "grid_auto_rows": null,
            "grid_column": null,
            "grid_gap": null,
            "grid_row": null,
            "grid_template_areas": null,
            "grid_template_columns": null,
            "grid_template_rows": null,
            "height": null,
            "justify_content": null,
            "justify_items": null,
            "left": null,
            "margin": null,
            "max_height": null,
            "max_width": null,
            "min_height": null,
            "min_width": null,
            "object_fit": null,
            "object_position": null,
            "order": null,
            "overflow": null,
            "overflow_x": null,
            "overflow_y": null,
            "padding": null,
            "right": null,
            "top": null,
            "visibility": null,
            "width": null
          }
        },
        "59444444444545a4b0279765a90cb539": {
          "model_module": "@jupyter-widgets/controls",
          "model_name": "ProgressStyleModel",
          "model_module_version": "1.5.0",
          "state": {
            "_model_module": "@jupyter-widgets/controls",
            "_model_module_version": "1.5.0",
            "_model_name": "ProgressStyleModel",
            "_view_count": null,
            "_view_module": "@jupyter-widgets/base",
            "_view_module_version": "1.2.0",
            "_view_name": "StyleView",
            "bar_color": null,
            "description_width": ""
          }
        },
        "f1e675e2baa14ade9faa9e7d372ba3c6": {
          "model_module": "@jupyter-widgets/base",
          "model_name": "LayoutModel",
          "model_module_version": "1.2.0",
          "state": {
            "_model_module": "@jupyter-widgets/base",
            "_model_module_version": "1.2.0",
            "_model_name": "LayoutModel",
            "_view_count": null,
            "_view_module": "@jupyter-widgets/base",
            "_view_module_version": "1.2.0",
            "_view_name": "LayoutView",
            "align_content": null,
            "align_items": null,
            "align_self": null,
            "border": null,
            "bottom": null,
            "display": null,
            "flex": null,
            "flex_flow": null,
            "grid_area": null,
            "grid_auto_columns": null,
            "grid_auto_flow": null,
            "grid_auto_rows": null,
            "grid_column": null,
            "grid_gap": null,
            "grid_row": null,
            "grid_template_areas": null,
            "grid_template_columns": null,
            "grid_template_rows": null,
            "height": null,
            "justify_content": null,
            "justify_items": null,
            "left": null,
            "margin": null,
            "max_height": null,
            "max_width": null,
            "min_height": null,
            "min_width": null,
            "object_fit": null,
            "object_position": null,
            "order": null,
            "overflow": null,
            "overflow_x": null,
            "overflow_y": null,
            "padding": null,
            "right": null,
            "top": null,
            "visibility": null,
            "width": null
          }
        },
        "2e0e1cf3a5f3455084191bbd4553b5e5": {
          "model_module": "@jupyter-widgets/controls",
          "model_name": "DescriptionStyleModel",
          "model_module_version": "1.5.0",
          "state": {
            "_model_module": "@jupyter-widgets/controls",
            "_model_module_version": "1.5.0",
            "_model_name": "DescriptionStyleModel",
            "_view_count": null,
            "_view_module": "@jupyter-widgets/base",
            "_view_module_version": "1.2.0",
            "_view_name": "StyleView",
            "description_width": ""
          }
        },
        "c1062dabe5c74aafa1552602779985c3": {
          "model_module": "@jupyter-widgets/controls",
          "model_name": "HBoxModel",
          "model_module_version": "1.5.0",
          "state": {
            "_dom_classes": [],
            "_model_module": "@jupyter-widgets/controls",
            "_model_module_version": "1.5.0",
            "_model_name": "HBoxModel",
            "_view_count": null,
            "_view_module": "@jupyter-widgets/controls",
            "_view_module_version": "1.5.0",
            "_view_name": "HBoxView",
            "box_style": "",
            "children": [
              "IPY_MODEL_e79193380ca2447689cf2050afb1646c",
              "IPY_MODEL_8b31142edc3d47a7915d00f319072f83",
              "IPY_MODEL_e176402e813446bab54f11c195ba05bb"
            ],
            "layout": "IPY_MODEL_0f31e6d8fc404c67a1851fc7b4c3ee45"
          }
        },
        "e79193380ca2447689cf2050afb1646c": {
          "model_module": "@jupyter-widgets/controls",
          "model_name": "HTMLModel",
          "model_module_version": "1.5.0",
          "state": {
            "_dom_classes": [],
            "_model_module": "@jupyter-widgets/controls",
            "_model_module_version": "1.5.0",
            "_model_name": "HTMLModel",
            "_view_count": null,
            "_view_module": "@jupyter-widgets/controls",
            "_view_module_version": "1.5.0",
            "_view_name": "HTMLView",
            "description": "",
            "description_tooltip": null,
            "layout": "IPY_MODEL_3319670d625c45fe93e1473a3d401dcb",
            "placeholder": "​",
            "style": "IPY_MODEL_87da581a14e84ca7a7a84bafaa8f42f0",
            "value": "Epoch 4999: 100%"
          }
        },
        "8b31142edc3d47a7915d00f319072f83": {
          "model_module": "@jupyter-widgets/controls",
          "model_name": "FloatProgressModel",
          "model_module_version": "1.5.0",
          "state": {
            "_dom_classes": [],
            "_model_module": "@jupyter-widgets/controls",
            "_model_module_version": "1.5.0",
            "_model_name": "FloatProgressModel",
            "_view_count": null,
            "_view_module": "@jupyter-widgets/controls",
            "_view_module_version": "1.5.0",
            "_view_name": "ProgressView",
            "bar_style": "success",
            "description": "",
            "description_tooltip": null,
            "layout": "IPY_MODEL_fe978e444ec34f0bb10f476902d42969",
            "max": 1,
            "min": 0,
            "orientation": "horizontal",
            "style": "IPY_MODEL_3d02365517a3431c9fbf5c3daf5030df",
            "value": 1
          }
        },
        "e176402e813446bab54f11c195ba05bb": {
          "model_module": "@jupyter-widgets/controls",
          "model_name": "HTMLModel",
          "model_module_version": "1.5.0",
          "state": {
            "_dom_classes": [],
            "_model_module": "@jupyter-widgets/controls",
            "_model_module_version": "1.5.0",
            "_model_name": "HTMLModel",
            "_view_count": null,
            "_view_module": "@jupyter-widgets/controls",
            "_view_module_version": "1.5.0",
            "_view_name": "HTMLView",
            "description": "",
            "description_tooltip": null,
            "layout": "IPY_MODEL_8413f757773e401c8b93828de9b9a718",
            "placeholder": "​",
            "style": "IPY_MODEL_952f792b03e843929878bfa5667c79b3",
            "value": " 1/1 [00:00&lt;00:00, 19.47it/s, loss=0.00824, v_num=4]"
          }
        },
        "0f31e6d8fc404c67a1851fc7b4c3ee45": {
          "model_module": "@jupyter-widgets/base",
          "model_name": "LayoutModel",
          "model_module_version": "1.2.0",
          "state": {
            "_model_module": "@jupyter-widgets/base",
            "_model_module_version": "1.2.0",
            "_model_name": "LayoutModel",
            "_view_count": null,
            "_view_module": "@jupyter-widgets/base",
            "_view_module_version": "1.2.0",
            "_view_name": "LayoutView",
            "align_content": null,
            "align_items": null,
            "align_self": null,
            "border": null,
            "bottom": null,
            "display": "inline-flex",
            "flex": null,
            "flex_flow": "row wrap",
            "grid_area": null,
            "grid_auto_columns": null,
            "grid_auto_flow": null,
            "grid_auto_rows": null,
            "grid_column": null,
            "grid_gap": null,
            "grid_row": null,
            "grid_template_areas": null,
            "grid_template_columns": null,
            "grid_template_rows": null,
            "height": null,
            "justify_content": null,
            "justify_items": null,
            "left": null,
            "margin": null,
            "max_height": null,
            "max_width": null,
            "min_height": null,
            "min_width": null,
            "object_fit": null,
            "object_position": null,
            "order": null,
            "overflow": null,
            "overflow_x": null,
            "overflow_y": null,
            "padding": null,
            "right": null,
            "top": null,
            "visibility": null,
            "width": "100%"
          }
        },
        "3319670d625c45fe93e1473a3d401dcb": {
          "model_module": "@jupyter-widgets/base",
          "model_name": "LayoutModel",
          "model_module_version": "1.2.0",
          "state": {
            "_model_module": "@jupyter-widgets/base",
            "_model_module_version": "1.2.0",
            "_model_name": "LayoutModel",
            "_view_count": null,
            "_view_module": "@jupyter-widgets/base",
            "_view_module_version": "1.2.0",
            "_view_name": "LayoutView",
            "align_content": null,
            "align_items": null,
            "align_self": null,
            "border": null,
            "bottom": null,
            "display": null,
            "flex": null,
            "flex_flow": null,
            "grid_area": null,
            "grid_auto_columns": null,
            "grid_auto_flow": null,
            "grid_auto_rows": null,
            "grid_column": null,
            "grid_gap": null,
            "grid_row": null,
            "grid_template_areas": null,
            "grid_template_columns": null,
            "grid_template_rows": null,
            "height": null,
            "justify_content": null,
            "justify_items": null,
            "left": null,
            "margin": null,
            "max_height": null,
            "max_width": null,
            "min_height": null,
            "min_width": null,
            "object_fit": null,
            "object_position": null,
            "order": null,
            "overflow": null,
            "overflow_x": null,
            "overflow_y": null,
            "padding": null,
            "right": null,
            "top": null,
            "visibility": null,
            "width": null
          }
        },
        "87da581a14e84ca7a7a84bafaa8f42f0": {
          "model_module": "@jupyter-widgets/controls",
          "model_name": "DescriptionStyleModel",
          "model_module_version": "1.5.0",
          "state": {
            "_model_module": "@jupyter-widgets/controls",
            "_model_module_version": "1.5.0",
            "_model_name": "DescriptionStyleModel",
            "_view_count": null,
            "_view_module": "@jupyter-widgets/base",
            "_view_module_version": "1.2.0",
            "_view_name": "StyleView",
            "description_width": ""
          }
        },
        "fe978e444ec34f0bb10f476902d42969": {
          "model_module": "@jupyter-widgets/base",
          "model_name": "LayoutModel",
          "model_module_version": "1.2.0",
          "state": {
            "_model_module": "@jupyter-widgets/base",
            "_model_module_version": "1.2.0",
            "_model_name": "LayoutModel",
            "_view_count": null,
            "_view_module": "@jupyter-widgets/base",
            "_view_module_version": "1.2.0",
            "_view_name": "LayoutView",
            "align_content": null,
            "align_items": null,
            "align_self": null,
            "border": null,
            "bottom": null,
            "display": null,
            "flex": "2",
            "flex_flow": null,
            "grid_area": null,
            "grid_auto_columns": null,
            "grid_auto_flow": null,
            "grid_auto_rows": null,
            "grid_column": null,
            "grid_gap": null,
            "grid_row": null,
            "grid_template_areas": null,
            "grid_template_columns": null,
            "grid_template_rows": null,
            "height": null,
            "justify_content": null,
            "justify_items": null,
            "left": null,
            "margin": null,
            "max_height": null,
            "max_width": null,
            "min_height": null,
            "min_width": null,
            "object_fit": null,
            "object_position": null,
            "order": null,
            "overflow": null,
            "overflow_x": null,
            "overflow_y": null,
            "padding": null,
            "right": null,
            "top": null,
            "visibility": null,
            "width": null
          }
        },
        "3d02365517a3431c9fbf5c3daf5030df": {
          "model_module": "@jupyter-widgets/controls",
          "model_name": "ProgressStyleModel",
          "model_module_version": "1.5.0",
          "state": {
            "_model_module": "@jupyter-widgets/controls",
            "_model_module_version": "1.5.0",
            "_model_name": "ProgressStyleModel",
            "_view_count": null,
            "_view_module": "@jupyter-widgets/base",
            "_view_module_version": "1.2.0",
            "_view_name": "StyleView",
            "bar_color": null,
            "description_width": ""
          }
        },
        "8413f757773e401c8b93828de9b9a718": {
          "model_module": "@jupyter-widgets/base",
          "model_name": "LayoutModel",
          "model_module_version": "1.2.0",
          "state": {
            "_model_module": "@jupyter-widgets/base",
            "_model_module_version": "1.2.0",
            "_model_name": "LayoutModel",
            "_view_count": null,
            "_view_module": "@jupyter-widgets/base",
            "_view_module_version": "1.2.0",
            "_view_name": "LayoutView",
            "align_content": null,
            "align_items": null,
            "align_self": null,
            "border": null,
            "bottom": null,
            "display": null,
            "flex": null,
            "flex_flow": null,
            "grid_area": null,
            "grid_auto_columns": null,
            "grid_auto_flow": null,
            "grid_auto_rows": null,
            "grid_column": null,
            "grid_gap": null,
            "grid_row": null,
            "grid_template_areas": null,
            "grid_template_columns": null,
            "grid_template_rows": null,
            "height": null,
            "justify_content": null,
            "justify_items": null,
            "left": null,
            "margin": null,
            "max_height": null,
            "max_width": null,
            "min_height": null,
            "min_width": null,
            "object_fit": null,
            "object_position": null,
            "order": null,
            "overflow": null,
            "overflow_x": null,
            "overflow_y": null,
            "padding": null,
            "right": null,
            "top": null,
            "visibility": null,
            "width": null
          }
        },
        "952f792b03e843929878bfa5667c79b3": {
          "model_module": "@jupyter-widgets/controls",
          "model_name": "DescriptionStyleModel",
          "model_module_version": "1.5.0",
          "state": {
            "_model_module": "@jupyter-widgets/controls",
            "_model_module_version": "1.5.0",
            "_model_name": "DescriptionStyleModel",
            "_view_count": null,
            "_view_module": "@jupyter-widgets/base",
            "_view_module_version": "1.2.0",
            "_view_name": "StyleView",
            "description_width": ""
          }
        },
        "c0505a422776468e80f8ca947ed8fd12": {
          "model_module": "@jupyter-widgets/controls",
          "model_name": "HBoxModel",
          "model_module_version": "1.5.0",
          "state": {
            "_dom_classes": [],
            "_model_module": "@jupyter-widgets/controls",
            "_model_module_version": "1.5.0",
            "_model_name": "HBoxModel",
            "_view_count": null,
            "_view_module": "@jupyter-widgets/controls",
            "_view_module_version": "1.5.0",
            "_view_name": "HBoxView",
            "box_style": "",
            "children": [
              "IPY_MODEL_e0e69dc89d0d4dd5935620bedb34dcd6",
              "IPY_MODEL_7618be21dd6a4ed7bf64237e1fd85be0",
              "IPY_MODEL_9bfd649c6d9c4968aceab6d478a98bca"
            ],
            "layout": "IPY_MODEL_e362a0b926da458481f25aa1e92cf946"
          }
        },
        "e0e69dc89d0d4dd5935620bedb34dcd6": {
          "model_module": "@jupyter-widgets/controls",
          "model_name": "HTMLModel",
          "model_module_version": "1.5.0",
          "state": {
            "_dom_classes": [],
            "_model_module": "@jupyter-widgets/controls",
            "_model_module_version": "1.5.0",
            "_model_name": "HTMLModel",
            "_view_count": null,
            "_view_module": "@jupyter-widgets/controls",
            "_view_module_version": "1.5.0",
            "_view_name": "HTMLView",
            "description": "",
            "description_tooltip": null,
            "layout": "IPY_MODEL_e2ad779f20a04bb387ca8b881c8b7371",
            "placeholder": "​",
            "style": "IPY_MODEL_4008b04bdd1d406bb6d502cd9c62246a",
            "value": "Epoch 4999: 100%"
          }
        },
        "7618be21dd6a4ed7bf64237e1fd85be0": {
          "model_module": "@jupyter-widgets/controls",
          "model_name": "FloatProgressModel",
          "model_module_version": "1.5.0",
          "state": {
            "_dom_classes": [],
            "_model_module": "@jupyter-widgets/controls",
            "_model_module_version": "1.5.0",
            "_model_name": "FloatProgressModel",
            "_view_count": null,
            "_view_module": "@jupyter-widgets/controls",
            "_view_module_version": "1.5.0",
            "_view_name": "ProgressView",
            "bar_style": "success",
            "description": "",
            "description_tooltip": null,
            "layout": "IPY_MODEL_955c778a90604ac483cff5830fe0941f",
            "max": 8,
            "min": 0,
            "orientation": "horizontal",
            "style": "IPY_MODEL_5f96a29b35de48f08f4ece485584aaa1",
            "value": 8
          }
        },
        "9bfd649c6d9c4968aceab6d478a98bca": {
          "model_module": "@jupyter-widgets/controls",
          "model_name": "HTMLModel",
          "model_module_version": "1.5.0",
          "state": {
            "_dom_classes": [],
            "_model_module": "@jupyter-widgets/controls",
            "_model_module_version": "1.5.0",
            "_model_name": "HTMLModel",
            "_view_count": null,
            "_view_module": "@jupyter-widgets/controls",
            "_view_module_version": "1.5.0",
            "_view_name": "HTMLView",
            "description": "",
            "description_tooltip": null,
            "layout": "IPY_MODEL_92d0e2459c1e4e63b0c23ef752a7166b",
            "placeholder": "​",
            "style": "IPY_MODEL_87c5bd11620b47c98715ecd9f262905f",
            "value": " 8/8 [00:00&lt;00:00, 35.13it/s, loss=0.0245, v_num=5]"
          }
        },
        "e362a0b926da458481f25aa1e92cf946": {
          "model_module": "@jupyter-widgets/base",
          "model_name": "LayoutModel",
          "model_module_version": "1.2.0",
          "state": {
            "_model_module": "@jupyter-widgets/base",
            "_model_module_version": "1.2.0",
            "_model_name": "LayoutModel",
            "_view_count": null,
            "_view_module": "@jupyter-widgets/base",
            "_view_module_version": "1.2.0",
            "_view_name": "LayoutView",
            "align_content": null,
            "align_items": null,
            "align_self": null,
            "border": null,
            "bottom": null,
            "display": "inline-flex",
            "flex": null,
            "flex_flow": "row wrap",
            "grid_area": null,
            "grid_auto_columns": null,
            "grid_auto_flow": null,
            "grid_auto_rows": null,
            "grid_column": null,
            "grid_gap": null,
            "grid_row": null,
            "grid_template_areas": null,
            "grid_template_columns": null,
            "grid_template_rows": null,
            "height": null,
            "justify_content": null,
            "justify_items": null,
            "left": null,
            "margin": null,
            "max_height": null,
            "max_width": null,
            "min_height": null,
            "min_width": null,
            "object_fit": null,
            "object_position": null,
            "order": null,
            "overflow": null,
            "overflow_x": null,
            "overflow_y": null,
            "padding": null,
            "right": null,
            "top": null,
            "visibility": null,
            "width": "100%"
          }
        },
        "e2ad779f20a04bb387ca8b881c8b7371": {
          "model_module": "@jupyter-widgets/base",
          "model_name": "LayoutModel",
          "model_module_version": "1.2.0",
          "state": {
            "_model_module": "@jupyter-widgets/base",
            "_model_module_version": "1.2.0",
            "_model_name": "LayoutModel",
            "_view_count": null,
            "_view_module": "@jupyter-widgets/base",
            "_view_module_version": "1.2.0",
            "_view_name": "LayoutView",
            "align_content": null,
            "align_items": null,
            "align_self": null,
            "border": null,
            "bottom": null,
            "display": null,
            "flex": null,
            "flex_flow": null,
            "grid_area": null,
            "grid_auto_columns": null,
            "grid_auto_flow": null,
            "grid_auto_rows": null,
            "grid_column": null,
            "grid_gap": null,
            "grid_row": null,
            "grid_template_areas": null,
            "grid_template_columns": null,
            "grid_template_rows": null,
            "height": null,
            "justify_content": null,
            "justify_items": null,
            "left": null,
            "margin": null,
            "max_height": null,
            "max_width": null,
            "min_height": null,
            "min_width": null,
            "object_fit": null,
            "object_position": null,
            "order": null,
            "overflow": null,
            "overflow_x": null,
            "overflow_y": null,
            "padding": null,
            "right": null,
            "top": null,
            "visibility": null,
            "width": null
          }
        },
        "4008b04bdd1d406bb6d502cd9c62246a": {
          "model_module": "@jupyter-widgets/controls",
          "model_name": "DescriptionStyleModel",
          "model_module_version": "1.5.0",
          "state": {
            "_model_module": "@jupyter-widgets/controls",
            "_model_module_version": "1.5.0",
            "_model_name": "DescriptionStyleModel",
            "_view_count": null,
            "_view_module": "@jupyter-widgets/base",
            "_view_module_version": "1.2.0",
            "_view_name": "StyleView",
            "description_width": ""
          }
        },
        "955c778a90604ac483cff5830fe0941f": {
          "model_module": "@jupyter-widgets/base",
          "model_name": "LayoutModel",
          "model_module_version": "1.2.0",
          "state": {
            "_model_module": "@jupyter-widgets/base",
            "_model_module_version": "1.2.0",
            "_model_name": "LayoutModel",
            "_view_count": null,
            "_view_module": "@jupyter-widgets/base",
            "_view_module_version": "1.2.0",
            "_view_name": "LayoutView",
            "align_content": null,
            "align_items": null,
            "align_self": null,
            "border": null,
            "bottom": null,
            "display": null,
            "flex": "2",
            "flex_flow": null,
            "grid_area": null,
            "grid_auto_columns": null,
            "grid_auto_flow": null,
            "grid_auto_rows": null,
            "grid_column": null,
            "grid_gap": null,
            "grid_row": null,
            "grid_template_areas": null,
            "grid_template_columns": null,
            "grid_template_rows": null,
            "height": null,
            "justify_content": null,
            "justify_items": null,
            "left": null,
            "margin": null,
            "max_height": null,
            "max_width": null,
            "min_height": null,
            "min_width": null,
            "object_fit": null,
            "object_position": null,
            "order": null,
            "overflow": null,
            "overflow_x": null,
            "overflow_y": null,
            "padding": null,
            "right": null,
            "top": null,
            "visibility": null,
            "width": null
          }
        },
        "5f96a29b35de48f08f4ece485584aaa1": {
          "model_module": "@jupyter-widgets/controls",
          "model_name": "ProgressStyleModel",
          "model_module_version": "1.5.0",
          "state": {
            "_model_module": "@jupyter-widgets/controls",
            "_model_module_version": "1.5.0",
            "_model_name": "ProgressStyleModel",
            "_view_count": null,
            "_view_module": "@jupyter-widgets/base",
            "_view_module_version": "1.2.0",
            "_view_name": "StyleView",
            "bar_color": null,
            "description_width": ""
          }
        },
        "92d0e2459c1e4e63b0c23ef752a7166b": {
          "model_module": "@jupyter-widgets/base",
          "model_name": "LayoutModel",
          "model_module_version": "1.2.0",
          "state": {
            "_model_module": "@jupyter-widgets/base",
            "_model_module_version": "1.2.0",
            "_model_name": "LayoutModel",
            "_view_count": null,
            "_view_module": "@jupyter-widgets/base",
            "_view_module_version": "1.2.0",
            "_view_name": "LayoutView",
            "align_content": null,
            "align_items": null,
            "align_self": null,
            "border": null,
            "bottom": null,
            "display": null,
            "flex": null,
            "flex_flow": null,
            "grid_area": null,
            "grid_auto_columns": null,
            "grid_auto_flow": null,
            "grid_auto_rows": null,
            "grid_column": null,
            "grid_gap": null,
            "grid_row": null,
            "grid_template_areas": null,
            "grid_template_columns": null,
            "grid_template_rows": null,
            "height": null,
            "justify_content": null,
            "justify_items": null,
            "left": null,
            "margin": null,
            "max_height": null,
            "max_width": null,
            "min_height": null,
            "min_width": null,
            "object_fit": null,
            "object_position": null,
            "order": null,
            "overflow": null,
            "overflow_x": null,
            "overflow_y": null,
            "padding": null,
            "right": null,
            "top": null,
            "visibility": null,
            "width": null
          }
        },
        "87c5bd11620b47c98715ecd9f262905f": {
          "model_module": "@jupyter-widgets/controls",
          "model_name": "DescriptionStyleModel",
          "model_module_version": "1.5.0",
          "state": {
            "_model_module": "@jupyter-widgets/controls",
            "_model_module_version": "1.5.0",
            "_model_name": "DescriptionStyleModel",
            "_view_count": null,
            "_view_module": "@jupyter-widgets/base",
            "_view_module_version": "1.2.0",
            "_view_name": "StyleView",
            "description_width": ""
          }
        }
      }
    }
  },
  "cells": [
    {
      "cell_type": "code",
      "source": [
        "!pip install h5py\n",
        "!pip install matplotlib==3.4.0\n",
        "!pip install e2cnn\n",
        "!pip install pytorch_lightning"
      ],
      "metadata": {
        "colab": {
          "base_uri": "https://localhost:8080/",
          "height": 1000
        },
        "id": "uBWcijnma-qV",
        "outputId": "6dc7eaa2-3f66-43ff-d99b-0a42470ac64b"
      },
      "execution_count": 1,
      "outputs": [
        {
          "output_type": "stream",
          "name": "stdout",
          "text": [
            "Looking in indexes: https://pypi.org/simple, https://us-python.pkg.dev/colab-wheels/public/simple/\n",
            "Requirement already satisfied: h5py in /usr/local/lib/python3.8/dist-packages (3.1.0)\n",
            "Requirement already satisfied: numpy>=1.17.5 in /usr/local/lib/python3.8/dist-packages (from h5py) (1.21.6)\n",
            "Looking in indexes: https://pypi.org/simple, https://us-python.pkg.dev/colab-wheels/public/simple/\n",
            "Collecting matplotlib==3.4.0\n",
            "  Downloading matplotlib-3.4.0-cp38-cp38-manylinux1_x86_64.whl (10.3 MB)\n",
            "\u001b[2K     \u001b[90m━━━━━━━━━━━━━━━━━━━━━━━━━━━━━━━━━━━━━━━━\u001b[0m \u001b[32m10.3/10.3 MB\u001b[0m \u001b[31m98.9 MB/s\u001b[0m eta \u001b[36m0:00:00\u001b[0m\n",
            "\u001b[?25hRequirement already satisfied: kiwisolver>=1.0.1 in /usr/local/lib/python3.8/dist-packages (from matplotlib==3.4.0) (1.4.4)\n",
            "Requirement already satisfied: python-dateutil>=2.7 in /usr/local/lib/python3.8/dist-packages (from matplotlib==3.4.0) (2.8.2)\n",
            "Requirement already satisfied: pyparsing>=2.2.1 in /usr/local/lib/python3.8/dist-packages (from matplotlib==3.4.0) (3.0.9)\n",
            "Requirement already satisfied: numpy>=1.16 in /usr/local/lib/python3.8/dist-packages (from matplotlib==3.4.0) (1.21.6)\n",
            "Requirement already satisfied: pillow>=6.2.0 in /usr/local/lib/python3.8/dist-packages (from matplotlib==3.4.0) (7.1.2)\n",
            "Requirement already satisfied: cycler>=0.10 in /usr/local/lib/python3.8/dist-packages (from matplotlib==3.4.0) (0.11.0)\n",
            "Requirement already satisfied: six>=1.5 in /usr/local/lib/python3.8/dist-packages (from python-dateutil>=2.7->matplotlib==3.4.0) (1.15.0)\n",
            "Installing collected packages: matplotlib\n",
            "  Attempting uninstall: matplotlib\n",
            "    Found existing installation: matplotlib 3.2.2\n",
            "    Uninstalling matplotlib-3.2.2:\n",
            "      Successfully uninstalled matplotlib-3.2.2\n",
            "Successfully installed matplotlib-3.4.0\n"
          ]
        },
        {
          "output_type": "display_data",
          "data": {
            "application/vnd.colab-display-data+json": {
              "pip_warning": {
                "packages": [
                  "matplotlib",
                  "mpl_toolkits"
                ]
              }
            }
          },
          "metadata": {}
        },
        {
          "output_type": "stream",
          "name": "stdout",
          "text": [
            "Looking in indexes: https://pypi.org/simple, https://us-python.pkg.dev/colab-wheels/public/simple/\n",
            "Collecting e2cnn\n",
            "  Downloading e2cnn-0.2.2-py3-none-any.whl (225 kB)\n",
            "\u001b[2K     \u001b[90m━━━━━━━━━━━━━━━━━━━━━━━━━━━━━━━━━━━━━━\u001b[0m \u001b[32m225.1/225.1 KB\u001b[0m \u001b[31m21.4 MB/s\u001b[0m eta \u001b[36m0:00:00\u001b[0m\n",
            "\u001b[?25hRequirement already satisfied: sympy in /usr/local/lib/python3.8/dist-packages (from e2cnn) (1.7.1)\n",
            "Requirement already satisfied: scipy in /usr/local/lib/python3.8/dist-packages (from e2cnn) (1.7.3)\n",
            "Requirement already satisfied: numpy in /usr/local/lib/python3.8/dist-packages (from e2cnn) (1.21.6)\n",
            "Requirement already satisfied: torch in /usr/local/lib/python3.8/dist-packages (from e2cnn) (1.13.0+cu116)\n",
            "Requirement already satisfied: mpmath>=0.19 in /usr/local/lib/python3.8/dist-packages (from sympy->e2cnn) (1.2.1)\n",
            "Requirement already satisfied: typing-extensions in /usr/local/lib/python3.8/dist-packages (from torch->e2cnn) (4.4.0)\n",
            "Installing collected packages: e2cnn\n",
            "Successfully installed e2cnn-0.2.2\n",
            "Looking in indexes: https://pypi.org/simple, https://us-python.pkg.dev/colab-wheels/public/simple/\n",
            "Collecting pytorch_lightning\n",
            "  Downloading pytorch_lightning-1.8.6-py3-none-any.whl (800 kB)\n",
            "\u001b[2K     \u001b[90m━━━━━━━━━━━━━━━━━━━━━━━━━━━━━━━━━━━━━━\u001b[0m \u001b[32m800.3/800.3 KB\u001b[0m \u001b[31m29.9 MB/s\u001b[0m eta \u001b[36m0:00:00\u001b[0m\n",
            "\u001b[?25hRequirement already satisfied: PyYAML>=5.4 in /usr/local/lib/python3.8/dist-packages (from pytorch_lightning) (6.0)\n",
            "Collecting torchmetrics>=0.7.0\n",
            "  Downloading torchmetrics-0.11.0-py3-none-any.whl (512 kB)\n",
            "\u001b[2K     \u001b[90m━━━━━━━━━━━━━━━━━━━━━━━━━━━━━━━━━━━━━━\u001b[0m \u001b[32m512.4/512.4 KB\u001b[0m \u001b[31m47.9 MB/s\u001b[0m eta \u001b[36m0:00:00\u001b[0m\n",
            "\u001b[?25hRequirement already satisfied: tqdm>=4.57.0 in /usr/local/lib/python3.8/dist-packages (from pytorch_lightning) (4.64.1)\n",
            "Requirement already satisfied: fsspec[http]>2021.06.0 in /usr/local/lib/python3.8/dist-packages (from pytorch_lightning) (2022.11.0)\n",
            "Requirement already satisfied: numpy>=1.17.2 in /usr/local/lib/python3.8/dist-packages (from pytorch_lightning) (1.21.6)\n",
            "Requirement already satisfied: typing-extensions>=4.0.0 in /usr/local/lib/python3.8/dist-packages (from pytorch_lightning) (4.4.0)\n",
            "Collecting tensorboardX>=2.2\n",
            "  Downloading tensorboardX-2.5.1-py2.py3-none-any.whl (125 kB)\n",
            "\u001b[2K     \u001b[90m━━━━━━━━━━━━━━━━━━━━━━━━━━━━━━━━━━━━━━\u001b[0m \u001b[32m125.4/125.4 KB\u001b[0m \u001b[31m20.4 MB/s\u001b[0m eta \u001b[36m0:00:00\u001b[0m\n",
            "\u001b[?25hRequirement already satisfied: packaging>=17.0 in /usr/local/lib/python3.8/dist-packages (from pytorch_lightning) (21.3)\n",
            "Requirement already satisfied: torch>=1.9.0 in /usr/local/lib/python3.8/dist-packages (from pytorch_lightning) (1.13.0+cu116)\n",
            "Collecting lightning-utilities!=0.4.0,>=0.3.0\n",
            "  Downloading lightning_utilities-0.5.0-py3-none-any.whl (18 kB)\n",
            "Requirement already satisfied: aiohttp!=4.0.0a0,!=4.0.0a1 in /usr/local/lib/python3.8/dist-packages (from fsspec[http]>2021.06.0->pytorch_lightning) (3.8.3)\n",
            "Requirement already satisfied: requests in /usr/local/lib/python3.8/dist-packages (from fsspec[http]>2021.06.0->pytorch_lightning) (2.25.1)\n",
            "Requirement already satisfied: pyparsing!=3.0.5,>=2.0.2 in /usr/local/lib/python3.8/dist-packages (from packaging>=17.0->pytorch_lightning) (3.0.9)\n",
            "Requirement already satisfied: protobuf<=3.20.1,>=3.8.0 in /usr/local/lib/python3.8/dist-packages (from tensorboardX>=2.2->pytorch_lightning) (3.19.6)\n",
            "Requirement already satisfied: frozenlist>=1.1.1 in /usr/local/lib/python3.8/dist-packages (from aiohttp!=4.0.0a0,!=4.0.0a1->fsspec[http]>2021.06.0->pytorch_lightning) (1.3.3)\n",
            "Requirement already satisfied: multidict<7.0,>=4.5 in /usr/local/lib/python3.8/dist-packages (from aiohttp!=4.0.0a0,!=4.0.0a1->fsspec[http]>2021.06.0->pytorch_lightning) (6.0.4)\n",
            "Requirement already satisfied: aiosignal>=1.1.2 in /usr/local/lib/python3.8/dist-packages (from aiohttp!=4.0.0a0,!=4.0.0a1->fsspec[http]>2021.06.0->pytorch_lightning) (1.3.1)\n",
            "Requirement already satisfied: charset-normalizer<3.0,>=2.0 in /usr/local/lib/python3.8/dist-packages (from aiohttp!=4.0.0a0,!=4.0.0a1->fsspec[http]>2021.06.0->pytorch_lightning) (2.1.1)\n",
            "Requirement already satisfied: yarl<2.0,>=1.0 in /usr/local/lib/python3.8/dist-packages (from aiohttp!=4.0.0a0,!=4.0.0a1->fsspec[http]>2021.06.0->pytorch_lightning) (1.8.2)\n",
            "Requirement already satisfied: attrs>=17.3.0 in /usr/local/lib/python3.8/dist-packages (from aiohttp!=4.0.0a0,!=4.0.0a1->fsspec[http]>2021.06.0->pytorch_lightning) (22.2.0)\n",
            "Requirement already satisfied: async-timeout<5.0,>=4.0.0a3 in /usr/local/lib/python3.8/dist-packages (from aiohttp!=4.0.0a0,!=4.0.0a1->fsspec[http]>2021.06.0->pytorch_lightning) (4.0.2)\n",
            "Requirement already satisfied: urllib3<1.27,>=1.21.1 in /usr/local/lib/python3.8/dist-packages (from requests->fsspec[http]>2021.06.0->pytorch_lightning) (1.24.3)\n",
            "Requirement already satisfied: chardet<5,>=3.0.2 in /usr/local/lib/python3.8/dist-packages (from requests->fsspec[http]>2021.06.0->pytorch_lightning) (4.0.0)\n",
            "Requirement already satisfied: idna<3,>=2.5 in /usr/local/lib/python3.8/dist-packages (from requests->fsspec[http]>2021.06.0->pytorch_lightning) (2.10)\n",
            "Requirement already satisfied: certifi>=2017.4.17 in /usr/local/lib/python3.8/dist-packages (from requests->fsspec[http]>2021.06.0->pytorch_lightning) (2022.12.7)\n",
            "Installing collected packages: tensorboardX, torchmetrics, lightning-utilities, pytorch_lightning\n",
            "Successfully installed lightning-utilities-0.5.0 pytorch_lightning-1.8.6 tensorboardX-2.5.1 torchmetrics-0.11.0\n"
          ]
        }
      ]
    },
    {
      "cell_type": "code",
      "source": [
        "from google.colab import drive\n",
        "drive.mount('/content/drive')"
      ],
      "metadata": {
        "colab": {
          "base_uri": "https://localhost:8080/"
        },
        "id": "2_pXxwSpGMZn",
        "outputId": "8a441e71-cc94-4ddd-96de-b8be36aedddf"
      },
      "execution_count": 2,
      "outputs": [
        {
          "output_type": "stream",
          "name": "stdout",
          "text": [
            "Mounted at /content/drive\n"
          ]
        }
      ]
    },
    {
      "cell_type": "code",
      "source": [
        "import torch\n",
        "torch.backends.cudnn.deterministic = True\n",
        "torch.backends.cudnn.benchmark = False\n",
        "torch.manual_seed(42)"
      ],
      "metadata": {
        "colab": {
          "base_uri": "https://localhost:8080/"
        },
        "id": "qo4NwN6bxiE3",
        "outputId": "85db9548-cfc4-4454-a361-62389006a755"
      },
      "execution_count": 3,
      "outputs": [
        {
          "output_type": "execute_result",
          "data": {
            "text/plain": [
              "<torch._C.Generator at 0x7f1ab77f2190>"
            ]
          },
          "metadata": {},
          "execution_count": 3
        }
      ]
    },
    {
      "cell_type": "code",
      "source": [
        "import h5py\n",
        "import pandas as pd\n",
        "import os\n",
        "import seaborn as sns\n",
        "import matplotlib.pyplot as plt\n",
        "from PIL import Image\n",
        "import matplotlib.pyplot as plt\n",
        "import random\n",
        "from e2cnn import gspaces\n",
        "from e2cnn import nn\n",
        "from torchsummary import summary\n",
        "from pytorch_lightning import LightningModule\n",
        "import torch\n",
        "from torch.nn import functional as F\n",
        "from typing import Optional\n",
        "import numpy as np\n",
        "from torch.utils.data import DataLoader, TensorDataset\n",
        "from pytorch_lightning import Trainer\n",
        "from pytorch_lightning.loggers import TensorBoardLogger\n",
        "from sklearn.linear_model import LogisticRegression\n",
        "from sklearn.metrics import roc_auc_score\n",
        "from typing import Tuple\n",
        "from tqdm.auto import tqdm\n",
        "import torchmetrics\n",
        "import torch.optim as optim"
      ],
      "metadata": {
        "id": "FsGHzoilxNs0"
      },
      "execution_count": 4,
      "outputs": []
    },
    {
      "cell_type": "code",
      "source": [
        "import matplotlib\n",
        "print(matplotlib.__version__)"
      ],
      "metadata": {
        "colab": {
          "base_uri": "https://localhost:8080/"
        },
        "id": "DMo3OS-VyId1",
        "outputId": "2dd4192b-0199-44e7-b2bf-9b4d271c89e9"
      },
      "execution_count": 5,
      "outputs": [
        {
          "output_type": "stream",
          "name": "stdout",
          "text": [
            "3.2.2\n"
          ]
        }
      ]
    },
    {
      "cell_type": "markdown",
      "source": [
        "## Wczytanie danych"
      ],
      "metadata": {
        "id": "LwC4uBaxaa4C"
      }
    },
    {
      "cell_type": "code",
      "source": [
        "filename_train_x='/content/drive/MyDrive/Dane_projekt_UR/camelyonpatch_level_2_split_train_x.h5'\n",
        "filename_train_y='/content/drive/MyDrive/Dane_projekt_UR/camelyonpatch_level_2_split_train_y.h5'\n",
        "filename_test_x='/content/drive/MyDrive/Dane_projekt_UR/camelyonpatch_level_2_split_test_x.h5'\n",
        "filename_test_y='/content/drive/MyDrive/Dane_projekt_UR/camelyonpatch_level_2_split_test_y.h5'\n",
        "\n",
        "train_x = {}\n",
        "train_y = {}\n",
        "test_x = {}\n",
        "test_y = {}\n",
        "\n",
        "import torchvision\n",
        "\n",
        "transform = torchvision.transforms.Compose([\n",
        "    torchvision.transforms.ToTensor()\n",
        "])\n",
        "\n",
        "with h5py.File(filename_train_y, \"r\") as f:\n",
        "    for key in f.keys():\n",
        "        ds_arr = f[key][()] \n",
        "        ds_arr.shape = (ds_arr.shape[0])\n",
        "        train_y[key] = ds_arr[:1000] \n",
        "\n",
        "\n",
        "with h5py.File(filename_train_x, \"r\") as f:\n",
        "    for key in f.keys():\n",
        "        ds_arr = f[key][()] \n",
        "        train_x[key] = ds_arr[:1000] \n",
        "\n",
        "train_data = []\n",
        "for i in range(0, 1000):\n",
        "   train_data.append([transform(train_x['x'][i]), train_y['y'][i]])\n",
        "   \n",
        "\n",
        "with h5py.File(filename_test_y, \"r\") as f:\n",
        "    for key in f.keys():\n",
        "        ds_arr = f[key][()]  \n",
        "        ds_arr.shape = (ds_arr.shape[0])\n",
        "        test_y[key] = ds_arr[:1000]\n",
        "\n",
        "with h5py.File(filename_test_x, \"r\") as f:\n",
        "    for key in f.keys():\n",
        "        ds_arr = f[key][()] \n",
        "        test_x[key] = ds_arr[:1000]\n",
        "\n",
        "test_data = []\n",
        "for i in range(0, 1000):\n",
        "   test_data.append([transform(test_x['x'][i]), test_y['y'][i]])"
      ],
      "metadata": {
        "id": "w2pO5819OdZ7"
      },
      "execution_count": 6,
      "outputs": []
    },
    {
      "cell_type": "code",
      "source": [
        "del train_x\n",
        "del train_y\n",
        "del test_x\n",
        "del test_y"
      ],
      "metadata": {
        "id": "Ebl1xhKVHSsc"
      },
      "execution_count": 7,
      "outputs": []
    },
    {
      "cell_type": "markdown",
      "source": [
        "## Koder wykorzystujący ekwiwariantne sieci konwolucyjne\n",
        "\n",
        "Zbadano jakość klasyfikacji wykorzystując koder zbudowany z wykorzystaniem ekwiwariantnych sieci konwolucyjnych. Zbadano czy większy wpływ na dokładność klasyfikacji ma to czy koder jest dobrze dopasowany do próbek czy to, że jest on uczony na większej ilości danych. W tym celu najpierw przeprowadzono badania, gdzie koder był trenowany na 10 obrazach a następnie model do klasyfikacji uczono na całym zbiorze treningowym.  W drugim badaniu zarówno koder jak i model uczono na całym zbiorze treningowym."
      ],
      "metadata": {
        "id": "nLk8KQuUguMm"
      }
    },
    {
      "cell_type": "code",
      "source": [
        "class GCNNEncoder(torch.nn.Module):\n",
        "    \n",
        "    def __init__(self, latent_dim: int, N: int):\n",
        "        super(GCNNEncoder, self).__init__()\n",
        "\n",
        "        self.r2_act = gspaces.Rot2dOnR2(N=N)\n",
        "        in_type = nn.FieldType(self.r2_act, 3*[self.r2_act.trivial_repr])\n",
        "        self.in_typ = in_type\n",
        "        \n",
        "        # convolution 1\n",
        "        out_type = nn.FieldType(self.r2_act, 8*[self.r2_act.regular_repr])\n",
        "        self.block1 = nn.SequentialModule(\n",
        "            nn.R2Conv(in_type, out_type, kernel_size=3, stride=2, padding=1),\n",
        "            nn.ReLU(out_type)\n",
        "        )\n",
        "        # convolution 2\n",
        "        in_type = self.block1.out_type\n",
        "        out_type = nn.FieldType(self.r2_act, 16*[self.r2_act.regular_repr])\n",
        "        self.block2 = nn.SequentialModule(\n",
        "            nn.R2Conv(in_type, out_type, kernel_size=3, stride=2, padding=1),\n",
        "            nn.ReLU(out_type)\n",
        "        )\n",
        "       # convolution 3\n",
        "        in_type = self.block2.out_type\n",
        "        out_type = nn.FieldType(self.r2_act, 32*[self.r2_act.regular_repr])\n",
        "        self.block3 = nn.SequentialModule(\n",
        "            nn.R2Conv(in_type, out_type, kernel_size=3, stride=2, padding=1),\n",
        "            nn.ReLU(out_type)\n",
        "        )\n",
        "        # convolution 4\n",
        "        in_type = self.block3.out_type\n",
        "        out_type = nn.FieldType(self.r2_act, 64*[self.r2_act.regular_repr])\n",
        "        self.block4 = nn.SequentialModule(\n",
        "            nn.R2Conv(in_type, out_type, kernel_size=3, stride=2, padding=1),\n",
        "            nn.ReLU(out_type)\n",
        "        )\n",
        "        # convolution 5\n",
        "        in_type = self.block4.out_type\n",
        "        out_type = nn.FieldType(self.r2_act, 96*[self.r2_act.regular_repr])\n",
        "        self.block5 = nn.SequentialModule(\n",
        "            nn.R2Conv(in_type, out_type, kernel_size=3, stride=2, padding=1),\n",
        "            nn.ReLU(out_type)\n",
        "        )\n",
        "\n",
        "        self.pool = nn.PointwiseMaxPoolAntialiased(out_type, kernel_size=3)\n",
        "        self.gpool = nn.GroupPooling(out_type)\n",
        "        c = self.gpool.out_type.size\n",
        "        self.fully_net = torch.nn.Sequential(\n",
        "          torch.nn.Flatten(),\n",
        "          torch.nn.Linear(c, 128),\n",
        "          torch.nn.ReLU(True),\n",
        "          torch.nn.Linear(128, latent_dim),\n",
        "        )\n",
        "        \n",
        "    def forward(self, img: torch.Tensor) -> torch.Tensor:\n",
        "        x = nn.GeometricTensor(img, self.in_typ)\n",
        "        x = self.block1(x)\n",
        "        x = self.block2(x)\n",
        "        x = self.block3(x)\n",
        "        x = self.block4(x)\n",
        "        x = self.block5(x)\n",
        "        x = self.pool(x)\n",
        "        x = self.gpool(x)\n",
        "        x = x.tensor\n",
        "        x = self.fully_net(x.reshape(x.shape[0], -1))\n",
        "        return x"
      ],
      "metadata": {
        "id": "XY8O9xszgxg2"
      },
      "execution_count": 8,
      "outputs": []
    },
    {
      "cell_type": "code",
      "source": [
        "class Autoencoder(LightningModule):\n",
        "\n",
        "    def __init__(self, encoder: torch.nn.Module, decoder: torch.nn.Module):\n",
        "        super().__init__()\n",
        "\n",
        "        self._encoder = encoder\n",
        "        self._decoder = decoder\n",
        "\n",
        "    def forward(self, x):\n",
        "        return self._encoder(x)\n",
        "\n",
        "    def reconstruct(self, x):\n",
        "        return self._decoder(z=self(x))\n",
        "\n",
        "    def training_step(self, batch, batch_size):\n",
        "        x, _ = batch\n",
        "        xr = self.reconstruct(x)\n",
        "\n",
        "        loss = F.mse_loss(input=xr, target=x)\n",
        "        self.log(\"train/mse\", loss.detach().item())\n",
        "        return loss\n",
        "        \n",
        "    def configure_optimizers(self):\n",
        "        return torch.optim.Adam(self.parameters(), lr=1e-3)"
      ],
      "metadata": {
        "id": "N-Zfap340BV4"
      },
      "execution_count": 9,
      "outputs": []
    },
    {
      "cell_type": "code",
      "source": [
        "class CNNDecoder(torch.nn.Module):\n",
        "\n",
        "    def __init__(self, latent_dim: int):\n",
        "        super().__init__()\n",
        "\n",
        "        self._layers = torch.nn.Sequential(\n",
        "            # MLP\n",
        "            torch.nn.Linear(latent_dim, 128),\n",
        "            torch.nn.ReLU(True),\n",
        "            torch.nn.Linear(128, 96 * 3 * 3),\n",
        "            torch.nn.ReLU(True),\n",
        "            # Reshape into image\n",
        "            torch.nn.Unflatten(dim=1, unflattened_size=(96, 3, 3)),\n",
        "            # Deconvolution\n",
        "            torch.nn.ConvTranspose2d(96, 64, 3, stride=2, padding=1, output_padding=1),\n",
        "            torch.nn.ReLU(True),\n",
        "            torch.nn.ConvTranspose2d(64, 32, 3, stride=2, padding=1, output_padding=1),\n",
        "            torch.nn.ReLU(True),\n",
        "            torch.nn.ConvTranspose2d(32, 16, 3, stride=2, padding=1, output_padding=1),\n",
        "            torch.nn.ReLU(True),\n",
        "            torch.nn.ConvTranspose2d(16, 8, 3, stride=2, padding=1, output_padding=1),\n",
        "            torch.nn.ReLU(True),\n",
        "            torch.nn.ConvTranspose2d(8, 3, 3, stride=2, padding=1, output_padding=1)\n",
        "        )\n",
        "\n",
        "    def forward(self, z):\n",
        "        return self._layers(z)"
      ],
      "metadata": {
        "id": "dltWOkW60NXe"
      },
      "execution_count": 10,
      "outputs": []
    },
    {
      "cell_type": "code",
      "source": [
        "class GCNNAutoencoder(Autoencoder):\n",
        "    \n",
        "    def __init__(self, latent_dim: int):\n",
        "        super().__init__(\n",
        "            encoder=GCNNEncoder(latent_dim=latent_dim, N=8),\n",
        "            decoder=CNNDecoder(latent_dim=latent_dim),\n",
        "        )\n",
        "    "
      ],
      "metadata": {
        "id": "LLsQee-u0OsI"
      },
      "execution_count": 11,
      "outputs": []
    },
    {
      "cell_type": "markdown",
      "source": [
        "### **Badanie 1:** Koder uczony na 10 obrazach, model do klasyfikacji uczony na całym zbiorze"
      ],
      "metadata": {
        "id": "9aTOl1z6wQ2e"
      }
    },
    {
      "cell_type": "code",
      "source": [
        "gcnn_ae = GCNNAutoencoder(latent_dim=64)\n",
        "trainer = Trainer(\n",
        "    accelerator=\"gpu\",\n",
        "    max_epochs=5000,\n",
        ")\n",
        "\n",
        "train_dl = DataLoader(train_data[:10], batch_size = 64, shuffle = True)\n",
        "test_dl = DataLoader(test_data, batch_size = 128, shuffle = True)\n",
        "trainer.fit(\n",
        "    model=gcnn_ae,\n",
        "    train_dataloaders=train_dl,\n",
        "    \n",
        ")"
      ],
      "metadata": {
        "colab": {
          "base_uri": "https://localhost:8080/",
          "height": 381,
          "referenced_widgets": [
            "f78b5348aad04e44ab1a07919a002dfd",
            "17fed5c6d7d0444b82b97d9a654b5f5a",
            "6a41e112bf7140beb73b61f097d77b14",
            "a498a705a35c414b9c2e5b0249aa71eb",
            "c05e39f6e1e14253b992b238e4c3b4ea",
            "dd71ef16dc9a48ebad9d66e819aacc6f",
            "95fcb21348fc4c95956e0d2c433e312c",
            "0ce2372699244bffb240da4f992209d8",
            "9c8a85f819bd43769d99237c9080fec6",
            "eed6c91582c34856af790c76fce32dcd",
            "cc3d6e2fe32d45399ebd779dfaccec28"
          ]
        },
        "id": "Jw2gr17s0SQW",
        "outputId": "055865e4-5bbe-4c0d-eb5c-3446e3b4b2e7"
      },
      "execution_count": 46,
      "outputs": [
        {
          "output_type": "stream",
          "name": "stderr",
          "text": [
            "INFO:pytorch_lightning.utilities.rank_zero:GPU available: True (cuda), used: True\n",
            "INFO:pytorch_lightning.utilities.rank_zero:TPU available: False, using: 0 TPU cores\n",
            "INFO:pytorch_lightning.utilities.rank_zero:IPU available: False, using: 0 IPUs\n",
            "INFO:pytorch_lightning.utilities.rank_zero:HPU available: False, using: 0 HPUs\n",
            "INFO:pytorch_lightning.accelerators.cuda:LOCAL_RANK: 0 - CUDA_VISIBLE_DEVICES: [0]\n",
            "INFO:pytorch_lightning.callbacks.model_summary:\n",
            "  | Name     | Type        | Params\n",
            "-----------------------------------------\n",
            "0 | _encoder | GCNNEncoder | 444 K \n",
            "1 | _decoder | CNNDecoder  | 199 K \n",
            "-----------------------------------------\n",
            "644 K     Trainable params\n",
            "0         Non-trainable params\n",
            "644 K     Total params\n",
            "2.578     Total estimated model params size (MB)\n",
            "/usr/local/lib/python3.8/dist-packages/pytorch_lightning/trainer/trainer.py:1595: PossibleUserWarning: The number of training batches (1) is smaller than the logging interval Trainer(log_every_n_steps=50). Set a lower value for log_every_n_steps if you want to see logs for the training epoch.\n",
            "  rank_zero_warn(\n"
          ]
        },
        {
          "output_type": "display_data",
          "data": {
            "text/plain": [
              "Training: 0it [00:00, ?it/s]"
            ],
            "application/vnd.jupyter.widget-view+json": {
              "version_major": 2,
              "version_minor": 0,
              "model_id": "f78b5348aad04e44ab1a07919a002dfd"
            }
          },
          "metadata": {}
        },
        {
          "output_type": "stream",
          "name": "stderr",
          "text": [
            "INFO:pytorch_lightning.utilities.rank_zero:`Trainer.fit` stopped: `max_epochs=5000` reached.\n"
          ]
        }
      ]
    },
    {
      "cell_type": "code",
      "source": [
        "class ClassificationGCNNEncoder(torch.nn.Module):\n",
        "    \n",
        "    def __init__(self, latent_dim: int, N: int):\n",
        "        super().__init__()\n",
        "        self.gce = gcnn_ae._encoder\n",
        "        for param in self.gce.parameters():\n",
        "          param.requires_grad = True;\n",
        "        self.mlp=torch.nn.Sequential(\n",
        "          torch.nn.ReLU(),\n",
        "          torch.nn.Linear(64, 32),\n",
        "          torch.nn.ReLU(),\n",
        "          torch.nn.Linear(32, 1),\n",
        "          torch.nn.Sigmoid()\n",
        "        )\n",
        "      \n",
        "\n",
        "    def forward(self, img: torch.Tensor) -> torch.Tensor:\n",
        "      x = self.gce(img)\n",
        "      x = self.mlp(x)\n",
        "      return x "
      ],
      "metadata": {
        "id": "gJ7t31FZiqji"
      },
      "execution_count": 41,
      "outputs": []
    },
    {
      "cell_type": "code",
      "source": [
        "model = ClassificationGCNNEncoder(latent_dim=64, N=8)\n",
        "\n",
        "loss_fc = torch.nn.BCELoss()\n",
        "optimizer = optim.Adam(model.parameters(), lr=0.001)\n",
        "\n",
        "\n",
        "train_dl = DataLoader(train_data, batch_size = 128, shuffle = True)\n",
        "\n",
        "for epoch in range(10):  \n",
        "    model.train()\n",
        "    running_loss = 0.0\n",
        "    running_acc = 0.0\n",
        "    for i, data in enumerate(train_dl, 0):\n",
        "        inputs, labels = data\n",
        "        labels = labels.to(torch.float)\n",
        "        optimizer.zero_grad()\n",
        "\n",
        "        preds = model(inputs)\n",
        "        loss = loss_fc(preds.reshape(preds.shape[0]), labels)\n",
        "\n",
        "        loss.backward()\n",
        "        optimizer.step()\n",
        "\n",
        "        accuracy = torchmetrics.Accuracy(task='binary')\n",
        "        acc = accuracy(preds.reshape(preds.shape[0]), labels)\n",
        "\n",
        "        # print statistics\n",
        "        running_loss += loss\n",
        "        running_acc += acc\n",
        "\n",
        "    print(\n",
        "         f\"Epoch {epoch}: \"\n",
        "         f\"train loss = {running_loss / 8:.3f} (acc: {running_acc /8:.3f}), \"\n",
        "        )\n"
      ],
      "metadata": {
        "colab": {
          "base_uri": "https://localhost:8080/"
        },
        "id": "d1x-vbLN1Loi",
        "outputId": "6b4bb3eb-eb44-4557-b015-ab19967d8e76"
      },
      "execution_count": 47,
      "outputs": [
        {
          "output_type": "stream",
          "name": "stdout",
          "text": [
            "Epoch 0: train loss = 0.697 (acc: 0.525), \n",
            "Epoch 1: train loss = 0.677 (acc: 0.567), \n",
            "Epoch 2: train loss = 0.666 (acc: 0.609), \n",
            "Epoch 3: train loss = 0.645 (acc: 0.618), \n",
            "Epoch 4: train loss = 0.595 (acc: 0.696), \n",
            "Epoch 5: train loss = 0.523 (acc: 0.753), \n",
            "Epoch 6: train loss = 0.457 (acc: 0.805), \n",
            "Epoch 7: train loss = 0.375 (acc: 0.858), \n",
            "Epoch 8: train loss = 0.303 (acc: 0.893), \n",
            "Epoch 9: train loss = 0.235 (acc: 0.920), \n"
          ]
        }
      ]
    },
    {
      "cell_type": "code",
      "source": [
        "total = 0\n",
        "acc = 0\n",
        "\n",
        "with torch.no_grad():\n",
        "    for data in test_dl:\n",
        "        images, labels = data\n",
        "        outputs = model(images)\n",
        "        total += 1\n",
        "        accuracy = torchmetrics.Accuracy(task='binary')\n",
        "        acc += accuracy(outputs.reshape(outputs.shape[0]), labels)\n",
        "\n",
        "print(f'Zbiór testowy: accuracy =  {100 * acc / total} %')"
      ],
      "metadata": {
        "colab": {
          "base_uri": "https://localhost:8080/"
        },
        "id": "8ndmpQPGDVFq",
        "outputId": "89481b86-d1af-46b8-8ae1-1a12e5f2d583"
      },
      "execution_count": 48,
      "outputs": [
        {
          "output_type": "stream",
          "name": "stdout",
          "text": [
            "Zbiór testowy: accuracy =  70.25240325927734 %\n"
          ]
        }
      ]
    },
    {
      "cell_type": "markdown",
      "source": [
        "### **Badanie 2:** Zarówno koder jak i model do klasyfikacji trenowane na całym zbiorze"
      ],
      "metadata": {
        "id": "FaGSvIE4yfnM"
      }
    },
    {
      "cell_type": "code",
      "source": [
        "gcnn_ae = GCNNAutoencoder(latent_dim=64)\n",
        "trainer = Trainer(\n",
        "    accelerator=\"gpu\",\n",
        "    max_epochs=5000,\n",
        ")\n",
        "\n",
        "train_dl = DataLoader(train_data, batch_size = 128, shuffle = True)\n",
        "test_dl = DataLoader(test_data, batch_size = 128, shuffle = True)\n",
        "trainer.fit(\n",
        "    model=gcnn_ae,\n",
        "    train_dataloaders=train_dl,\n",
        "    \n",
        ")"
      ],
      "metadata": {
        "colab": {
          "base_uri": "https://localhost:8080/",
          "height": 327,
          "referenced_widgets": [
            "9877b1f5741341c8af5cd683b5a26a93",
            "7d2b3fba839744f2aba9c959a9eb57ae",
            "7bfd08f98e8c4824a8009525d251e011",
            "79b79e3c89f24130878dddc1390464a5",
            "e5aae2469db446c281ed81430c01fc27",
            "dacf9742e832415884eab9638e193781",
            "e2087b25bddb40e09038ff5ee43fb489",
            "92070466096542b39fd216459bd299b0",
            "59444444444545a4b0279765a90cb539",
            "f1e675e2baa14ade9faa9e7d372ba3c6",
            "2e0e1cf3a5f3455084191bbd4553b5e5"
          ]
        },
        "id": "TGo-BbuxyhBe",
        "outputId": "25c7d03d-43c9-4175-9363-5d4e6ad243dc"
      },
      "execution_count": 49,
      "outputs": [
        {
          "output_type": "stream",
          "name": "stderr",
          "text": [
            "INFO:pytorch_lightning.utilities.rank_zero:GPU available: True (cuda), used: True\n",
            "INFO:pytorch_lightning.utilities.rank_zero:TPU available: False, using: 0 TPU cores\n",
            "INFO:pytorch_lightning.utilities.rank_zero:IPU available: False, using: 0 IPUs\n",
            "INFO:pytorch_lightning.utilities.rank_zero:HPU available: False, using: 0 HPUs\n",
            "INFO:pytorch_lightning.accelerators.cuda:LOCAL_RANK: 0 - CUDA_VISIBLE_DEVICES: [0]\n",
            "INFO:pytorch_lightning.callbacks.model_summary:\n",
            "  | Name     | Type        | Params\n",
            "-----------------------------------------\n",
            "0 | _encoder | GCNNEncoder | 444 K \n",
            "1 | _decoder | CNNDecoder  | 199 K \n",
            "-----------------------------------------\n",
            "644 K     Trainable params\n",
            "0         Non-trainable params\n",
            "644 K     Total params\n",
            "2.578     Total estimated model params size (MB)\n"
          ]
        },
        {
          "output_type": "display_data",
          "data": {
            "text/plain": [
              "Training: 0it [00:00, ?it/s]"
            ],
            "application/vnd.jupyter.widget-view+json": {
              "version_major": 2,
              "version_minor": 0,
              "model_id": "9877b1f5741341c8af5cd683b5a26a93"
            }
          },
          "metadata": {}
        },
        {
          "output_type": "stream",
          "name": "stderr",
          "text": [
            "INFO:pytorch_lightning.utilities.rank_zero:`Trainer.fit` stopped: `max_epochs=5000` reached.\n"
          ]
        }
      ]
    },
    {
      "cell_type": "code",
      "source": [
        "model = ClassificationGCNNEncoder(latent_dim=64, N=8)\n",
        "\n",
        "loss_fc = torch.nn.BCELoss()\n",
        "optimizer = optim.Adam(model.parameters(), lr=0.001)\n",
        "\n",
        "\n",
        "train_dl = DataLoader(train_data, batch_size = 128, shuffle = True)\n",
        "\n",
        "for epoch in range(10):  \n",
        "    model.train()\n",
        "    running_loss = 0.0\n",
        "    running_acc = 0.0\n",
        "    for i, data in enumerate(train_dl, 0):\n",
        "        inputs, labels = data\n",
        "        labels = labels.to(torch.float)\n",
        "        optimizer.zero_grad()\n",
        "\n",
        "        preds = model(inputs)\n",
        "        loss = loss_fc(preds.reshape(preds.shape[0]), labels)\n",
        "\n",
        "        loss.backward()\n",
        "        optimizer.step()\n",
        "\n",
        "        accuracy = torchmetrics.Accuracy(task='binary')\n",
        "        acc = accuracy(preds.reshape(preds.shape[0]), labels)\n",
        "\n",
        "        # print statistics\n",
        "        running_loss += loss\n",
        "        running_acc += acc\n",
        "\n",
        "    print(\n",
        "         f\"Epoch {epoch}: \"\n",
        "         f\"train loss = {running_loss / 8:.3f} (acc: {running_acc /8:.3f}), \"\n",
        "        )"
      ],
      "metadata": {
        "colab": {
          "base_uri": "https://localhost:8080/"
        },
        "id": "hX8CxeEey7Wu",
        "outputId": "b4d66fab-92ac-4525-8771-c41611a3b153"
      },
      "execution_count": 50,
      "outputs": [
        {
          "output_type": "stream",
          "name": "stdout",
          "text": [
            "Epoch 0: train loss = 0.708 (acc: 0.489), \n",
            "Epoch 1: train loss = 0.665 (acc: 0.627), \n",
            "Epoch 2: train loss = 0.618 (acc: 0.684), \n",
            "Epoch 3: train loss = 0.559 (acc: 0.696), \n",
            "Epoch 4: train loss = 0.478 (acc: 0.793), \n",
            "Epoch 5: train loss = 0.370 (acc: 0.863), \n",
            "Epoch 6: train loss = 0.281 (acc: 0.902), \n",
            "Epoch 7: train loss = 0.159 (acc: 0.956), \n",
            "Epoch 8: train loss = 0.069 (acc: 0.990), \n",
            "Epoch 9: train loss = 0.027 (acc: 0.997), \n"
          ]
        }
      ]
    },
    {
      "cell_type": "code",
      "source": [
        "total = 0\n",
        "acc = 0\n",
        "\n",
        "with torch.no_grad():\n",
        "    for data in test_dl:\n",
        "        images, labels = data\n",
        "        outputs = model(images)\n",
        "        total += 1\n",
        "        accuracy = torchmetrics.Accuracy(task='binary')\n",
        "        acc += accuracy(outputs.reshape(outputs.shape[0]), labels)\n",
        "\n",
        "print(f'Zbiór testowy: accuracy =  {100 * acc / total} %')"
      ],
      "metadata": {
        "colab": {
          "base_uri": "https://localhost:8080/"
        },
        "id": "FA3CUFvbzGRq",
        "outputId": "4e8a545a-0b61-4fa6-eb34-7145d89940fa"
      },
      "execution_count": 51,
      "outputs": [
        {
          "output_type": "stream",
          "name": "stdout",
          "text": [
            "Zbiór testowy: accuracy =  71.05619049072266 %\n"
          ]
        }
      ]
    },
    {
      "cell_type": "markdown",
      "source": [
        "### Podsumowanie badań \n",
        "\n"
      ],
      "metadata": {
        "id": "DmVFpmAjO0PD"
      }
    },
    {
      "cell_type": "markdown",
      "source": [
        "![image.png](data:image/png;base64,iVBORw0KGgoAAAANSUhEUgAAAO4AAAB5CAYAAAA+jR3ZAAAAAXNSR0IArs4c6QAAAARnQU1BAACxjwv8YQUAAAAJcEhZcwAADsMAAA7DAcdvqGQAAA7FSURBVHhe7Z3da11ZGcZPvNc7xenE0EnC3Aij4FCdoZ2LGUh6IzNKhbaiRB2iiTiolFakyqBFpqGojJg6ZdSg2BQMOoM3TWFu2lKlDKKCFyNJJsROR/Ru/oF4fiv7Sd8szjk5+TgnZyXPD1b22h9n77Xf9T7vu9Y+H+lbrVMzxhTF+6qlMaYgLFxjCsTCNaZALFxjCsTCNaZALFxjCsTCNaZALFxjCsTCNaZALFxjCsTCNaZALFxjCsTCNaZALFxjCsTCNaZALFxjCsTCNaZALFxjCsTCNaZALFxjCsTCNaZALFxjCsTCNaZALFxjCsTCPQDcvn271tfXVzt+/Hi1xZSOhdvjTE1NJdFdu3at2rJ9BgcHq5qJENCw8dLSUrVle9BHnIc+6zQW7gHg6NGjNf7TzPT0dLXFFA//O8jsnImJCf4H03q5detWtWc11eO+xcXFtJ1l3B5fA/k5KbxmdHR0dWhoaH3/xYsX0/Es47Gzs7Npu67P60Cvi+3ifL0ObVR7KZF47/FesEGz10B+zvjaZtfL+4313PaUvD93Ewt3F0AIEg/QaXIAiYNjtE5dnS8xSZA5cgiJEDguXgM4TtcAOR00E67W5dzxHnoN7kdCyG2a24h16vl9sd7oHmVP+kBE+wF12UvHQ+y3btrRwu0AsdMlEjmdyJ2tGY2Ok+Pk54xEZ2wmXJ0zF0Kvkwe9XGQi2qAV+XGN7CGbcYyul/ddN4XrOe4uwEMNHkqo1Du32tNdYhvm5+erre2z04cznUQPfih14VRbO8vly5fXr0ld3LhxIy1PnTqV9nXjYVSOhbsLjIyMJGeqB8JUuuVYEb3VozbUs0ha3w8QUBBJPeule+tWYNT1YuHJPEXrcO7cubTsJhbuLhAdCSeL66dPn07Lq1evpiX7JycnaydOnEjrMzMzaQmN3mcdGBhIy5WVlbRsxsLCQlVbYzsZt1e5f/9+VVvj7t27VW2N8fHxtNRbZiwpY2NjaX1ubi4teT+7UXbU22S6Dk/hCb4xy0aGh4erWm1DgOzv70/L5eXltOwo9ahhdojmNiqaM4l8v9BcSoX5UyM0p9IxOn+c4+bnivM27WMbaL6Wz3G1vxdRmynYgxLbG/fH7XpGoNc1Ahs1OkbbVHTevD9jP3BMo+27TR9/6hcxxhSEh8rGFIiFa0yBWLjGFIiFa0yB9K2+Ne6HU8aUwKOvVBVnXGOKpG/1vTcPZsZ990qt9tDaG/dml7FtO8P7P1FVnHGNKRIL15gCsXCNKZCuCff2n/9W6/vA47XJb79Ubdk+nINzXZtb+3rVQWNp+Z10/43siU2Of+Yb1ZrpBLJ9bmd8fPhjz1VrnaWlcGmYGqnSS2Lpf/hDVa1Mpn76m6a2VaBT4Vgx+a2XarO/+lFt9b03a5dfnUtCBpanvvzd2vU//iyt7zcQRbSJiuwWAxqlVZLIbY+9BeeL+yg6F8uLP3gh2X5h6d8bXnds9Pnajdd/Xq11lpbCpWGw+I/XU0NHn3kiOUZs7F4w/ePvpPYcfeLj1ZbywDnOff/lddvemn812VYiHPvaixv2cazsTr8oaNEn99/9X6ojaI7dryz8/bVkDxXd68kTI2k59Niz66KiENRiwBPY+Mqv/7B+HK9BdJGhR/rX91PwOVh6+53aQP+HU33kmU/V7r3z31RH0ATTwcMPp/VOs6Wh8uAja41SYyGPgpGYsa/+/nq19QF5RpfTKhrmWUdgJNZjhmrVjl7k5p2/1iaeP7He0QQhRDj32htpHSeN+3Ak2X148CPrdUR86KEPJpvRPyUHs61yYeqXyYaAL2Cjs9/8YloHBIlAc7Ar9hUnnnsmLeV/rcDGK/f+k+qImADKtakrgHSDLQn3xht/Scsjj380LRHLzC9eTBFJ0U9DChxp/o0/rw/p9FqBaMc+/+m0j8wCZIwIWafRuXNox+Lb99KxFMjnH73G4YFDKSNEcIrllY1fGhfcn7Ls+bNfSdmZADX+pc+mjIuDKiscBAjq+NeZF76Q1hETAS1CZsRum6ERS8yWvK5RIuB6jH7YRn8RNPdietKWcBmC0FBuJmYJopYiPDcARB5QpFMUQuARblT71s9XDc0FTgn5uSN0oNolqNOp7UTQvYLMQIaNzpELWRCwOFa2ZqkgxXkIcNhXIxFKL9/7bqBsG8WW0+4zEOxHdhb4pexLwfYkB+B62k6g1POGOGfuxlSyLeFqrkUDcS5lsziJR9xbodkwuBW5sCO0S+dqJoBeg+AlJ6DgIGTiCDbmfppFdMRKgCO4MapRP+Wjl/0EQYnAfPpzrf+lSpzSNQP7kanjEDuHEQ7JIQ+Gmp4gdLIwtmd0SCDoNFsaKitDIiBugiECUY8Ga7jbLjwMwFHltDtF7YilVTTuNeSMT37ysWrLmmixcTPbEvwYheB0DPc0VCz9aftmXHr5txtGIMCwOA/sDJ85rhmIlmDX7jA3+hP9pekJdebXoNFhp9mScDUE4Gma5gXi7pv/rGprcAzgfBCjUB65djK0oPMwWilZthkjz359gzMSzRFtqwBE8Jv+ydq8FodB+NBOpikVfIe+JgtGeO5CVpS/AVmQ5yig0aFg1EjQiw+phIbFAt+NUzGgvzT9o3+UkXNddIqWwlUE1xwXR+EGiDI4GHUNUc//cHo96gDHsK6HKBe+N1ntWbtR5hQ4ms7bKjJuhozPuVR6/eGUHEkFW8fIj9PBhmOCQ3F/8e0HlvQHx2FzCXq/QbbFr2K2Be6fYar8jYKPaZRI9pV/kijwPfmfChkYmHrE7SSh+OBP05PYBq6FTvDl/HlOJ/C3g8zu04O2JeiRPCTkIvG3g8xBgtENI5qiRZth4Zp9D4Jt9wFUKVi4xhSIhWtMgVi4xhSIhWtMgVi4xhSIhWtMgeyZcPWplJ183NGYg0rXhZt/ZtQYs3W6LtyZ3/0pfa5zJ59NNuag03Xh8gmWVt99NMZsjh9OGVMgFq4xBWLhGlMgFq4xBdJ14fLLDbwdpJ9Z4RcDWM9/zsYY0xz/AobZfWzbzuBfwDCmbCxcYwrEwjWmQPpW3xo/mHNcY0rj0VeqCsKtU9UPFv/66gZDmF3Etu04HiobUyAWrjEF0jXh3r59u9bX11ebnHzwr0i2C+fgXNeuXau2mEYMDw8nO7GMLC0tpe1me2A7yvHjG/9bID6e27pTtBQuDVMjVXpJLP39D/5XUa+R2w6xCGwY901NTVV7NqJg16gIBTEVXYdzjoyM1HiEgTPFfmP7rVu3qrVyUCDKS7w32XazBKHgpRKPz/sn7md58eLFZNeFhYXUR+LYsWO1Gzce/NOxTtJSuDQMFhcXU0NHR0drp06d2tDYvWB6ejq15+jRo9WW3oLOxXa0kUJHIxbAdtgQ4bAP2547d66hTbk/nUNlYmIiFUCcly9fXt/HdYaGhtK+5eXl2uHDh1P96aefrq2srKQ6rxkfH+9Z27Ui2pSi4HPy5Mm0RNg3b95ct08rsJMESMGOMYCyP14LnwMEPzAwkOr06b17a//xnj6fnZ2tDQ4OpvVOs6WhshqlxkIeBSMx61y9erXa+oBmWQkDsp5nHIGRWI+RtlU7ug1R98KFC9VarXb27NkkUO7nzp07KQBKONgUR2tknxzsg4OdPn06rV+5ciU5i+A6gF0QLeIFljgb1+c1Oq50sHEUKcKWwFqBfRBmtAMixjabQX8pCNIfjPo4H3UFkG6wJeFqGHDkyJG0RCwzMzMpIin6aUiB+Obn55NjsT8fQiDasbGxtA+nBr1WaH9+7hzaoVEBBTj/XiG7RHAUAh4Cwi4KUoDI4nozLl26tEH03HM+XeA6OBZOicgJYnKqbg7lOg1BCDueOXOm2tI+2Ic+itAv8kOg3igRcD1GSGxDxIcOHUojqOvXr1dHdIe2hIsz0FBuhginzEuEkxNxAyAHVPRSFModmRvVvni+CEM6yM8doQPVLkE9F0c34d64fux4OQX3TPtkUwqOsBncC0I8f/58taUx0SEVyGgPQY+scvfu3fXrxhFLaSjbynd2SgyA9JFsRyFYyq5cT9vJ7tiV5KRRIgWf7DRtCReno6E0EOdRNqPj1VgccStwc3otpR1yYUeUXSjU9xp1rgrIOTRHV2nHAefm5pKNN5ubNrKRhnJkYYRPf1LIFCXCvRAYNWXYDeL0L0c2yxMBYqXfEDrBl75kdMhIsdNsaaisDIlzcBN0PE5Hg5VR2oVhG5FMzrtT1I5Ydisa7xRltmaiI9A89dRT1VpjcIw4bwaEnDsc/fDkk09Wa2vEoRz7sUuv2GY75FOGrcKwOA9wDJ85ZyuizfB/RpUEYepKXBoddpotCVdDAJ6m3b9/P9UFQ7CInqLKaWMUyiPXToYWdB5G64Us2wgFOIapjWD0QvsVFDUSiTYissdjBDaOQ2cdFx2a88cHWOznGnkflALtpq83mzLkaHQIPKMhgMk3gcAoH83nv2wnMUSwvaZ/CFoZOddFx6hnpqbUIxCpcEOp30C1dzXVtb3uEKnwGsG69tedZ8Pr6468vo/C6zg+7mMJdaOkde3XdTmn0HlUYjsa8tZ4Vdl9ol0oug+oD6U27NM9Cdkpkp8jkvdRhNfE/gKdnxLtt6t02La5zUT0N5Xob/F1eT9E+1KP+3Ibsp73R3wN5+40/pJBj0GG5H3Xot+y6UHbkkWZauSjllLZ0lDZdBaGsMy99sv7rL0CQ2KEu19EC864ZvexbTuOM64xBWLhGlMgFq4xBWLhGlMgFq4xBWLhGlMgeyJcfRmAkn+8zBizOV0VLp/lRKy8dUyZmJhIn/Fs9j1bY0xjuipcPowdP++hb8SU+oF3Y/aKPZ3j6idASv6KmTF7wZ4KV7/8sJ2fHzHmILNnwtVDKX4xwBnXmK2xJ8JFtDyUmp2d3favGBhzkOm6cPm+KaIl0+6nr1kZ0026Kly+b8qPfAG/ORXfz/WTZWPap6vCZVis93Dz4nmuMe2zZw+njDHbx8I1pkD6+EW+qm6M6WXCzwEd3N+cMqZgPFQ2pkAsXGMKxMI1pkAsXGMKxMI1pkAsXGOKo1b7PxFJsyMUkGt9AAAAAElFTkSuQmCC)"
      ],
      "metadata": {
        "id": "_a9oLA2aPj4w"
      }
    },
    {
      "cell_type": "markdown",
      "source": [
        "Uczenie kodera i modelu na całym zbiorze treningowym pozwoliło na uzyskanie lepszych wyników. Uzyskane w badaniu 2 wyniki nie różnią się znacząco od wyników uzyskanych w badaniu 1. Przy czym badanie 1 wykonuje się dużo krócej niż badanie 2. "
      ],
      "metadata": {
        "id": "PUlHYoaOPl61"
      }
    },
    {
      "cell_type": "markdown",
      "source": [
        "## Koder wykorzystujący sieci konwolucyjne\n",
        "\n",
        "Zbadano jakość klasyfikacji wykorzystując koder zbudowany z wykorzystaniem  sieci konwolucyjnych. Przeprowadzono badania analogiczne jak w przypadku poprzedniego kodera. Zbadano czy większy wpływ na dokładność klasyfikacji ma to czy koder jest dobrze dopasowany do próbek czy to, że jest on uczony na większej ilości danych. W tym celu najpierw przeprowadzono badania, gdzie koder był trenowany na 10 obrazach a następnie model do klasyfikacji uczono na całym zbiorze treningowym.  W drugim badaniu zarówno koder jak i model uczono na całym zbiorze treningowym.\n"
      ],
      "metadata": {
        "id": "E_KbPCRmD6RN"
      }
    },
    {
      "cell_type": "code",
      "source": [
        "class CNNEncoder(torch.nn.Module):\n",
        "\n",
        "    def __init__(self, latent_dim: int):\n",
        "        super().__init__()\n",
        "\n",
        "        self._layers = torch.nn.Sequential(\n",
        "            # Convolution\n",
        "            torch.nn.Conv2d(3, 8, 3, stride=2, padding=1),\n",
        "            torch.nn.ReLU(True),\n",
        "            torch.nn.Conv2d(8, 16, 3, stride=2, padding=1),\n",
        "            torch.nn.ReLU(True),\n",
        "            torch.nn.Conv2d(16, 32, 3, stride=2, padding=1),\n",
        "            torch.nn.ReLU(True),\n",
        "            torch.nn.Conv2d(32, 64, 3, stride=2, padding=1),\n",
        "            torch.nn.ReLU(True),\n",
        "            torch.nn.Conv2d(64, 96, 3, stride=2, padding=1),\n",
        "            torch.nn.ReLU(True),\n",
        "            # Invariant pooling\n",
        "            torch.nn.MaxPool2d(kernel_size=3),\n",
        "            # Flattening\n",
        "            torch.nn.Flatten(),\n",
        "            # MLP\n",
        "            torch.nn.Linear(96, 128),\n",
        "            torch.nn.ReLU(True),\n",
        "            torch.nn.Linear(128, latent_dim),\n",
        "        )\n",
        "\n",
        "    def forward(self, img):\n",
        "        return self._layers(img)"
      ],
      "metadata": {
        "id": "3OOrh7kyD8Ph"
      },
      "execution_count": 52,
      "outputs": []
    },
    {
      "cell_type": "code",
      "source": [
        "class CNNAutoencoder(Autoencoder):\n",
        "\n",
        "    def __init__(self, latent_dim: int):\n",
        "        super().__init__(\n",
        "            encoder=CNNEncoder(latent_dim=latent_dim),\n",
        "            decoder=CNNDecoder(latent_dim=latent_dim),\n",
        "        )"
      ],
      "metadata": {
        "id": "TEGEbSQ1ENmq"
      },
      "execution_count": 53,
      "outputs": []
    },
    {
      "cell_type": "markdown",
      "source": [
        "### **Badanie 1:** Koder uczony na 10 obrazach, model do klasyfikacji uczony na całym zbiorze"
      ],
      "metadata": {
        "id": "_L8eKLwEzJOG"
      }
    },
    {
      "cell_type": "code",
      "source": [
        "conv_ae = CNNAutoencoder(latent_dim=64)\n",
        "trainer = Trainer(\n",
        "    accelerator=\"gpu\",\n",
        "    max_epochs=5000,\n",
        ")\n",
        "\n",
        "train_dl = DataLoader(train_data[:10], batch_size = 64, shuffle = True)\n",
        "test_dl = DataLoader(test_data, batch_size = 128, shuffle = True)\n",
        "trainer.fit(\n",
        "    model=conv_ae,\n",
        "    train_dataloaders=train_dl,\n",
        ")"
      ],
      "metadata": {
        "colab": {
          "base_uri": "https://localhost:8080/",
          "height": 327,
          "referenced_widgets": [
            "c1062dabe5c74aafa1552602779985c3",
            "e79193380ca2447689cf2050afb1646c",
            "8b31142edc3d47a7915d00f319072f83",
            "e176402e813446bab54f11c195ba05bb",
            "0f31e6d8fc404c67a1851fc7b4c3ee45",
            "3319670d625c45fe93e1473a3d401dcb",
            "87da581a14e84ca7a7a84bafaa8f42f0",
            "fe978e444ec34f0bb10f476902d42969",
            "3d02365517a3431c9fbf5c3daf5030df",
            "8413f757773e401c8b93828de9b9a718",
            "952f792b03e843929878bfa5667c79b3"
          ]
        },
        "id": "LeBlVxklEPaF",
        "outputId": "5c836bd5-03f3-41ae-b303-32b853a167dc"
      },
      "execution_count": 54,
      "outputs": [
        {
          "output_type": "stream",
          "name": "stderr",
          "text": [
            "INFO:pytorch_lightning.utilities.rank_zero:GPU available: True (cuda), used: True\n",
            "INFO:pytorch_lightning.utilities.rank_zero:TPU available: False, using: 0 TPU cores\n",
            "INFO:pytorch_lightning.utilities.rank_zero:IPU available: False, using: 0 IPUs\n",
            "INFO:pytorch_lightning.utilities.rank_zero:HPU available: False, using: 0 HPUs\n",
            "INFO:pytorch_lightning.accelerators.cuda:LOCAL_RANK: 0 - CUDA_VISIBLE_DEVICES: [0]\n",
            "INFO:pytorch_lightning.callbacks.model_summary:\n",
            "  | Name     | Type       | Params\n",
            "----------------------------------------\n",
            "0 | _encoder | CNNEncoder | 100 K \n",
            "1 | _decoder | CNNDecoder | 199 K \n",
            "----------------------------------------\n",
            "300 K     Trainable params\n",
            "0         Non-trainable params\n",
            "300 K     Total params\n",
            "1.201     Total estimated model params size (MB)\n"
          ]
        },
        {
          "output_type": "display_data",
          "data": {
            "text/plain": [
              "Training: 0it [00:00, ?it/s]"
            ],
            "application/vnd.jupyter.widget-view+json": {
              "version_major": 2,
              "version_minor": 0,
              "model_id": "c1062dabe5c74aafa1552602779985c3"
            }
          },
          "metadata": {}
        },
        {
          "output_type": "stream",
          "name": "stderr",
          "text": [
            "INFO:pytorch_lightning.utilities.rank_zero:`Trainer.fit` stopped: `max_epochs=5000` reached.\n"
          ]
        }
      ]
    },
    {
      "cell_type": "code",
      "source": [
        "class ClassificationCNNEncoder(torch.nn.Module):\n",
        "    \n",
        "    def __init__(self, latent_dim: int, N: int):\n",
        "        super().__init__()\n",
        "        self.gce = conv_ae._encoder\n",
        "        for param in self.gce.parameters():\n",
        "          param.requires_grad = True;\n",
        "        self.mlp=torch.nn.Sequential(\n",
        "          torch.nn.ReLU(),\n",
        "          torch.nn.Linear(64, 32),\n",
        "          torch.nn.ReLU(),\n",
        "          torch.nn.Linear(32, 1),\n",
        "          torch.nn.Sigmoid()\n",
        "        )\n",
        "        self.float()\n",
        "\n",
        "    def forward(self, img: torch.Tensor) -> torch.Tensor:\n",
        "      x = self.gce(img)\n",
        "      x = self.mlp(x)\n",
        "      return x "
      ],
      "metadata": {
        "id": "kctjMVvNERb3"
      },
      "execution_count": 55,
      "outputs": []
    },
    {
      "cell_type": "code",
      "source": [
        "model = ClassificationCNNEncoder(latent_dim=64, N=8)\n",
        "loss_fc = torch.nn.BCELoss()\n",
        "optimizer = optim.Adam(model.parameters(), lr=0.001)\n",
        "\n",
        "\n",
        "train_dl = DataLoader(train_data, batch_size = 128, shuffle = True)\n",
        "\n",
        "for epoch in range(10):  \n",
        "    model.train()\n",
        "    running_loss = 0.0\n",
        "    running_acc = 0.0\n",
        "    for i, data in enumerate(train_dl, 0):\n",
        "        inputs, labels = data\n",
        "        labels = labels.to(torch.float)\n",
        "        optimizer.zero_grad()\n",
        "\n",
        "        preds = model(inputs)\n",
        "        loss = loss_fc(preds.reshape(preds.shape[0]), labels)\n",
        "\n",
        "        loss.backward()\n",
        "        optimizer.step()\n",
        "\n",
        "        accuracy = torchmetrics.Accuracy(task='binary')\n",
        "        acc = accuracy(preds.reshape(preds.shape[0]), labels)\n",
        "\n",
        "        # print statistics\n",
        "        running_loss += loss\n",
        "        running_acc += acc\n",
        "\n",
        "    print(\n",
        "         f\"Epoch {epoch}: \"\n",
        "         f\"train loss = {running_loss / 8:.3f} (acc: {running_acc /8:.3f}), \"\n",
        "        )"
      ],
      "metadata": {
        "colab": {
          "base_uri": "https://localhost:8080/"
        },
        "id": "78_VZNlpEaRM",
        "outputId": "dcc01b34-59c1-45e8-8174-03bcfb5e8a51"
      },
      "execution_count": 59,
      "outputs": [
        {
          "output_type": "stream",
          "name": "stdout",
          "text": [
            "Epoch 0: train loss = 0.694 (acc: 0.520), \n",
            "Epoch 1: train loss = 0.692 (acc: 0.520), \n",
            "Epoch 2: train loss = 0.692 (acc: 0.518), \n",
            "Epoch 3: train loss = 0.692 (acc: 0.519), \n",
            "Epoch 4: train loss = 0.692 (acc: 0.520), \n",
            "Epoch 5: train loss = 0.692 (acc: 0.519), \n",
            "Epoch 6: train loss = 0.692 (acc: 0.519), \n",
            "Epoch 7: train loss = 0.691 (acc: 0.573), \n",
            "Epoch 8: train loss = 0.691 (acc: 0.524), \n",
            "Epoch 9: train loss = 0.691 (acc: 0.522), \n"
          ]
        }
      ]
    },
    {
      "cell_type": "code",
      "source": [
        "total = 0\n",
        "acc = 0\n",
        "\n",
        "with torch.no_grad():\n",
        "    for data in test_dl:\n",
        "        images, labels = data\n",
        "        outputs = model(images)\n",
        "        total += 1\n",
        "        accuracy = torchmetrics.Accuracy(task='binary')\n",
        "        acc += accuracy(outputs.reshape(outputs.shape[0]), labels)\n",
        "\n",
        "print(f'Zbiór testowy: accuracy =  {100 * acc / total} %')"
      ],
      "metadata": {
        "colab": {
          "base_uri": "https://localhost:8080/"
        },
        "id": "OxKhvPICEkhi",
        "outputId": "85bda9e1-4bb4-478e-b7c7-e17cf367d005"
      },
      "execution_count": 60,
      "outputs": [
        {
          "output_type": "stream",
          "name": "stdout",
          "text": [
            "Zbiór testowy: accuracy =  52.08082962036133 %\n"
          ]
        }
      ]
    },
    {
      "cell_type": "markdown",
      "source": [
        "### **Badanie 2:** Zarówno koder jak i model do klasyfikacji trenowane na całym zbiorze"
      ],
      "metadata": {
        "id": "d_mKPtGY0Evm"
      }
    },
    {
      "cell_type": "code",
      "source": [
        "conv_ae = CNNAutoencoder(latent_dim=64)\n",
        "trainer = Trainer(\n",
        "    accelerator=\"gpu\",\n",
        "    max_epochs=5000,\n",
        ")\n",
        "\n",
        "train_dl = DataLoader(train_data, batch_size = 128, shuffle = True)\n",
        "test_dl = DataLoader(test_data, batch_size = 128, shuffle = True)\n",
        "trainer.fit(\n",
        "    model=conv_ae,\n",
        "    train_dataloaders=train_dl,\n",
        ")"
      ],
      "metadata": {
        "colab": {
          "base_uri": "https://localhost:8080/",
          "height": 327,
          "referenced_widgets": [
            "c0505a422776468e80f8ca947ed8fd12",
            "e0e69dc89d0d4dd5935620bedb34dcd6",
            "7618be21dd6a4ed7bf64237e1fd85be0",
            "9bfd649c6d9c4968aceab6d478a98bca",
            "e362a0b926da458481f25aa1e92cf946",
            "e2ad779f20a04bb387ca8b881c8b7371",
            "4008b04bdd1d406bb6d502cd9c62246a",
            "955c778a90604ac483cff5830fe0941f",
            "5f96a29b35de48f08f4ece485584aaa1",
            "92d0e2459c1e4e63b0c23ef752a7166b",
            "87c5bd11620b47c98715ecd9f262905f"
          ]
        },
        "id": "-PC0qq7V0GEp",
        "outputId": "ef4b588e-c831-4441-c898-65dac86c4082"
      },
      "execution_count": 61,
      "outputs": [
        {
          "output_type": "stream",
          "name": "stderr",
          "text": [
            "INFO:pytorch_lightning.utilities.rank_zero:GPU available: True (cuda), used: True\n",
            "INFO:pytorch_lightning.utilities.rank_zero:TPU available: False, using: 0 TPU cores\n",
            "INFO:pytorch_lightning.utilities.rank_zero:IPU available: False, using: 0 IPUs\n",
            "INFO:pytorch_lightning.utilities.rank_zero:HPU available: False, using: 0 HPUs\n",
            "INFO:pytorch_lightning.accelerators.cuda:LOCAL_RANK: 0 - CUDA_VISIBLE_DEVICES: [0]\n",
            "INFO:pytorch_lightning.callbacks.model_summary:\n",
            "  | Name     | Type       | Params\n",
            "----------------------------------------\n",
            "0 | _encoder | CNNEncoder | 100 K \n",
            "1 | _decoder | CNNDecoder | 199 K \n",
            "----------------------------------------\n",
            "300 K     Trainable params\n",
            "0         Non-trainable params\n",
            "300 K     Total params\n",
            "1.201     Total estimated model params size (MB)\n"
          ]
        },
        {
          "output_type": "display_data",
          "data": {
            "text/plain": [
              "Training: 0it [00:00, ?it/s]"
            ],
            "application/vnd.jupyter.widget-view+json": {
              "version_major": 2,
              "version_minor": 0,
              "model_id": "c0505a422776468e80f8ca947ed8fd12"
            }
          },
          "metadata": {}
        },
        {
          "output_type": "stream",
          "name": "stderr",
          "text": [
            "INFO:pytorch_lightning.utilities.rank_zero:`Trainer.fit` stopped: `max_epochs=5000` reached.\n"
          ]
        }
      ]
    },
    {
      "cell_type": "code",
      "source": [
        "model = ClassificationCNNEncoder(latent_dim=64, N=8)\n",
        "loss_fc = torch.nn.BCELoss()\n",
        "optimizer = optim.Adam(model.parameters(), lr=0.001)\n",
        "\n",
        "\n",
        "train_dl = DataLoader(train_data, batch_size = 128, shuffle = True)\n",
        "\n",
        "for epoch in range(10):  \n",
        "    model.train()\n",
        "    running_loss = 0.0\n",
        "    running_acc = 0.0\n",
        "    for i, data in enumerate(train_dl, 0):\n",
        "        inputs, labels = data\n",
        "        labels = labels.to(torch.float)\n",
        "        optimizer.zero_grad()\n",
        "\n",
        "        preds = model(inputs)\n",
        "        loss = loss_fc(preds.reshape(preds.shape[0]), labels)\n",
        "\n",
        "        loss.backward()\n",
        "        optimizer.step()\n",
        "\n",
        "        accuracy = torchmetrics.Accuracy(task='binary')\n",
        "        acc = accuracy(preds.reshape(preds.shape[0]), labels)\n",
        "\n",
        "        # print statistics\n",
        "        running_loss += loss\n",
        "        running_acc += acc\n",
        "\n",
        "    print(\n",
        "         f\"Epoch {epoch}: \"\n",
        "         f\"train loss = {running_loss / 8:.3f} (acc: {running_acc /8:.3f}), \"\n",
        "        )"
      ],
      "metadata": {
        "colab": {
          "base_uri": "https://localhost:8080/"
        },
        "id": "q90kngpy0J5a",
        "outputId": "5f18dc55-91a2-44b9-ecda-abd4dda9ad94"
      },
      "execution_count": 63,
      "outputs": [
        {
          "output_type": "stream",
          "name": "stdout",
          "text": [
            "Epoch 0: train loss = 0.625 (acc: 0.691), \n",
            "Epoch 1: train loss = 0.535 (acc: 0.753), \n",
            "Epoch 2: train loss = 0.494 (acc: 0.775), \n",
            "Epoch 3: train loss = 0.487 (acc: 0.778), \n",
            "Epoch 4: train loss = 0.449 (acc: 0.811), \n",
            "Epoch 5: train loss = 0.422 (acc: 0.815), \n",
            "Epoch 6: train loss = 0.401 (acc: 0.842), \n",
            "Epoch 7: train loss = 0.374 (acc: 0.854), \n",
            "Epoch 8: train loss = 0.355 (acc: 0.862), \n",
            "Epoch 9: train loss = 0.325 (acc: 0.875), \n"
          ]
        }
      ]
    },
    {
      "cell_type": "code",
      "source": [
        "total = 0\n",
        "acc = 0\n",
        "\n",
        "with torch.no_grad():\n",
        "    for data in test_dl:\n",
        "        images, labels = data\n",
        "        outputs = model(images)\n",
        "        total += 1\n",
        "        accuracy = torchmetrics.Accuracy(task='binary')\n",
        "        acc += accuracy(outputs.reshape(outputs.shape[0]), labels)\n",
        "\n",
        "print(f'Zbiór testowy: accuracy =  {100 * acc / total} %')"
      ],
      "metadata": {
        "colab": {
          "base_uri": "https://localhost:8080/"
        },
        "id": "iC9NwigM0MW4",
        "outputId": "8112ab88-c344-43fe-89a4-c35047c698a5"
      },
      "execution_count": 64,
      "outputs": [
        {
          "output_type": "stream",
          "name": "stdout",
          "text": [
            "Zbiór testowy: accuracy =  70.19981384277344 %\n"
          ]
        }
      ]
    },
    {
      "cell_type": "markdown",
      "source": [
        "### Podsumowanie badań"
      ],
      "metadata": {
        "id": "T59Uo_0sQylA"
      }
    },
    {
      "cell_type": "markdown",
      "source": [
        "![image.png](data:image/png;base64,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)"
      ],
      "metadata": {
        "id": "gI2uTrz9Q0xb"
      }
    },
    {
      "cell_type": "markdown",
      "source": [
        "Trenowanie kodera jak i modelu na całym zbiorze treningowym pozwoliło na uzyskanie znacząco lepszych wyników, niż uczenie kodera na 10 obrazach. "
      ],
      "metadata": {
        "id": "AhGJJ5FkRLud"
      }
    },
    {
      "cell_type": "markdown",
      "source": [
        "## Podsumowanie"
      ],
      "metadata": {
        "id": "f1DEWh0hRdsR"
      }
    },
    {
      "cell_type": "markdown",
      "source": [
        "![image.png](data:image/png;base64,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)"
      ],
      "metadata": {
        "id": "FRQbmj9sRfdK"
      }
    },
    {
      "cell_type": "markdown",
      "source": [
        "Potwierdziła się hipoteza badawcza. Zastosowanie ekwiwariantnych sieci konwolucyjnych jako kodera pozwoliło na otrzymanie lepszych wyników niż zastosowanie sieci konwolucyjnej w jako kodera.Szczególnie interesujące są wyniki dla Badania 1. Jego przeprowadzenie nie jest kosztowne czasowo, a w przypadku sieci ekwiwariantnych pozwala na uzyskanie bardzo dobrych wyników. Uzyskane rezulaty są gorsze niż wyniki autorów publikacji \"*Rotation Equivariant CNNs for Digital\n",
        "Pathology*\". \n",
        "\n",
        "![image.png](data:image/png;base64,iVBORw0KGgoAAAANSUhEUgAAAYoAAACOCAYAAAAvmE+yAAAAAXNSR0IArs4c6QAAAARnQU1BAACxjwv8YQUAAAAJcEhZcwAADsMAAA7DAcdvqGQAAJaxSURBVHhe7J0HXBPn/8c/CWGDIFNQFBVFRMS9Z111tGq1ttrlrFa01tG6Ks666t57K26UJShLNojsqWxk751Akud/l4QVEobV/tr+8+7LkuTuuXue790948b7GIQCMmTIkCFDhhSYor8yZMiQIUOGRGQNhQwZMmTIaBZZQyFDhgwZMppF1lDIkCFDhoxmkTUUMmTIkCGjWWQNhQwZMmTIaJaWb4/lliGvkA8NPQ0oiH6SSGvnkwoPiY6ncDe0DHUZYrCgot0ZluM/wwRTddGP9XBLClGhqgUNRjKenbHB6xICprolvrKage4s0Uw0/CIE3LoAt7QaELmu+HT1NxikJppGw0uE46m7CC2rDwWDqQxt414YOHoCBhspiX79ePASHXHqbijKCAPKvT7HirkWUKV/T3DAmccxYDMZYHadivVz+ggTtJm2x7dFKt7A8aotwos40By7HCvG6Mt6HjJk/BehGwrJcEnCjRXky58OkvPHlpGRPUeTDfZZhCeaWk9r52uZmvICErF3JJFXGEMOROWS/JxUEv5oFemnbkRmX4in1lQPL8eBrOgzkGx9VUN9qyHlBTHk0Dwz0k3DkHz7sFA4k4iaqFNk2bDuRKHzUvIkq5Swm2SOTh9B9o6UJwpjDpCo3HySnRxOPG5uIhO6mZJ5FyIJWzTnR6OmnBRE7CfTjDoQVYVu5Lt7acIYckpJlq81WbD2GckobT4XHJ8dZPPdItG3prQlvi1TTpx+7EZ6r3UnL38fSIwW3CfFoikyZMj4byG9A8jPhtPVa3ieb4RvrJZjvFIALt3yBls0uY7WztcKWKqa0FCWBwNyUNbUhrZeZ/Sd8TU+MciCw5XHSOCJZuTG44b1Djx9wxH1jllQ1dSEqv4MrJinBLtT1+rnRTk8naswbKImNUpQhHp7dSg2KTWdXgPK8gxAThma2trQN+6Lcd/+gTvbe8N17XIcjalb4MeBpQpNDVUYf3cSJ2dxcffHr7DLvwxQUIduBy1qmi701BVFM0uAXwC3Gw8Q1WBUJE6r49sa+IV4+zYPnXqaY9TuYKTd/hIaokkyZMj4byG9oWB2xHKbcASfmgW23wM45/bFj0snoMlJmNbO976UpSKtgAGjfv3RUY7+oQS+J66CPetL9Gx4ekmAEkauWorer87hjL+wqeJnPEWI5nQMUqAagTbDhNaAfuha/Qr2DinUdy5SHbdj8ZLNOHxsB6yW74Vbdg1SnmzC9P698M1+Gxzb+wc2zp+MuYcDUUE1UsHnt2HHyQu4cMoaC+btxWsutZRUR2xfvASbDx/DDqpx3euWDb5whVRDRTW4l+5ii1kM9n69DLeSxWtvSXkohN+Zlfj19hvE2u7AbzvuIppaT6toGF+SCsfti7Fk82Ec22GF5XvdkF0djZsrJqDvmFU4eHQD5k+ajp0ehUh8eh6OSWzEPrTGlitBqEh3wd4VK/A7VaaDv/6INecCUcjnIvrmCkzoOwarDh7FhvmTMH2nKyLq4nUHR//Yg9++noAvDtjD+cJe7N2xHDM+3YCnmVREqE6I4+ZpmGl1EEesl+DLpWfximo7wUvBk03T0b/XN9hvcwx7/9iI+ZPn4nBgBT0RmS578MPXP+L33Wsxd+I3OBtRTQe9adnqgi5DhoxmEY0spMAjGZ6XyYGNX5Kx45aQEz65Uk4ptXa+luCR1KPjiALLmMzYuJfs+2Mn2bRqOdlw4gVJFpx14ZG0R9bE2vYdqUk9Ssap9CFbBKee6EmZ5OzqbSSAnU1ufqFL9ObeIjm8GhJ2+iCxza8hUbsGEUVjK+Im7ewNL5UcHadAFMafIO8aZJ6b+CcZJc8i5psCCTfhJJmo1Yus9+VQU2pIxI7BxHTNS8LhviX7hysS/S9vkywqbdHVz4ia8UriVuJBfrYcTlbfcCcRGbkk4KkTSeEkkJMTtUiv9b5EsJSIHWSw6RrykvrCSz1JVm4LEPzOS71Lvu2mQNQHbSEeYUfJyh3B1Bqp/EjLA9uV/NRFmUy92Pi0W2Oaiy+XJJycSLR6rSfCRUeQHYNNyRoqYxz/X4mZujn51SOZOO6yIoe9i6lFpZHj41XJsH3xhMtNpMrUnvShYkQnJeWPybf6HckPtkWESkx+NVMn5r96kGTHXcTqsDcplhAvZaXBZFc4lZrjQ9b1VCXTLhVQhU0md1bNIVsc8wmPE0A29lYjk85kCvYt7tv9ZLiiPvnyNn2as4hc/UyNGK90I5VZ18lsHQPyvW0pVYYwcvqHr8lBv3KpZZMhQ0bLNHPqqQhRrm7It1iI3/ZfwKJ2d7F2gTXcxc8ptXa+tsBojwHzf8WmLdbYd/Ic/lw9EcaKVKcw+jSsnXUxSjcFAaHpKONXISs6BMklDbqGDH3MXbMAms6ncPmVM1x5YzFVu+FoohoBWwdCW1MTmtQ/nU/+RFwzp1x4eXkogDK6mhiD89pH0KPN8ruOS5euwY85FMON5ASnvxgMORiamUOHiqiCkiKYHDaqFIZh6RpzhFrPxkCjbvju9jtUsl/DR7gQXL90Cdf8mBg63AhyYmeMmJ2/wrm7O9A/8U98s/IJskRFbC4PrUZifDl47fMKZciC3/VLuHTND8yhw2FUmzF+N/QeaIxp205h3Sixk0wcukwV0NbXh2CQJ68HPY08BPjGCCZTidGt90AYT9uGU+tGCU5RicdLXq0XLHrSt0HIQY5aJ7uKA75ce5iP7IsSp8P485wLEthclBaXisrKAEPOEGbmOtS4TwFKikxw2FWojg5ASFkHGHdVBliWWHnNBr8OZzRfNhkyZDSL1IaCl3Aey6ZNx7Jz8dRgnkEdvFRly6lCJVVhVYZewpqfDsGzgN/sfB8ahlp/TJ+gg4L0dKRGvEUmrwYlOVko5ohmEKE08ics6x+FUz8+QfvPBqLxmX0F9F9vh9ehoQil/gXfWgYTwSktCfAL4H7tCdK6L8SauXpQoCq2ngoEBiN+wNKlS7F86yYsHqxFVW1CGAyxcFZHwLt4DuyTC1GQ8ACfp93A45SeMKcqRGIwAj9Qy1i6fCs2LR4MLQl5UB28ETaXv4dasF/d9QPpeaD+YzJA+Fzk3NiF422+pqJAVbo9oUAMMOIHKl9Ll2PrpsUYXJsxBgssaXFS6IYexnIoKsgXnkLjFqCghG5cuwgm05U6S0LiRvFiUBW/6GMtHI+tmLXMC71+24ONK6fBVEV8DiqNWMhZXUxgLJ+NtFTRTlEWAa9XJc2XTYYMGc0it4NC9LkRTM1OaJefjDyq+i8Iv4WL9jWY/MdRrBmkhVLvk9h8OhJd5yzAMJPOUubTqatAWwcX8Y/248Qjb4SmlYFUl0LeeDQs9OtrAqZmZ/Tu0xsdi/zw1CMIobGFUO3Unerp6iDm/CHcfu6PyGQGuoybgPE6yXBmz8Tu70zw9s5unH5KTXtXDm4pH4Zjx1HLbY/27dtDU10JTG48Hv5xGDbuwUgurkFFZgTc7R/h3vWreMGdjj+v7MKnHeTA1B+IIfpxuHfVBcnvouBm64HiHpNgEHMJpx74I7VUEV0tleB74QZevMkHV18LeVev4mVRJQoyU5ApPwhfzf8M00foI+7eVbgkv0OUmy08intgYvvXOHr4Dl4ERCOZ0Rlj+xtSvXMG1M0mY4xqEPxqJuPbcR3AkpiHTzGsmz6Yaa54GpiM7EpdjJ8zEp0b3afcUnyZ0B84BPpx93DVJRnvotxg61GMHhM1EHzqAuzCMlFBtNFnlDl0mXxkupzGsXu+SC2uhprp11g6XQMBdx4gNDsdATaPENNrA45uHo78J3/ivF0YMisItPuMgrkuQarTSZysjVd/Ffidv47nbwvANeyPHgm3cIGaP6uyHUzHm6HC/wWiqBFUWWw8StiZCAxOgWY/M2Q+OIMH/qkoVewKSyVfXLjxAm/yueg4aSuWDkjBvYtPkZj7Fp5PgoAR0zFlyvCmZft0GIyVxRsfGTJkiNPicxS8ijxkFvCgadgB6k0uHtfT2vn+G/DBqWBDTlVFeKpFKtSIi8eEHK8CxdXy0FRr/IQJn1MBtpwqVN4rXlLywK0Gl6XQQr5agM9BBVsOqu+Rsb9WJknQ5awClFUl3K3WHFS6ymqwVJQad1j+QtlkyPj/iux9FDJkyJAho1na1EeTIUOGDBn//5A1FDJkyJAho1lkDYUMGTJkyGgWWUMhQ4YMGTKaRdZQyJAhQ4aMZpE1FDJkyJAho1lkDYUMGTJkyGgWWUMhQ4YMGTKaRdZQyJAhQ4aMZpE1FDJkyJAho1lkDYUMGTJkyGgWWUMhQ4YMGTKaRdZQyJAhQ4aMZpE1FDJkyJAho1lkDYUMGTJkyGgW2fsoZPwr4PF4kO2qMmR8GBgM+rXVrX8HqayhkPGvoEuXLsjIyBB9kyFDxl+BbihqampE31pGekNR4okjm2yQrKYHLWYJsooINA3aA0U5KOv0JfZsmAjtRieuuIi7ux6bLpRg+rnLWNazQWvFz4DTrvU4EmKBXQ+3YkTjN4I2Ax8lcW54WWSBGcM7/O3nyfiZgXhw/Tqe5PTAzFGdwGAXopA1CPPmDRQru2S4Cfdx+H4MktM6Yu3pZTCVvctfhgwZ/0KkVnfcd37w503F7wd2Y61pEm5cj4XxTzuwf+t08AN9kM4XzVgHC71mjUe72Ei8qxJre5gdMXl6N+SFJaO4leMXfrY7Tm/fjMVfzMQvd+LQ+rbvw8E0HIqZZpWI4/TG7Llf4qtvf4BF8Cr8cD5JNEdzVCP4qh1qZvyCzRumoYuskZAhQ8a/FOn9YrYGxnz1KfTF5mDqT8E3E/TBzgvD08tncPr8TTyLKgRPMJVBDWkIKhJf4M6V63jknYQKwe8U1FCnnnIkeN7H5XMX8cA/g6pSm8Ls8Amsdm7HvD6K1FLr4RdF46VfMipF3/8OGHVhkoeWJgNZ7wqoz3wUxfnCxekFwnJ44GaFw9UxAEk5MfB/nYbKvHiEJOUh7008arQNoFSejCA3F7j6J1Glpxpi8flzI+Hu5IM3OQnwc3FDcAYHnNwY+Lj5I4lOQFOZQi3DEQ6e8Sijv/NzEenuBJ83OUjwfwG30Mz6WFYkw9fhKew9olFIN+r8IsT5usDpRRio7H48xMrJb1Au/xduCM2UtLVlyJDxT0ZqQ8EaaIXVE5RE3xqiiDErF4O9dy5+DuyGhTOVYTN7LDb7iioAXhpCopQwctY4kCszMXq9K4qFU0QUw3X9GMy+pYDpCyej+uRMfH87UzStJXhIufITPp2+CQ51LdDHpzI9APZPnuDxvUt4yPkBZ34bjMJnm7DeQQ2jx+jDdas1XjLVEHNuAw75ZyPWzh6xijrQVWVBWdsQ2lwf7Nn8FPJDJ2GEmhN+3+OFCnXx+dWRdG0ttj3IgtEQBm4vWoRzESyYd/LGhnX2YFNNgP8fG2CvOhFDi49j8b5wcJmqUE+6hrXWD5HdaSC4137GwUgu1Uj4YfeKk8gxn4g+0Tvwm20anm1aDwe10Rij74qt1h6ikn1gyryallNVWC7rh9noNJCLaz8fBJ1FGTJk/HuQPqJoFkWM2nwd+/vG4uLjFPDlkhASXkj1sSmYWug7biS6aHXBtKnmSL5yEc8bdv/ZHrh+PQ7KCllwuPUCJVrtEB8cI5rYEnLo9osdkmKvYK6q6Ke/AaaeJWbMmoUvvloO693LMVSjDM7XXFCjng3/wBxo67CRVt4BnXQ00bXPWCzeaYWB7bSgpaoENV0DMJ+fxnOtcbBQY0LFbBQ0qO8OvI6N59cwoL5rw2TIcBi104c2UwmdR/VEe0M9MHOzqBGEAoasscbwtCfwKWUgN+YN1XSowqCTDrS7D8Ywo3booMVBVgYPbPcrsG83DdO7qqLryrs4P9kH11xqoJ7tj8AcbeiwU0Ql+7CU2DUtpx1XWK7ug4dR5eoALU4WqCy2ER6SPW/g7PEjuOSeLhq9liD8yQWcPXsWF+0ihSOsjw4HsU+PYNdheyR/zFHZ/5QSRDlexYVz53Dh8l34ptMF5SHV/TJOnT6PW94Zovi3hhIE+YRSnRxqCQm+8BNteM6bF7hy7gzOnL0MlzcccJPcce08/f0SnGKpHiA/Gz63zuD02Stwa22gecnwvHEWx49cgrsgzxQl4Xhy4Sy1j1yEXVg0vO9cwYXz53Hx6m041tZXFLxUb9y5cgHnz1/E1duOCBcMwdtKNQKO74ddwfukbZnqgOPYb1dQl2fBNvG2wdWL53H+0jXYvsoBn1+I0EfUMXHmDC4+rT8m2EmuuHruMm5cv4prT14jK9qZinvrtyLN+zUU1T7YPOkr2MjPxMrls9BX7Mpu7WUITmUleJq60Gl4fp6pAx0tOWj3m4PFS5di5Yl7uL3MXDSxZThvPXDPNhBZH2d7tBI5tGunCb3e4zFhwiQs2rYR0/WpQjIUoaTY8ESZEJaqKkhlhXAj8ytQSVRBDTaazs9gQV50oZ/Boj4LP1IB5YPwEnFh5XZEm8/E5yO6QAVcpCYkUxMZYNUmoiJP35rAUFYEqaoQHtDMGpQUK6Cdph56j5+ACZMWYdvG6YK5PzTSy1lfLjqDrbxM1QA5dB33NSwZQbho9RMuJtAl04DljElAPhOTp1tAXTijGHzkBPgh7oONYBRhNnUQSty836Ox+7eggT4TjRB29CHYE+dhpBG1X/NLUZJTDjnTKZg7uiO1NVpJhTfc/DlUJcND/DMvpCoLUyr2HIPO4UfxqGYyJvVUBKvbKHSPO4W7ZeMxxYzqATI7oH+HapT1mIHxXVu5NrmuGPe1JRhBF2H100UIdxGqgyfYRSZjej9zjJ7TFRGHryBr8FeYbqlVV/nJdRmNOV0jcPhKFgZ/NR2WWu9RLbJ98fDCCVy2y2tQmX8o2PB9eAEnLtshr27hcugy+gsYhx/B1azB+HywPphUJ73/Z2PAzmJiygz6mOAj024DvtmfjIHzl+D7Hxbh24G5OLxsC5yzP2RDwUuD88ldOOScBjlWJlyP78ZRhyTwmO3RzVQLeX73cPmCLQr1jZFhfxZOqTywDDuD43oMZ87swbq7DKw58zvGyWfAzT4IxexoOD7XwZbzG6FqvxG7jh3B3q0H4JQhYWeoDMatPQdgn0RQGXEHe/fdRxSXj1y/mzh2/DEi6W7KR4afFQQ7vxSUpvjB/lVWgx1ABVO3roaa/Wk89nCD7YMApKX5IiglHaGOfqDCQIUuEL6JaYh+7oWsSVthpeyIS3ausLv8DCpWWzElt+n8/kmZiPMNQWyID2IyUxDgH4sYzxBkZoXBK6YCCupKqEz0w3M/NtpVB+JFRBwC/ZOQGeeLkJgQ+MZlIinAH9ljNmJzB0fsvvgEjo/uwa9oCrauVoP96cfwcLPFg4AsUTk+LKqfNS3ntIL6csWE+CIuM4kqV2obeqX1MA3m4OBGZZxcfQ6CDhFLH516GUJXWl3Cz4O7rStyP+iRqwDFVt+19++EG++D11pjMaETVT2UxMDt6WvIfboaP000hqST0dKoDokBo28/KFAjBP8KXYzSFE2gKjkdPU2wy8qFnQaqnklOr0YV1ckQfk/Cy7IRsJpIjabp762GCYM5B7FR+SRWn3sj2MdY+p3Qy1BX2LjRHRaWAhQUmnbmGCx5sBSoaU0ntYrKwFSYfDcSEY/tP/D+RlEZiFST7zAy4jHsGy2c7iTKQV6+rktJ7Z4GMDLtIOycF9pi068xmLR9CfpqCCezjKbg1x/HQK2t5aRvj31fuBVlpKJG9EUMDptDeKLP0qipKCfslmb6R8MhpYWlREoImsApLSClHNGX96SqqICUcakPXC6h/zQHpziXFFQ1CDCnlBSWtja378+HKGdTOMT//kPylvOO3PqqN5l0PJaKewWxu29H/Z+enECenDpDHjo/JeeP3iZRFaUk8q4VGWoyjVhfu02cAvyJjfVSsmTbPeLrc41sWbKaHPZIJVleh8lPy3cS+yQOyXC/Qs7fcyLPHl8ml5ySqH04ljyx/o4s2X2XPD7xG1lzOZpajz/ZPPNX4s1hk7BzK8jCDSeIa0pLW+LfBI+8OzWZmP/sQfLDLpH11rYk672O0RoScXQvuV9EfSy8Rw6cjGmwv/JI6rFPiPlab2qr8kiW51PydN8UYrrKg7Cp7zkej4n7+6yU2jb3H74lnHe3yFe9J5HjsdS+XmFH7tsJ9hBquhf5xWwU2RffdHtxvH4hZqP2EQmTWkEFcbt6i8QXPCTfdJtGzmU0yDsvm7w8f4RcekTl48IV4kpN42W/JOePXCKP7O6TC1dcScPZJVHhdpXcii8gD7/pRqady2hQr3KI1y9mZNS++AaxLSYPbtoKjomKh/OJ3uBdJEqsTLzcaBKd2bb4vscYqx45FTWo0KcWJKBAdbtaWjhLRRWKfykH/2sUoN5eHVJC0AQFdS2o/8XeqJKmFtTo3oKcXIunABQ0dKGl1CDACupor97a3L4/H6KcUpHriPlHtkHnghVORNfeNM1D3MmVuM6cidlTPsccLWfsvVeJ3rO/xHDjnvhk/gJMHToMX0zXQ1q2CvqOnIne5TGo0uuIDn16YcSUHzGFXMGaK3x8PncqPp09D7oO63E43gRTPzVAbGgVhnz9Lb4eaihaH9XBKozCW8Xp+G3Hakz4T937XAFf71joKGXBPyERgfecEV4lmtQKuLFPcPTAfuzftwnWbvGIO7cfu3+5iYDUJ/jzwBHYRtM3vTChpaWBssICcMtCEMy1xCfdqBFGUQF45SHwq+yLMR3ev2KQ6zgfR7bp4ILVCdTtIh+Tcl+kyA9Fd63JmDs6HrZPMkRnH/jItlmLPzLG44cvpsKk1BNeMWmwWfsHMsb/gC+mmqDU0wtxzd4IWA7fFHkM7a6FyXNHI972CTJaOWJhFxajiqqjxUcPTN3e6G3Qtvj+q6tpGf8/YRrOw+Hthriy+iTeCK4/VCLAOx6oioCHmxtCVUZgXOemV0IUBszF8NTHeJ4ZCoW+PRDxMBI5QWwYfNIBbO/niNbshvaCI0IJXXTewdXtHTW6l4OWcVfo6lpgmLnw3AkpjcHjHTvwqNoMPf/Gmyr+FjjB8Iowwec/fokZs9fgR3M3nH+Y3erz7iyzWVi7cRM2/dgfQz/dgi2b1mGi5Vj8tHszNm1ch9nmwh4Eq317MIpyEeWdh+6ju0Beqz3ki3MR4ZGBrp90b/11EIkwYTjvMLYbXsHqk2/Q3CWqMi830SdxyuDlFiD63Dxl3uF4W+CNm9ceIbeDMWKpylz4nFk1glxfQcu8J9WZZKH/+uvYOSoCrq+0YN6T6rCx+mP99Z34pLnzeWXeCH9bAO+b1/AotwOMY23xpMFDbHJyTPD5DbcOD3wibBnUepuhU0460sUCwM8LxivBRZzWI2soZPx7IERUYdHnog9hV+fbOOpCd3cV0bOnAZQMhmHChAmY+MU8TDahjz4mqOOISlYBNydPcFgW+HJUJm4dSIfm0kXoGX0Z10u1MVSDWkK3rmhXlCd6DoWHvAImjLvpCL6JO3GYOgOw4MhBjHDdjNOx/617fblvvBCsNRFTjamKjKmPL36ahNhL1xDfynqldkSxa91dBCU/wp97N+JPzzj4H6NGGXUjCmrRVMOglvAC4TqjYEa1HXLttaGe9BxBmmNg0ZYLIWIQIqo0mQaYc2gXOt8+CsEuIpEy+IZQHQxJlPkiJL7BuX+plMAnxwg/rVqEhQsX4sdtazEp5QmepAmukKBrd30UZooucPMLkZKhja76hcgUXZXmF6YgtbhhRd+YEp8cGP20CouoZS/8cRvWTkrBkydpomt8LPToZ4aK1BRwBN8pyiPBUTSjjgiqYzRsOay6+eLuyxLhNAF8ZAUlo6LRHUYtI7eDQvRZhox/KDwku57B8eP3Ec7rCst+naHOVIPpCCNkxMhh4gRzdBlogqRbtxDHlEdRZAgKtPuju047VL16AN8KAgU1S1h2bw9d/Qzc9egAqwXjYRh9ER4mqzHLRAFyRoPQPeUBHqUwUB33BC7ln+PX75URdO06HoSUQrOrGcw7KyLh+VXcfBSOCtMp+ELDDiu2uoHVeygGd1Fv9GDovw8+cgIf4sqpi3As6YD+fQegt6ESMt94wvn8bfjzzDFsZDdottC1ZOr2wvBRg8FIysGQzRuxoFs6UpVXYPOqqRg9ajjM9EQVVEUIXsQNwtrVg6FOB646HC7BvbFm/SjRqK6N8JLheuY4jt8PB6+rJfp1VgdTzRQjjDIQIzcRE3qkw+PGTdyzD0Khugaq3gbA+ao19gSbwWpEBW7cvAf7oEKoa1ThbYAzrlrvQbDZGnwzRPL9dAJ4CXDYtw67Huagy/BJMNdlIifED+6u1+AYo4ROPfpi9CRL5Ny9igimEoqp/bJQZwrmjMrD3asRYCoVIzKkEFoDTKDTpMw8JDjsw7pdD5HTZTgmmeuCmRMCP3dXXHOMgVKnHuhjqo/2vQdA4+UFPCrQQwdeHFwdctFz9lgYCfpJ2hj0aR+kXD0CxwwV6KqUIsbHE291R2NKDyo+whW1Cqmup5Y9R9VIdb4Am7fqMNZRAJerBPnMNKitXoPpKoJF/D+Gj0zv49h5XR6rzq2CRasvC1RTO8ce7HTtg0NH5jV5Kv6fC1XJeFyGs8o8/EB3z/9n8FBeUAwG1TtVrYsdGwU5bKjra0J40oODSjYLKkpUhcWuBFtBBQ0v4/Ar8pDPbw+9v+Fazn8WbiiOHUnD0t9mourWPtwb/BtWiYvOuIUoKNeEdm3LwytEXokGdLXa1tP9d8BHRW4OOBoG0KK7+oKfKpCbw4GGgZag9//X4KEsPRpxBe3Q08IYGhJCWF2QgOjkGnTsYwa99xixSa2Kmvcc8ZB45XssczPHitU/4Ov58/Htl8Z48ywABRKbnf9vMGE4dAR0CjNQLn1UKQEFmEy0BCstR3QK5B9MpQuu26RSh4AQJn3bIX2e53+KHNS0GzYSNErQrmskaBSFjQSNUuNGgoapqitrJP4ivPQgVBsMhwp97eidPIZIehaCpVXfSNDIaf1HGwkaJlT1GjQSNExV6H2QRoJGDupGfTG4n+RGgkZB2wT9B71fI0HT7KknLjUEv5JoiaUzuoNFDazLg67iRuFYLB/1BtYLX2L8uc0YWXtJnaWPHvLlKDLrD9OaFAR5+SI0jcDAWAeKtJPI4yXe1rRDdTz1e44yOmqz8SYgAAlcPRi1f89bZFq1XNrJ5AevoHiUtzNGBzVq56SdSQ3zR83FTg2GT2Q6Ct7lg6PHRIaXF2KqdGEknwZ/zxAUqBkBiR7wSgE0SuMQT00z1GA2XTY3D7F+/oguLMMb7zT0mjsR9DNLrYYbB7tHhbAw5yEuoQoaHXVAsiIREpuCnGo16MvnIDL0DQrldKDb2gqtYZze+CM0XxmdDNQFFwz5RXHw8wpCfHk7GHdQA5NfhHiflwgvpGKS7IuIog7opp7dOF6VSXi2dzPOpRrBRF8FWnp8ZKUWQ659J+ix3yIkrmletbkJjdcjzJmM/yDMdhYY1EcD8kx5GA8aiC6Ksob3306Lx6skzxE/Oxwx7I7o0uhkItWL/mYRPlNpxkm07QGyjIaAcXsRFp2LAMu8E7w3rIP9+z4814rlijuZPCok5I/jjkPXcjF49CBox7xEEFsVaolXseteCnhK7VBk/wfOh/KgrhaDcxsOwT87Fnb20cgVX3ZBKI5aHUac0SgMVkymhoJtGk7UwcuMwlvlARiuH4Sda64iXYEPv91rcStdDgxGJpwfBqBKoQ0HnzQnVOEzbFrvALXRY6DvuhXWHoXw2bYa95SGw9hnM/a/MYQOs6ppvBR0Yd5ZEwwNQxgZUL11pjLUU2/jwMN0MNX48N31K+5l0V2Ld3C6643S0hdi6/kbRV0y/n7kFFHbNigqfZg+s4z/LS02FE09R9RvmvrQ5pWiROweZV5qElJ5zTiJTIZguFE76GszodR5FHq2N4QeMxdZ7y3qaWm5TZ1MKdlyTfPH6gTDpP2YMvV7nOINwrh21HKNdKFCDZaYSjow0qN7wEyodewEHc2u6DN2MXZa9YSr2LLf3j+GO4pTMK2LElR79oWJ4Cpd22HqmGFAVxUomXyB4QXncTXJDD+u6ocYpwhUvcuGCbUtBmq3ZZgi2QlV5nwNLjXqyPYPRI62DtgpqchMr4QGVV4d/XaoKtdGnz4dJMRLnYqDMhTV9dFJXwMKUIFeR20oU8VltbfEjyt7I9olDtXZeeg5fxXMX98UW0+2KF8yZMj4N9DsG+7YTxZigN0XCLnyudij+8VwWjEdt0Y/wK1vDEWtTTXinjiBM9UCft9sQPlOG6xTPIEZO41wZPswdEs4hDkBy/BkhwXi/5iJ45YPcWFGDa7N/RbsM0+xQk+wkDbDcbZqZrk26LR1Kjy+f4HDoxWAilzkcsvwaIlY/jYpIa90EoZ0T4HT/t0I/uImtrPX40ufJXi8ozdeb5mOa6MdcHa8IxZ/k4GdD1bDiFkJh2WNl53uvgtfO82A+9lPoVj9Euu/eIa5j/djeFvOrLEfY9HcBGx9+htM5Apw+Yu5yN7tiq2mYdg+4xiY8+fgm29nUdNE87eS+jj1QfTOWTg/5BEO8VZhqsf3eHF4NFXZVyA3twYF7hfgzDNBR0VtDP18LLrIJeLsV023Z5fQ7ZiXvhP3R6QjvN8YDPBdgwX+y3Dv9z5gVQdg8+eXofPddEz/ahY6Oy8TWw+BHtUYtYUHDx6gokI2EpEh40NAv+Huhx9+EH1rGel3PWUF4eHR37AueBiOHliDOYMNGg8/yiNwfd8VpPaYidlD2yMvLgoVxjPwWd9CXF66Fe9mL8OQYh9ccyzEyK+moF/4CfwSPwPntg9B6J7leNT1MI4vKMfZpbtRve4azowOwtfTw7Dc9xgmtHa0ykuD167lzS739KAY7DqTDsupfcFIrUC3OX0Q/LNY/r7QQ5KTGqb+NAT8oABUzf4ZM3nXseogB/O/NUbk6c140Gkvdk94ie2/52Leke1YNqoLkPJQbNmWSDh0BhmDZ6BPhTP27QjBuIuXsXVU/RO9LcJ+go1LQtH3+0kwLHwJ59yx2LxmFDTpW0RPfY1t7U7ixvdtfNtfwzhZD0bw7hWw63kE57ca49UfZ5BuORV9Gamo6DYHvX1/wo8veDBQUYJOvy+xZlUveKwUi9eChbAy9cGyo3xMGdIJvb4dhJIDK7E+bhaunF0KCw0e4g7OxNb2Z/BgWWcweSl4uKvheubhc8u23Rq3du1aFBUVib7JkCHjr0A3FFevXhV9a5lmRxStgVuUjJi0GnTs1RPaDSp4dnEhuOpaUKMqOF4rdBM0ZS9dETVsIoZ/8NOa1Sgr4kC5gW6jcf4IeNXUXCVURdReF2q1M3GKkVelgvascpRQc7ZXk6Qlabrs6pICVCpRPebSSsi3by80qLYVTgmKeerQVGGCX5iGDHlD8D1skT7hS4z6wE8DV5cVgaPcHupsB2zdwcaaA3OhJ8dG0pWVOKp2HCfnqUvenpwylBF1qEu6k4LHBZfBAqtBwOrW8z7xkCFDxv+Mv9xQfDB4yXB3rcCIKX3aZKj878NH7oPfsCdvHD7tZ4kpI4xa1ei+F7xU2J9+iHzDHtBVqEbum0zozbPCjM4fbY0yZMj4F/DPaShkyJAhQ8Y/kjad6pYhQ4YMGf//kI0oZPwL4CHF8yYcQwvAYQlV6XyoofuoaRhnInb3VEUi3hQYo2fHTPjY2CM4Vw7mXyzFJOMGp8+q4+Fw0QGJckYYNnsuhjZwpfBSPHHTMRQFHJZQIc8lUDcZhk/GmKFNdyS3El6yJ247hyNf3gJfLvpE8HBmSfgT3PPLAo/VEaO+/hwWzeiGPji8YiRFJoDfpT9M2jcscAUS3xTAuGdniac+eQXpyFE0gmGjzcFDQXoOFI0Mqa0lgltELT8JNZ0sYKqrIHgN6X33OJRWM6CoZ4mpMwdDtyQYj++/Qh60MXDuXAwRe4MmDa+yAAXVatDRVGymt8tBcW4pWFoNrjvWwqemFVVDTbvxawJatVw+G0V5FVDQ0YZqo2DwBap0too2NJt7f4LU9A2g5ylgQ0Vbs+mrGKTkvRHcMuQV8qGhR9++/teRWhpeygvsWfwTriS2TUdbBy8FL/Ysxk9XEsHj58Dj4nUEllDHaIIDrL/7BfdzmnkYTUpaOk+7F1nhesp75qkO2sV0FMuXnvp/+6J/fqY3ji5filPNBqACz37+BkcbKIl5mYG4f/BnfLfuKJ6E5oLPL0LE43345ZcDeBJVLJypOhXOp/bj5PW7sLG5hZu293DguCMavjq9bcjBeNwC9M+4BtuKcfh+4WIsmmuO6M2fYumDWvc/TQX89izAFvdyKokRRs0bCsXAc9h83LferklREeyKS2ftUT1pTqNGgkbOeBwW9M/ANdsKjPt+IRYvnosBZTaw+uEAfIre7wHK5pDrOg5fWzIQdNEKP11MoKpW+g2eMzAJ+WBOni61keDnBMDvw73jVQAn9jasdzxGlkopbq3cgZcNglbhtwcLtriDimxjqhPhYXMJG2bPxtGIevFMdaIHbC5twOzZR1H3c/FL7FlxGKEsJSSc24AjgWzBa0i/MA7HkatZGPz5YIHfjKmogKLMKvSaMbNpI8FPh+0vn2LOtntwOLccU2btg49ot6uHjzz33Vi4aBtOnNmB2RammLzNGYIqh58L7yNL8OXinbh8bQtmzj6CcDqMrVxursshbPzjMp442WDfD3Ow4anwzZfVMdeweNw0rL/xGCcWTcSco6+axqqZ9PVUI+baYoybth43Hp/AoolzcPSVaEnS8t4IHhJv/oR5P5+Drc2v+MR0DH51aL0mXhpSGwo54zEYpp6DzKr3HHDIGWPMMHXkUBucUKuhXzNIq4AUTCbCkpWGnOZkRlLS0nkarJKFrDa8SEUy7+ti+u9Au7xG6BQio7kAlHkjIj4SD+/G1Tn95ah0M7rkIqjUFJ/21wOT2R59P5+KkSOnYUYfTWo/TcSV75fBzXwFVv/wNebP/xZfGr/Bs4AC4Wsu3xtqP5CXB4sl7EMx1czw5QQV3D9ni2xRESrDXRBapAR+7YqYCtCZ9jX6+NzAi7qjtghhZeowo7qY8vKSH4hksuQhT61HsCY5dXT/fAcODvfEqu2eVFP0EaCV2Ac3QvnkapwTvuMV+p16wVD6O16pitAWrh/ynZu8eJz+9TEMf1yIkSamGPv5SBjVdlcrw+ESWgSlusA2QKE7xlPbeGz3xrcqKnQfj/nfjkX9zzzEn7eGneEczLQwx6dzDfDiyAPBa0Pp15DKUdtWIPUuj4KDbS7Gb1mH8R2b3v7Idt+LdTc1MH/nSiz+dRsm5+/DhjMxgga2nlI4HtuHO3Fa+Grbadzbao5XB9bgoD8bWXdW4quzKlh5Zi9Wj9BCaWoi0tmtXC4/C/cO30Rx/9n4btEq7PjZFF633VFFdWZvbVyDO4qzsWPNcmz5ZSje7NyIy0mNcyU1vWgyDT/nFjauuQPF2TuwZvkW/DL0DXZuvIwkHl9q3hvBz4bT1Wt4nm+Eb6yWY7xSAC7d8sb7yi9qkdpQ0DAaipPLkxHk5gJX/6S6lpJfFA9vZzeEJsTAz94NEQ215zRUcnoJ/KI88PUMoSrar+l7eEFVG8VJoQgKCkNKCV/gHPJ1ccKLsBzhxpGSlkoMUpmKYA93hGbWtjblSA5yg4urP5IaNOPlyUFwc3GFf8MfaReTjys8I/ObfaFJLZUp1DIcHeAZ3+Dx8Ypk+Do8hb1HNKjRnegnXzg8tYdHdCG4uVFwf+aJmGIeit/4wvlFKFWZcZEV7grHgCTkxPjjdRq16WjnlJsjHDzjUb/0CiT7OuCpvQeiqYVXZkQiMDAQr5OKwStPRXhgEGKyGvaPhYjnk58bCXcnH7zJSYD/C2ob1cWKi7xYH7h6RiK/hQAU+RTBdOd3ULS/J3HkRW8fIXQlLqzUOC+P4nD5XKwfW/eCZChZLsGyye0bzP8hKENoRCEGfToGevRezI7E8+Ru+KRH44E2Q2Ucvh0Rgdv2BYLv/KwIcPTM2yhjozsWAwDHB/CnQl+d+BSnzz6Ci90FHLsTjbJEJ2qk+y123n6Kuw/u4fj2U/Cjj4WSV7B74AofH3fc3H4MbhLS1o6ymB0X4NgWDZxZdRriAwXxNDlRD7D7+GMEutngjkushJ5r2+Gl2sM+2xDqkU5wfOSFqoFj0E2wSdmIfJ6Mbp/0+IunMHgoKiiGvJKSYD9gqKmiJiwAUQ3sDqTYDwc22EFzzkSYSNxAVG/ZPxhZ6jrQpVsVOX3oadcgMlC8966JuYeewfHcEvSgy0C1b4ShCjXlQjjddUahsTZybxzGqaBu2PPkCGaotXK5TDV07liAy7P6YND8bdh94Q3Gfj8RyqQQWblUdU+VTZmeT0kB8pWv4ftK7DiVll40mYYUZkG4KOGvSgryqHzti1dV+VLyLpitHmZHLLcJR/CpWWD7PYBzbl/8uHTCX76TtNmGoo4yL+zZ/BTyQydhhJoTft/jhTKOD7atvgel4cbw2bwfbwx1wKRaPUkwldWRevsAHjZ61VIVEp5ewt2wYpBSF6kuoCZpedkID8iBvmUNrv18kKrAyuC1ZzOeyg/FpBFqcPp9D7yourLMaw82P5XH0EkjoOb0O/bQP7Lb6GKq9scfG+yhOnEoio8vxj56nFfhh90rTiLHfCL6RO/Ab7bl1E+7seJkDswn9kH0jt/wlKgh8eou3EvhQaldEez/OI/QGqaYKyoM3uIOJfrUye4VOJljjol9orHjN1soKLfC8yQhn0xVdSRdWwvrh9noNJArihUboUetcDjOCKMGKyI5rkD6kJSfB9+idhgz+EvM0nDC3eDmhoC18JEdHgN2xy6N3ynANMQ3iz7DX7fP85ET4YRHD+/D5vpdZEy7Bbtf+1L9bzaiXBJgPMlCoBFpBEMJI76bjDSbh8jg85Aax0dH+k05bYShqgLFwjzkVcfh5MrrYM6cjSmfz4GW8148VJuIGUYp8Cvogy+/nIOxcMINXw7Yvja4n6QB0yGfYPbkflDnN017r+4UrBw6zj+CbToXYHUiGnX1J69pGifdmfiSOu56fjIfC6aY1Z///wvwMjKQmVsA1oBpmP6ZEV7+sh6ORdQhE+WCBONJsGgS2LaigL4zp0E1WdgpKktKQlZZBcpFgxT6rYGOTmlA9m3suyo8BdcUHsorKkHk5EQVF4Ma0VJdn/IyVIrtyGo9x2KSpS6Y5QE4djoUA7adwC99qRF0djW4b96AO8UKS7p7Y+HohbibWdPK5Wpg3NLFGNFFBRmP/sCeh29RVFICvlwPzJpH1TNpbxHPqUaCVyDSeBxUVogfM1LSi6bSyPWYhXlUPZb2Nh6c6gR4BaaBx6lEBTtXSt6bHsEK+iZQib2Dy05JUO3VD52UJUezLTQ8nKVSYncaz7XGwUKNCRWzUdB4fhp22ZlIr9SAnpoO9NtVoVzbDBrh13Di2DEcO3kXrxqez1XRQ0dt5foeJZ8a/p9ehtNKG/Dnj+Og4y3uHGrgAhJPy1BH98GDYdSuA7Q4WcgotMPp51oYZ6EGpooZRmk8x2m7NNidfg6tcRZQY6rAbJQGnp+2Q47ziba5mBSGYI31cKQ98UEpIxcxb6qpIeoV2LejDqauqui68i7Oz2HB/Yo92k2bjq6qXbHy7nnM0TeAka4KvbtBSceIihEdZnFX1DCMEHcosd1xxb4dpk3vCtWuK3H3/BywtCxb9jxJyCdUDdBJR5uK1bD6WFU448QdRUyZ1gVKqj3R10T6y3b4Oe6IelsAd9tXUOwGPLvr3+g8P91Nqz8RQX0WnJZgQlNfG7zSkvqKTgBVQSelSjn42wIDat3G4ou58zD/h+VYPKOXoJKsjnwEL243qGQkIK2Qjcq8FKQV1XdKFPp/g8/KqcYlPg4pjG4wadDOcmOvY+23C7BgwTdYfMxP9GtTuNlZKOpqhl7cAAjfuuoBN7dQqIwYB/qtqwyGMjp16Si40Mti1YDNJlD6ZDEmv7PG1AGW+PxWBtpVSk5bB9Wgzju8HYZXVuOk8B2v1FCxhTQfCKaaOtQ79IAZ/QYdJXP0YDrD1us1Hnlx0U0lAwlphWBX5iEl7f2fjlcZuRMXv6rAs2ceCONroaOBATrUbguFbpg4/2tsOP4blE5a4YzE6y9MqKpQdQGXK9qXqMaYQ6jjXhXKkmoydgwu/3IEVRvd4LCAgZh0VbRTY0DOdDQmUnWAWg8TdMiywz23qtYtt/gp1v4Uge/dU/Am6AbWDCjArfVUw13JgjnV0fXebQSvcxcRpmEOI5Y2OnRoOFagkJpeNJ2GZY71Dt7YbeSFcxfDoGFuBJZ2B3RQbScl72InQ6m6NcrVDfkWC/Hb/gtY1O4u1i6whvtfPPfUqoaCpaoKUlkhbPn4FagkqlDVtMC0YXz4PHUB8/tD+NGYhXZdB2DY8OEYPtSCasWaWTRDA30WbUAv9x24kcyDXLt20NTrjfETJmDSom3YOF1fNKMEGCzI13YICVVBsai8EKrFFWYOFZUEqqpUQ6BKqBZd2Fjx6d4CVQZ5arirUFNb3bV8tPESL2Dl9miYz/xc0AsANxWJxfIgVRXCHYpZg5KCSigrElRVCHcxZk0JCqhtx6K7JDR8NjjUTlcLQ1EJinTtzEvEhZXbEW0+E5+P6EL1trlITSyGIqmCcFFM1JQIT5eoTlyCYeHncCiAAcv+TcfkkvKZQMW1SawYalBVqKmr8KVHgI8Mfx4Gr/8ec+d+iWW7f0ZPj7vwFO3QCt1MoF2UV39xujQNVSwDwTl9jWmL8CnV+D1t2NOpfovQCGrkSH9u8POHgqnXH/07lCMvLxep2UXglOejuFJY0Qju6ZMzxfwvFPBgpweIWeMHFllmP+DorTu4c+c2rvwyQvSrOEVwtXkFi9VL0JdqYHsaKMFg2ARMmDARX8ybDMFbVynEG12Ofxw0tjoiOMoHB/QccS2iq5S0dEMrSAKmwRwc2tUZt4+6CM9dK0peH1P4jldUuDnBU+wMx/vA6jkUA1XKIHgrJ78K7Bot6Op2QP/+HVCel4fc1GwUccqRX/z+tyTwswIRSEZg3tTxGFD+DmTSZ7AUNRQMJSUoUQGU6/Idjm5qhzOrTiKmSVvBQtdB/aBbXogCehqvCMWlLPQeOABqlaG4tOYnHPIUjZKr3+D6j1Zw0B0D04IXOG59Am4l+lTd1B0sTpUgtoTDRjWjPVVOFenLpZclgpcbi7fEBL0NWGjf71scsTuKOVosavTBQ8qlRfj6CvD5KitMkUvDu47TMWe0IipDL2HNT4fgWcBvJr1oBTS8FFxa9DWu4HOsspoCubR36Dh9DkYrd5CSd+oAb1D2moTzWEZ1Wpedi6fqKKphkaOCSqURH3G1Fanvo+Cl+eH2rYeIUxqECV9Nho7fPfiWEWS9dEX+mJ/xY38mfM4fhkNUBhKjwpGq0AujBpuhc6dO6NRRD+qMNPjdvoWHcUro340Nj0cPEas2EmPax+HhTUdkdfkCP/b0xMrN3ugw3wrDEx/AtYiFyjg/JDM1UOB2t0na8ToJVNoHiFceiN7MQDy2CUBVv8VY2TsaD3zLQLJewjV/DH7+cSiG9lWB7z1flJEsvHTNx5iff8Tg/hbQDH4AjwolVES44JFtGMjATzBK8RG+GncNWj98im4NepukOAIuXgXQ12PjbVIs4hJq0HHiDxiZfg02STxwUl4jXd4SkyYa4NVlGyRRw82U1+mQNzeFQaEPnqdqon1RGF7Yv0Sh6QgYpzvg1uNEKPTuh/5GBJEuXijQ1wP7bRJi4xJQ03Eilo5Mx2WbJGq4mYLX6fLo15NqNJn6MC6m4qH0Ixb3V2tSIUnKp64mB8HOjxvHqu+3+KkfFUOPCihVUGke2SKMDMS3YzqLlkRDv3b0KLaeDYDu4Enop8dCcUIEXj6+APfi7rCw6AGDbv3RLfE6bqZqwQDxcHetRp8v+kOfjp1SD4wbXA7bU/ZIV9SCYkk0fDyyYTx5DAxKr+ObeS7o9fUo4XWFVkONSLxtcO+RIwLzVWDQpQd6G9WPhphqujDq3AlKOUFwcXJGBM8Eg/ppI/PpKRy7HYzKzpYYN04L4a/UsWCOFsIe2uCxYwBylQzQ2aQXOta+U4WCl/oSt27exdPAAqiqVyIhJAi+zxzwtt82/Pl9TyjJdcRAkyTcuhUHpnwRIkMKoKmRiqe37iGo2Aj9O+bA0Yb6XGgIC5WXuPiSoJN6GTKyFNHr01mYZ5HcOK1mMu6dPI774Tx0teyHzurUyJPaV4wyYiA3cQJ6KTZdn3Z/E3ThvKL2+QoQBTVYWnaHRpviKQGF7jDhueFpsj4MMu7DtnIONi8cgm6dO6OTUg6CXJzgHMGDyaCBGNJDV5SIgqrYvO4+hN0zF8RyNKHWzgCmHdXAT/HC3Yd2eOYSC46mGtoZmKJDjg122bCpff8trjsoYuGmL9A5xxs29x7DKbgQagbG6GFmCGVOMl6cOog78fLoZkHlocF5TIVuFjBMtsH1l2VgR9+DbcZU7D4wD105Pji5+TQiu87BgqGKcPtlPBZcfo1on2ewt3eAe5IJftj1HaYOMwXH/gqeppYi7qkj0sfsxLGVFtA1kbzc7rRCWgSzfXfop93A0YfxyE8PgdODQCgv+A3L++tCrjAYT72ywcjzxHl7Dr49dhgLuiui2PskNp+ORNc5CzCsRw8p6bXre+xMBgqDn8Irm4E8z/Ow53yLY4cXoLsyC4b9JOddvcS7ruzfTOkHjfxk5FHHTEH4LVy0r8HkP45izSAdibc1txr6OYrWwiktIKUc4ecy+y1k/YMcwqW/VCWSy4tWkXulgknvDae0kJTWiL60FU4pKajNXB0cUlpQSv2/MZzifFLEZpOi3EJSLlpfqecL4scWfm5MFSkqKBOUk8sVlFYApziXFFTxRN9oOKQ4t4A0/IldlEuKODWkrCCflHEazltPVVEBKRMuXBhLGk4xyS2oInQKXkEqSaOCkvL0PvEuF06WjOR8SoRafn4RW5C/wtoAtBkeKc+MJqHRmaRCYtFqSGFSOAmLzycSw/pvh1tG8vPLBdtIKtQ+xuaWk5x3uaS84SZpTVpxJKSpys+m9i/Rlw8ClxQlhZBXMTkfbZuVpYaSwIgMUiH6/r5wijJJWnYZtZe9H+yCLJJb0fQ4ac1yuRX55B21TcX3e25FLsnIER6DzSEtfT1cUpGbQXIEFUNTpOW9IdzyXJKWmvX+9akY7/3AHX2XxOmH+TCkehcK1bl4k6mHeVYz8K/UAv1jPVN/o+dJhgwZMqQgezJbhgwZMmQ0y189sylDhgwZMv7jyBoKGTJkyJDRLNLvesoIwL3TB/Dn03hwSjMQGxEEl+un8ZI1AaO6/rVnNBvDR47HJTzKNUG/Tv+sKwR10L6pS4+Qa9IPjbPIQ8qLP7D2SAr6fdoPmu/b7PIz4X1sA3a/Nsa0Ifp1rTftYzq2YTdeG0/DILzEpUe5MOnXSew6yoeLH+3S2rvuEBL6TEV/LWmFoT1Zx7Bh92sYTxsicPN8fGgp4A3ctnWDT3AU4mLDERL2FqVqXWCsJbYv0lLAbA1oq2XA585tPHYNQZlBf3RvuHFoKeC563gW8g4MIzN0anjXU4onbty2hZtPMKLiYhEeHIqEUiV06KwLlY9QVloKeOvuU7iFV6KTZVfB3Uu0FPCGrQeCwrKg1NMU+m17jBy8dB/cuf0YriFlMOjfvdF+WR3vgHPXnyHkHQNGZp3QoOgUlciODkM8VV5tLRWhwqQOWgqYDQ1tjdb3LnkFSM/mQ0O9wTaipYDhMchl6UBHVU4gBbxn+xx+QaGISufBwLQjVIqD8ejGU7x8nQzS1QwdG9x51BQ+ytMjEf6OQEdPTSzPIiqzER0Wj1IlbWip0HOwkRidJJDyKYgtmp0dg5DoHDC19KAucIo0A7cQCSGRyGS0h16DmblFSQiPyQVLR0ey9I+djZiQaOQwtRqlax1cFCWFIyaXBR0dVeE1S34J0pOLIa+hBvmaPGQVykO9yYq5KEwIQWQmA+311IW6lDYgdZvLdRyGmd3yEFhsillz5+LLrxfil03ToZKSTh22HxYmSwEK9H3hH5JKF1y3SaV2ow9BvW+KPphcrtsgVbBgORiPGQyVrKxGvpY2wzTE0BE6KMwob5TfRj4mJgsKCrVPjjbMw4eLX+v8Xq3xZDXO319HJgUUpzkpoJzRKMwbqojAc5tx3LdRyRHsegln7asxac7Qxo08PxseV2/AN5+PQrufMePH+0hvUFypUkCJVCPRwwaXNszG7KMR1DcRH0IK2IhKvDr+G84makCv6D5+3+cBcY8fP9sDV2/4Ip9fCLufZ+DH++ngV0fixvLJ6GdmBjPqX6+u3TH99BvkPjuMI1410FEOwbYZC3EnrZntXREK29tBqNDVB8fnOA7ZCeV+xS/3YMXhULCUEnBuwxFQRWwEP/cZDh/xQo2OMkK2zcDCO2ltqKOK8XLPChwOZUEp4Rw2HAkUOpxqAnBgign0OphixNcnEMwWbyQqEGp7G0EVutDn+OD4ITtktXFXblXtwqB23yQPDyRoTMCEwYqooFrwoMAghKWUoDIzivr8Cm9yMhDu5gSfuBREuLvAK7agrkFp7HEScx6lZCGPrwdDWubEz0WkO7WMNzlI8HOBW3AGOJxcxPi4NfA18VEU5wsXpxcIy+FJdhpVJuHZ3j9x81UI/MNSBTs3OzUYnt6BeO0bhuQmNopKZEQGIjAoDIlJsYKyhaeWoDDxNfVbHLLza31TlUh6thd/3nyFEP8wpIqyxGAQVFLL93APRZ1SqQmVSAlyg6ODJxpqo7h5sfBx9URkI/GSuI+JKnMeH3qGqtQnsTyUFtXHT4CY96phTP1fwC00U3TgSs5PI7+XOBI9WeLLkRQjyetqGzIpYD0tSwGZCjqY9nUf+Nx4UV+5F4WhTN0ManT5xIrOz36Ms9dyYTB8KCatsoKl30FcjBBt5eakgBJRQPfx8/Ht2O4NnFofRgrYiMLHOOJKxW50F3QZ9T36hB/BzUa9Ez6yH5/FtVwDDB86CausLOF38CIi2BUYsjMKCfGxiI16hj83H8KJFd2QnxyJNI4muvSZgoEK7ngRLvVgRnXIE7zkWcCiSxcMnDka1REhqObF47y1HQznzISF+aeYa/ACRx7kilII4ecnIzKNA80ufTBloALcX4TXN6QtwIs/D2s7Q8yZaQHzT+fC4MURPBDsAwpUecJRkhsPv8e78Rntqm9IdQievOTBwoKK08CZGF0dgZDWrlRECw0FoSpYP9y/9ie2nfRECdRhbtEVKmqKyLr/G5XpPJT63sGNUDaUlDWgHnsOP//hDbmBQ6HutAZLLyVQG/OZmMepqrHzyDEFyqm3ceBhOrhMVagnXcPabQ+QZTQEjNuLsOhcBFjmneC9YR3sqeaz8NkmrHdQw+gx+nDdao2XVJ6aOI2YujDvrAmGhiGMDDShwHHHIeogGDx6ELRjXiKoycOlClCufIaNW56BrcZE0P7tsC9jQS7vOWzci6GgUuubYkLXvDM0GRowNDKApmhEzcsOR0COPixrruHng5ENKtF6qv3/wAZ7VUwcWozji/cJ9MDs0KOwOhwHo1GDoZgcB6F6SpKPiQll9VTcPvAQ6VyFxnlQUoZ6bfwgwXtVIYqp9UNkdxoI7rWfcTCSKzE/zSLFk9V0OWL5o2LU5nW1CpkUsHkpIAMq477FiIjbEBadj6wIDvTMJZecqf8Z1lnPhCndOnJLUFqtAS0NujX5J0kBG1MdF4YYaEBTUC8qQUftHcKjGtaATOh/tg7WM00FjT63pBTVGlrQUB2H6RPoZ655SHnqAt6Uz9FdjoXeK6/h3HddUBP/CL4qK7D8E+mnclmmFig+MA7TttrA8eFrdJ4yFkq8IhQUy0OJfsScKqWaag3CAqKECUSweq/EtXPfoUtNPB75qmDF8k9afUs+r6gAxfLCJ9ipAEK1JgwBogBWZ4XBleqMP3zij2zxUz4sU1gUH8C4aVth4/gQrztPwdg2nqVuoaFgQKnLCMxbuAG/LxkCuj+bEx2NPI2emHngPGYEW+H38m9weMVodG6nBkNDbRj2HY5eGprov2QySs9fQpmzuMcpV8x5NBKGHbVFMjdVGHTSgbbJEAw3agd9atip1HkUerY3pCqDXGSVlcH5mgtq1LPhH5gDbR02Usr0mjqNGOrU8pWhqK6PTvoaUGB1gmHSfkyZ+j1O8QZhXDtB4RrAgtbgZZjfPhR+bC70jAjifApQVWSKWauGQUut1jfFgrqOJpQV1akenz40REcOQ707Bg82QrsOWuBkZdSNpBqiMGQNrIen4YlPKRi5MXhTzYbziTtQnDINXZRU0bOvCQTqKbZkH5OKXkdoC4IkngcV6NXGr0SS94orjGn3wRhGxbSDFgdZGTwJ+aHSNwNbiier6XKaxqit65KOTArYFikgQ2kEvpucBpuHGeDzUhHH7wipRadf4jTBEtq0jsLmFjLm78SSrnL/MClgY0hFOarkFUUVLQNyTDYqxM6HyhkNwwRLbTB5KbC5lYH5O5eAKpaQQidcje+JT7vU98DLEzzx6Hk29KkOcbtmiszUm4HNO76Elt82LN0XjEo6rgp9MXOaKpIFw+YyJCVloYzKYxPKE+D56Dmy9S3QtbmViKHQdyamqSYLR+VlSUjKKqPKSwWQ1RmmgwdgPFWXTORdxuJdrxp72Zh6mLF5B77U8sO2pfsQLMhs22jVqSe6cjKbPh29mfnwCoiDAp2Kw4HWyHGQc74Dv4aeMNGG51eWgU31xKV5nOqcR02gquNaQRGDGv7XXXUh4BM5tGunCb3e4zFhwiQs2rYR0/WpjSzuNKL/ilTm7AAv+JcXw2SFE1yvb8aINydw3E9CTUUN/2fNYMHx4EvIL14NHe/zsK3Ux5AmR6Hw5AxhB8DLX3gCkh46169e0vCch8QLK7E92hwzPx8BoY4pEWXKCmiinmqVj6lpHgRI9F7RfakGMaWWSIik/CSA1kNJg+4BNvVkSVtOw/xVtHld0pFJAdsmBVRA/28+Q/l9G8THpYDRzYQ6kpunJPA8LpQsw9Xto6BeHfkPkwI2hqGqBmU+V9SoEtTwWFCReMdBCQLPX0DJsqvYPqr2og8fmY+uIl6vX12Pnk/VaUom4/DNmk34JON3LD0WLZrSlCKHA7ij+gtueYTixa+KuLD2GCK5Khi58yK+qniGZx5h4Gt1hIFBB1EKEXwOOEomGPfNGmz6JAO/Lz2G6NaOsFVGYufFr1Dx7Bk8wvjQ6mgAAyqA3JwisDroCuogdfPuKHW0b+zJKnLAgTuq+OWWB0Jf/ArFC2txrI1vbJPaUNB3Pdn6JKEo0ZvqwT3Ew3s3cWrLElx8q4fq4Jv4dd4epI9fj01jwvDzot14EklfRqJ6fKFOcPZyw/WTMRj3hxVUpm7FajV7nH5M7ei2DxCQxUWybxBS0kPh6JcKHi8Ngb6JSIsJQGwh9dk/CZlxvgiJDYFPTCZSAvwRG+OJkMwshHmlYOrW1VCzP43HHm6wfRCAdxmB8E/KRJxvCGJCfBGXmYQA/1SwLIZAL94e9tH5UMFbPD53BS+TyqFsPByDukg6XOhh6kxoZlbB3GIiZhuEI1lvkECNzUsLhG9iGmICYlGiaIEhevGwt49GvgoDaYH+SMqMg29IDEJ845CZFAD/1Ka1IENBHUqVifB77gd2u2oEvkhA77XroOdxHg7e7rB9HoHEcHcEFYzFr+v04HHeAd7utngekYhwd39qPb5ITItBQGwJ0DAPipn18eN+hq1WynC8ZAdXu8t4pmKFrdMK6mMaEwLfuEwkUTHNZInnJxqFyXQ50xHrE468xh0zKI7/Fev0PHDewRvuts8RkRgO96BMCeWKRgmrYYxYkud5r4ZCMjIpoCCpGMIOk5zpfHyh8AA7PQjMxM9di1Gd4Ih7aSOxZd04aEXZwyFB+x8mBWyMgmlfmHLykCPYlyqQXdgBvXvTPUseSopKRKOSaiQ43kPayC1YN04LUfYOEFwGoqLr6xEJBS2R4ZX7GtbDemCFI93xYkFNRQ65GTnCaU2oxttXRTAcrEPVGuro8/0xbOhXhlz65UKBgSAj5mHq+AEof0cw6TNLav7a/HDx2noYeqxwFFyEZqmpQC43Q5T/VsDPQmAgwYh5UzF+QDnekUn4zJKJXLtTOOKRJjjlzSstpY4xDcFoiFdSJDjOqt++QpHhYNBiYPU+3+PYhn4oy23tSkXQT2Z/KKoeLSTTD8aSovyCJh6Tv+RxagKHlBaWtux5YZeS0ir6Qw3h0M6l3FxS1mwiHmGzRfIcdlUzvhs2KRUuuG1UFZECodiJVjuJ4JDi/CJqvUUkt7C8vkwt+piayYNE75UEJOaneSR5siQvRyx/77GuergkxesG2TatM+k2axex8cuQ4EnikZyge8R6RjfSf9FJ4hgRRzzP/kQmTVpBznimkpqcO+Qnq3ukgJtB/Gx2kVkmvcn8gw9JUHbjJXFTPMnVjROJgclcsvfyVXLl0nlycs9GYn0rkpQJ5uCRAo8DZPXWS8TZy5U8uv2CxMS/ILtn9iKj1zwkoRGuZO9sMzJq9X3if9WKzNtjT/xCfMmjw2fI84KapmnfvCDHlkwgU9ZcIj6ZorzwcsiTtVuIrSB8TdcXX8Mj+U9Wkfm/25DbN56TVLF4ctM8ydmfJpFJK84Qz9QaknPnJ2J1r4BwM/yIza5ZxKT3fHLwYRBpVPRCZ7KqvxHp3qsX6dXLlPTouZDcFRaYyk4QuWc9g3Trv4icdIwW/tgsXJL88jY5u3I46Tp5E7n8OJBkUeuqCd1L5lrdJ/ERtmTvb8eJbyGPcJNfkuubJ5OOPal436fno8obsI9MMtAhA5ccIS+SmttZyojfwdVkt3MCSfI6RFZZPyP5dJnKn5IlfReSR1T+C51Xkf5G3akyUeUy7UF6Lrwr3I68NHJ8gglZ8aL2KK8gIbePkWuuYSTG/wpZ9ul35Opb6ZUFJ+Y6sd5lQ/wTkkjE88vk1OM46kiuIaF75xKr+/EkwnYv+e24L6GK2Cg/FSG3ybFrriQsxp9cWfYp+e7q25brsVpqQsneuVbkfnwEsd37GznuWyg4DnhZL8mdOx4kKj6AXF6zkPzhTUv3ysnTJX3JQnqlnBhy3Zo6bvypOEU8J5dPPSZxbXSEfTiFR3Uy3P9Yj735s3B497ewlHofvgwZ/wF45SgoZqC9tqr0YTmHAw6Li5LsSqh20K2/p741acWRkIZdkAO2un7dTRX/BsrTwhBTooc+FoYf4EVWNFRvPSUKyVwj9DHRavHUWj18FCW+BdvIFAZ18aOfyYhCVLY8ulqYQb/2nJQ02NmIDk8FOlvA3KC2NOVIC4tBiV4fWBhKLiG/PB1RUdmQ72oBsxZXIkZ5GsJiSqDXxwINF8+vyEB0TD40evVBZ3VJI0c2sqPDkYrOsDA3aHPsZa4nGTJkyJDRLLJuvwwZMmTIaBZZQ/FvhFOCItEb9WTIkCHjY/OfbCj4OR64eD0Q9DNPHxfas3QR1wObron2Ju1eZIXrKa2t0HnIC3WBg7MD3CKKqCULf8sNc4XTM0e4Rghf8chLeIqTV57B7eEJXPf9+CVsivQyy5Ah47/Jv6KhqHS5DptmxUFibqFGXqSPS0PPUsN80t6kwSpZyGqlBKr85VaseqSG8Z+Oh9yDrbiQxAM37E9YP9PGhKkToeO2ByciuKiMKIHhgq8xd/4IMJJSJD4F3jZa4WUS82Z9FDdXs9BSwGs4ffQwjpy8gKvXruDytfvwTJDwMBMtBUxr2jjTsr9rp4/i8JGTuHD1Gq5cvIoHHrEo+FgDM14yPG+cxfEjl+CeLlpJSTieXDiLs2cvwi7yvV0mHx+xGHILExAcFIWsZu6M5RWkI1Nsc1RmR+PV6wQU1N6+S8vrkrKF72+uzkNWXrVACmhz9SLOn7+Ea7avQD9/yC8KxsPzVJzO30eQyADQHPTF4YhX0ciWeJswBS3hCwpEVKMC0ALEV3idUNDo4TRa6Bf6Oh5U1lqGlgIGB4kttxXL4JcjPeIVoqVmuDloKWAoXsfnSVR/VCS+QdPdn4+S9CRkCwOPvCzJaZuj2aO9MiUIbo4O8BQJevi5UXB/5omYYh6K3/jC+UWoyLPDR1G8N5zdQpEQ4wd7tzAkRLrDyecNchL84OIWjAwOB7kxPnDzT6pTDjR2QPGRW5fGHy+oZQm1Tc+w98+beBXijzCBOKglt1BDLxJNa91HkqnMiEQg7bVKTEIstbMFhaeipDARr6nf4rLz6zxLTfNJwWCAVKYi2MNd6KCSSjVeP3YE36w/VKn/+nfNhs3dGLx+9Bw1vc2gSP3Xy6QMDg/CoDjeFNx713DjZgwMRpo3c5eHmFMrTfhgXnkytU1dXEXuLAlepsoUBLk5wsFT+ARtE28WX8wtVZ5Mze8CV9F2lejeomFTcfD0RuBrX4Q1lW21wHtIAcX4u2V/kOuKcV9bghF0EVY/XUQCffBqWGLGJCCfORnTpdj+mpP9/T00jmFFqC1uB1VAV58Dn+OHYCduk6tOhIfNJWyYPRtHI2q3Kx/ZHldxwzcf/EI7/DzjR9ynDYMS5HV/TQpI7Z6vjuO3s4nQ0CvC/d/3wUPMCihRwidFgNiS0K8R7ykFpDKM47+dRaKGHoru/4594hluFilSwFoq/LBnwRY03f1rEHBgCkz0OsB0xNc4Ecxu9CxRa5C+Far98ccGe6hOHIri44uxL5wLpqoaEq/uwr0UHpTaFcH+j/MIrQEVqG1YfU8Jw419sHn/GxjqsKComoRra7fhQZYRhjBuY9Gic4hgmaOT9wasE0qbmjigVNXpNNZ4mN0JA7lCbxJT1xydNRnQMDSCgaYCla2W3EINvUitdx9JQ0G5Es82bsEzthqYQfux3b4MLLk8PLdxR7GCSp1nSTyfAnjZCA/Igb5ljdBBJXU1LHTp0UXwsAyfajJz8vKQ+e4dsrJLoSAQu1BtjooSyrNzwG8/FF/9uBDfL1mESd2auxmQ2dipZR+NIq892PxUHkMnjYCa0+/Y48URi101/P/YAHvViRhafByL94WDqyDmzWI2cEuVeWHP5qeQHzoJI9Sc8PseL1SoSnBvcTlwP3QNuYNHY5B2DF42lW21gveQAorxt8v+qDwbzDmIjconsfrcG2rLUltavxN6GepKOVBblv19bBrHsBohT16CZ2GBLl0GYuboakSI2+QUumP8/G8xtnsDORNVET8+S21vg+HUvrYKVpZ+OHgxgpogWV733lJAFOLxEVcqxqOp/I3C932oBudmqmiaEEkSPrYkAWJodItCv4a8rxSw8PERuBrMwWgq3ajv+yD8yM1WW5alSwFpKhHuEooiJX6dN6EhCkN2IrwkF/F+j7H7s7a/Ull6Q6EwBGushyPtiQ9KGbmIoQU9qgYw0lUBg0qmpGMEPTVh8qrMdFRSLaSajj7aVZVDu08fGNE+J20TDBluhHb62mAqdcaonu1hqMdEblaZBAdUNrV4Ok13DB5W701iqOtAU1kR6tQBpq+h0Cq3UJ0XqQ3uI2mwtAZj2fz2CPVjg6tnBBLng4KqIpjOWoVhWmp1niWWWD4FMKjKaPDgegeV1NUwYbz0IOZVPcFTZydEFClAo50a5JgMqvcjmoU6chlyck2e/pUOU8ypZQKn08+hNc4CakwVmI3SwPPTTuA3ih11IK+xxvC0J/ApZVAjwDeoZol5s1DvliqxO43nWuNgQe0HKmajoPH8NOy4Bk3dWzwWOhkmYf+Uqfj+FA+Dmsq23oPWSQGb5+PL/sDsiAXHtkDjzCqcFhspvJ/s7yPSJIYsmFoU48C4adhq44iHrztjSmtsckx9fLbOGjOFhkGUlFZDQ0tDMKk5eV1bpYCojkNYDDVQE1oBqTpJDe/CW5bwqUgSIKoVtyj0a8j7SQGrESfMsLCiVtKB2rtwNPIYNkNzUkB25HMkd/sEUnf/6iyEubrA6eETquMovb6ThtSGgpd4ASu3R8N85ucYIRT0ICGZBxZTlITPBocjbLvULKZhGN8HT12Y+P7QjzAWNVf1DiQG1ROskzaBUJWeVAdUXRrBU+OCv0JtExsBXj6IadEt1GAw1mr3keijRKhe4awZYDkexEv5xVit443ztpXQbyqBapBPf+GQUJKDSgr8KgZMP/8Wsz+diq6Kmhj7aT+YdtdCWZFwR6gpKIWOqdCC2RbqnVosquwElcJggF9RCaKqSv3aIHY+MbiwcjuizWfi8xFdqCaBi9SE5NqCCb1ZjcKrClJZIRhyUwtEJaHiLQiveLm5KDZZASfX69g84g1OHPdr8zlSIe8hBWyBjy/7owYvHefjyDYdXLA6geha299fkP19HCTFkAm9GZux40st+G1bin3BlXXHZvPIwWjYBFhqM8FLscGtjPnYuaQrtcNIl9e9jxQQpALlVfKgdnEBDDkm2K2R8EkSIJr2b53QT8T7SQEJKsqrIF+fYTDZVBnqd5VmkSoFZEfBJcEYkyxocakkWOhsOhgDxk/BtIk8XF68C6/aeHlE+oiCoQB1pUok+j2HH7sdqgNfILqEAZMBHZEb4Ac/92Ck5sfC0zsFPPlCRNg/xIOntrh25DickqoaOJBiEUJVQJkpAfCPjYFnSCaywryQMkrcAUWkeJNYsBiih3h7e0Tnq4DVoluI9i+JvEhpY1rtPpKgZ6qDVjDP1MxElbkFJs42QHiyHgbRjzY29FSVKDbKJyNNsoNK2mq4kbcF1wriva/gqcpSbBijDpPvf4F57AOEpUfg/isjLPq6SxuGjNWNnVpQxWdbraDseAl2rna4/EwFVls/g2ojdxULCupKqEz0w3NqBNWuOhAvokug2NCbxagvc9qYrbBSdsQlO1fYXX4GFautmFYgqdxJiH98DldeJqFc2RjDB3Vpc4MnpPVSwKSAK/8c2R89cpl3GNsNr2D1yTdUs0nxl2R/Hx7JYsU8OBy4A9VfbsEj9AV+VbyAtcciRSlaQUkgzl8owbKr20G7+JqV172HFJBq5aGmzAdX1PiSGqojqyL2zHEzEr5GAkSqW9Si0K8B7ycFZEBVTRn8+gyDx1Jp/ZsTJUoB+Yh85AVuNxVkJKShkF2JvJQ0NHBi0oFHEasDdIWBR/dSR9i3JNISh34yWzpVpKigjAgMPQ0EPbR/qIh2JxXkkzJOCbHfsp48yBFOr0q8TBatukdo20hraK0Dil1aSuVGRGvcQg1prfuoGXhUDSFcAptUSZdANc5nm+CSwsQQEp5cLIh3HVVZJCbiLcn/a9lvAIeUFpSKylJL49hVFRUQYXip+Ap/ogsm8mY1hVNaQFoKbw01/KwpyyW5zcu2mqGGBG7qRwZvj2jixqnJjiZ+Pj7Ex8eL3FhiTsZtcyXh75pmtiZwE+k/7k+SWFeoQuKwbAj54koy4XJ8ya/D5pM7RcIpvIIUklLEIaHWE8mSJ/Syakjkronkh0dVhO3+gDyh5UXUXh5kPZ9sdPeUkJaazvEn9x7E18WQl/2I/NCrI/nhXgU1TdL6qojX+snkFw82KXd1JNSfvw2JMUzyItZrzpFaBRUpsyFrf3MVfWlIFbFdOIJs8G2wE3DeEofz90kYLVaqCSd29rEk4+wPZO65aMH241DbYuD4QySBCg7H6xdiNmofiRcEikdSr88lvSYcIdEt7ir55PqXn5IDwoQk/8IsMvFQAvWJS4oL6eOohgRv7UeMljgIjkmO52rSo/tK4kbFlfPWgZy/HybwPtWE2xH7+GqS6XWPPBe4pUqJ3bKJZKOvtA3AIYHWa8i5+sAQm7W/EVc2T8oyavND5fH6l+TTA6J9Iv8CmTVRGINWwcskXveeE+Hi7ciyiRuJL7uGZEf7UduN2nZeN8gS83Fkm2s4oXd/bnEhKabm5WWcJT/MPSeMJyeQbBo4nhxq9UqFSH1nthAWlJQVBMMOZu0pJwqWkiqUqGGegrIKFORYUKx8A//wDORTvZHY6HdQtZyCkT1b925dOUVlKLZiRpaiYn0vlKUEZYHrnEnlS/gTnVdFRSn9VDlFKCu2vi8uCQaLJerNs6iepeCDRBrls00wodzeAPqaSo3jxlKDrr4WVP5a9hsgB0VlRbGRSePYsZSUhSp5Krj14VWE9PBS27CF/DHlqGG2gipUBQtuKzyketvg3iNHBFKjNYMuPdDbSPieDhqmmi6MOneCUk4QXJycEcEzwaCBlugh6EIJ4aW+xK2bd/E0sACq6pVICAmC7zMHvO23DX9+35PanztioEkSbt2KA1O+CJEhBdDUSMXTW/cQVGyE/h1z4GhDfS40hIXKS1x8SdBJvQwZWYro9ekszLNIbpRWuy8ToeeO4/j9cPC6WqJfZ3Uqn6YYYZSBGLmJmGDepcn6tPuboAvnFR74VoAoqMHSsrvgHdp/BxJjOGQiRpMXuBVHjapUi/DaMQ4GM2fDTKfBxualwOvuQ9g9c0EsRxNq7Qxg2rEGz3/5DMuvv6BGmqdx6tR9lI/6Fd982gH8rHJqV8rBsyueMLL6HTMQCJt7j+EUXAg1A2P0MDOEMicZL04dxJ14eXSjRrPd2ksLggq6d8qCrUMFehpl4e6TCsz8ZRZMiCNWjT4G/ndfYLh+OygqaUJdMRfPLzwG95td+Ln7K6z7bDmuv6BG1qdP4dT9coza8DmUHu6CDbs/jN5eh4PiQmz6oquUU5ly0O2QCydq2yl3UkXRa0fEGczE7D7tkXJHwjIqHUT5mYWBZp2QZeuAip5GyLr7BBUzf8GsnvR131bAS8SdXTZg9zfC2+sOUFy4CV90VYW6rhE6d1JCTpALnJwjwDMZhIGWhghcOxrH+N9h9qBu0OJnoZw6hnOeXYGnkRV+n2ncppd3yVxPMmQ0RCb7awI7OxpC95056tx370nL8rq2wytJQVQyF0Z9TKAloTPTeglfy0K/RrynFJDKMFKiksE16gMTSRluDilSwBbhVyAjOgb5Gr3Qh+q0tDXysoZChgwZMmQ0y980sJUhQ4YMGf9WPmxDwc+E99HlWHoqUnhnx3vBQ/qzM/jz3G3Y7FmE705Hvd+y+DnwuHgd/20lUTUSHKzx3S/3BeqDluEj0/soli89JeXhv7YuT4YMGf8f+LANBdMQQ0fooDCjXHhv/fvAccWBa5WYvewbzBmni9J3Za1eVmMnFBMsBQX8rUqivx0FmEy0BCstp5XPJdAPmI2ATmGGlHu327q8ZuB44eGThnoNGTJk/Ftp9q4n2vXk5RuKNGIAYx1FgcfH4+Vb1LSrxhv/UOQrd4KB6IIUNy8Wfv7RKCx7A++0Xpg7UcJj4twshLt7IQUaKI2LR5WuIdTL4uDnFYT48nYw7qCA3Cg73HIoRrfuSsh94wevggH4mloWo6jhfGqCFq4i2RfPvcKRwdOFbrkn9m0+h1QjE+iraEGPn4XUYjm072QMXSUIHEfeQbHIYerBqD0LuZEeePm2Bu2q38A/NB/KnQxAF4WdGgyfyHQUvMsHp0MHtJdw1Uc8LtyscLh7pQAapYiLr4KuoQaYEvLbCNo55fESb2vaoTreF6E5yuiozcabgAAkcOk80lcyaa+VF3xD00AMjKGjSPub3CFcVRziq3RhqJoAu8dlGP+lKQrCI/A2pwZqeu1QFU/FLige5e2M0YF+gp6bh1g/f0QXluGNdxp6zZ0Iia9Q5sbB7lEhLMx5iEuogkZHHZCsSITEpiCnWg368jmIDH2DQjkd6Ko3cyGuOhjOLzUxdAj9XuG/Ci0FvIHbtm7wCY5CXGw4gkMTUKrUAZ11VT7A8sXhIdnzFu4+dUN4ZSdYdqXv4CtB+JMbsPUIQliWEnqa6rfprpF/B7QoLwzxpUrQ1lIRu3uvAolvsqGhLfluRloKmM3XgHqDC/C0FDAsvhRK2lpQqV0YLdILiUQmoz301OUFUsB7ts/hFxSKqHQeDEw7QqU4GI9uPMXL18kgXc3QUaX5e4Loi9WR4e9AdPSgJmmXpKWAIdHUsU/VC9Q6hdBvs4tE+DsCHT21BmXloTgpAlEFitDXUm5+3xIrSy20RDEkMhOM9npo8HMjJMWrddBSwHDE5LKgo6MqrGNp2WJyMeQ11CBfk4esQnmo191h0QBeAdKz+dBo+0qbiYNE15Mkjw+1HUKPwupwHIxGDYZichykCh+Z6lCLOYcNh/yRHWsHez8HMd8TB+q62tROpQxdo87orK8OeXofaeKFqkCF326sOJkD84l9EL3jNzgpN3YtMZXVkXr7AB6mc1HWxHFUIdErxeW449C1XAwePQjaMS8hUUkkKS7qaog5twGH/LMRa2eP6Nym+W0CU+Sc2vYAWUZDwLi9CIvORYBl3gneG9aB1mE19Vo19TfVnUGqSsDTS3cRVkxQ6rIJ6x3UMHqMPly3WsOjIBRHrQ4jzmgUBismI64FIycvMwpvlQdguH4Qdq65inQFPvx2r8WtdDkwGJlwfhiAKoVmGokPTlMp4OK5A1BmY4UfDvjgwzv95NB13NewZAThotVPuCg0+sFSaPTD5OkWkKL0Q06AHyQ/K8ZDVkpaY4nbPwkporxaKvz2YMEW96ZakbZIASWI9Bj/Cykg1SC+Ov4bziZqQK/oPn7f5wFBMk4sblvvwOMsFZTeWokdL5t5fFmKFPD9JIqtRYoUUIJssTHVSPSwwaUNszH7aMR7nS2QvhWkuJ6aenzYcD5xB4pTpqGLkip69jWBurQOAFMNHTvpQLNrH4xdvBPfZ98U8z3lQlVbEypKGtDvZARDqsWkq6OmXqhUuF+xR7tp09FVtStW3j2PeQZiriUVPaqHTj/SXgK7Jo4jO3AleKV4rE4wTNqPKVO/xyneIEhUEkmIC1OtIxUXTXTtMxaLd1qhp2tTj1VTVIXOKZMhGG7UDvrUAaHUeRR6tjeEHjMXWWX0qsS9VuL+poGC+PCLwnB62WkobfgTP47Tgfc1F9SoZ8M/MAfaOmy8vX8MdxSnYFoXJaj27AsTqRtICFPHDAO6qkDJ5AsMLziPq0lm+HFVP8Q4RaDqXTZMvlqOgdqShlqReHT8MA4dOoRDJ5zg43kdR+jPh47guk+OaKb3pbEUUE69Oz7fcRDDPVdhu+dHUvoZzMHBjco4ufoc3tBtBUsfnXoZQlfSSIyGnwd3W1dIdvpx8PL+YwkK6H8GfEmivAhRi1cZDpfQIihJsi22QQooUaRHzf53SwGrCx/jiKsB5ozugi6jvkef8CO4mVqD+NO/4rHhj1g40gSmYz/HSCPpnSHJZXlPiWIrkS4FlCxbrEcB3cfPx7dju7/3KFhqQyHN9dTU40PLrxRQUydtEf2VCgOKSoqCB0yk+Z7EkTSfsiJBlegtb8yaEhRQdUUT15IAaY4j4Q5aXxQq49ximKxwguv1zRjx5gSO+zVte6XHRRFKQqlSq8tFx6LOOUXFtV6HRcAnPCRK9FrRq6r1NwlhaPTBog294L7jBjVdDu3aaUKv93hMmDAJi7ZtxNRO6lBo/QaiqJ2HjQqOMjWKkaNGUEswLPwcDgUwYNlfyu6mYoE5a9Zjw4YN2PDzNIwa9wPW0Z+pEdIPo0QxkFiJvif0NTGB08+fqoapXtPT0zj7yAV2F6iGMboMiU67sejbnbj99C4e3DuO7af8BC+zKnllhweuPvBxv4ntx9wkpK0dSjLRccExbNE4g1Wn48RuqhBPk4OoB7tx/HEg3GzuwCVWuifonwitqWkiytOgdzI2Ip8no9snPeqOlRaRIgWUKNITphDwd0kBmXFhiKFGiMJkStBRe4fw8ATY22fDUD0STo6P4FU1EGO6SesRUMuVWJb3lCi2kuakgM3JFj8E0kcUElxPEXH+Ejw+2Rjz6zroeZyHg7c7bJ9HIDHcHUGZEmqE6mT4BqUgPdQRfqk8qEwV9z1xhX6idxHwjopHiF880uOpoXy/zWLzKWP8xs3o4LgbF5844tE9P2RQFbW4a8k3MQ0xAWkY08RxNA0FkrxSSfF4fO4KXiaVQ9l4OAZ1kdCjkBCXsBhvBKWkI9TRT+CMalouCWGmPVG1zqnYEPjEZCIlwB+xMZ4IycxCmFcMtSpxrxW1g3s39DcJfU5peW8RpTwPX9QcxHdrn8JozWqo2Z/GYw832D4IQOG4X7FOzwPnHbypHu9zRCSGwz0oU5QRcZjQ06hAIFWRethQPemxu2FlTh0wrH5YOIManTCGoZnjp1n4udexYMYBRH+wHZkBVRVFFOblUXXGSay8zsTM2VPw+RwtOO99CLWJM2CU4oeCPl/iyzljAacb8OWw4WtzH0kaphjyyWxM7qcOfpO09+rv+pLriPlHtkHnghVO1Bn9qM3XJI0TdGd+ieHGPfHJ/AWYYvb3Kv3+MpJEeV3lwI5yQYLxJFi0ybYoWQooUaQn4u+UAhJqnip5qmMnmMiAHJPqEJW9Q0ZmLgpYAzBt+mcwevkL1jsWCeaQhOSyvK9EsXVIlQI2I1v8YNAP3ElHsutJMhxSnF9E2OwikltY3sTH0xyt9T01nY9aZ24BqapVrlBIdy1JchyJU0M4tMMqN5c0ryRqXVxaW65mkei1ag1UeQtLG20HTnE+KWKzSVFuISlvKV/sYlJUIQwsryCVpFEFSXl6n3iXC35qmSpncvVWitBp80GgXU/9ybg/Exssk03crXqQ/r+HkMKrM0mX2YfJM1dX4vriATl7wZVkcUKJ9cTFRKhqiiS7Jv5AHlGfqyKvk1WfDiTmfceTFbdiSb6ktDwO8b//kLwVrIxHMu9/S8zH7yaH7tiRCuqXUklpqjzJLxN/IZ61Oxknhtge2U/27dtH/dtNvvtsFvltL/15H9n/5x3yqrVCtL+R4oDTZPNhD5JDb3pOBLl1+iEJi48ncS+3klFTDpCw1ELhjI2Q4HqiKQ4gpzcfJh6ChRFSaL+DWD/NoaJZSiKvLyEDqXhGUPsh7XrqNWg7Cac+c1OukS/MJpMTsa04cDi+ZH3fmeRKsfBrld1i0mexnfBLLTw2YYsWVeGwhHQb/gcJfbme9J15hQiTVRG7xX3IYlt/sm3gYGJNZ4Ki8OJ0YrzEUfBZEpLLUkjsd1iTp3R5SyPJ9SUDyfjdEaIUDZESr1bASXlBbt1xIu6e7mTnpAFkU2ANqcl4RfziaWsVFb/YvWTkwG0kREL4qmwXkhEbfFuoAyXT/JUiqs3V1FITXFmXk2upG6kADW1NKCpqQre98NROa1FQb4/mbqCppel81Dp1taDUoBSK6lQvXPS5MdRIQEu9hRaefoUqC2q6upLvnqijdXFpbbmaRUkTWmqCNVHrEv7UOqjytldvtB0UNLShqagITd32Qh14cyhSQ3OB1pKPfLcT+POmM6J1hmG4qnByiyhNwcJv2mK7fQ+KXGHzygKrl/SFas+eMFAyoHrFEzBh4heYN9mkrsfYGA784zSw1TEYUT4HoOd4DRFdpaQlRHSmjH4B0SHs6nwbR12E77ZVlLg+puB2bKpKgpuTJzgKZpi1diM2bdpE/VuHaaPGYslv9OdN2LhhPgZJviL+P6M6wRH30kZiy7px0Iqyh0OCNvr374ByasSWm5qNIk458otb+dKp6gQ43kvDyC3rME4rCvYOUXj7qgiGg+m74NTR5/tj2NCvDLmioQNDSXhKRa7Ldzi6qR3OrDpZb5aVhoIp+ppykJcjXEhFdiE69O5NfeKhpKiE+j8Xr62HoccKR8GpaJaaCuRyM1Bo0hemnDwIk1Ugu7ADelv0xtCBKigrprc4H1XsGmjp6tAzSKBaclmq3uJVkSEG61A7gXoffH9sA/qV0S8uqs3PX4SfhcBAghHzpmL8gHK8I5PwmSUTuXancMQjTXBqlH75GbudBmibOq+kCCV/eaVCWpACypDBgKr5ZEwd3BM9jFonevzw8JD68hZu3n2KwAJVqFcmICTIF88c3qLftj/xfU8lyHUcCJOkW7gVx4R8USRCCjShkfoUt+4FodioPzrmOMKG+lxoaAGVlxfxknSCelkGshR74dNZ82CR3DitZvI9nDx+H+G8rrDs1xnqTDWYjjBCRowcJk7oBcUm66MqVZMu4Lx6AN8KAgU1S1h2bxivGkT5vobBiGFo4Uae/w1FLvhFXJT323cY370zOinlIMjFCc4RPJgMGoghPXRFiShaLQXciGUTipuI9D5Xi8H9v1sKOHowOmfZwqGiJ4yy7uJJxUz8MsscfXrw4PY0GfoGGbhvW4k5m7+HmcQbP6RIAS3N0DHXqalEUflZnRTQTE5SvNSadGckIlEKqAK1TlpNZIszjblwWCWUAs4yk0OK1108tHsGl1gONNXaCW5DVmvVSoXIXE8y/lPwygtQzGgPbVXptTGHwwGLW4LsSlV00BXdi07RmrTiNE3DRkEOG+r6mmKjVzYcLz9An0Xfocs/saH4u5Ao0vtrvJ8UkOrlp0QhmWuEPiZadSNvXnEyIhLY6GhhBr2WLqhLKcuHlCg2QYoU8GPIFhsiayhkyJAhQ0aztNi34aZ54/SG7/Dbg/QGdzaWwPvPJVh14DFCpb0Ivg2uJX6mN44uX4pTkVwqmQcuXg8U3Mb4b4eX8gK7F1nhekrjE4X/xDJWJzjA+rtfcP+jSp64SLh/AHt3rMCKi/F//ZytDBky/hZabChYnUygoZiJaJ83qL05kB3hjAfOOegyeyb6C95sL4nWu5aYhkMxQqcQGbSAiElfUJZr07nwxo6nv5fm1i1nPAaDVbKQJbz+Wc97lPFjo2AyEZasNOS8z2ObraU6GFftajDjl83YMO0jX+iWIUPGB6PluqriFdhdpkA9LxOCOoQbD7e3pWCoW2CUsfRDnV+UB76eIVT5fORGusOJamhyEvzxwi0UmXWVERd5sT5w9YxEvuAOBz6K8vjQM1StG73QPieHp/bwiC4U/EZ7ltwcHeApuJmY+p70DHv/vIlXIf4ISxXeQ80vioOvixNehOUIeq20v8nTOxCvfcOQLLEibJhHP7i4BSODw0FujA/c/JPqtAWtWbd4fumnAEllKoI93BEqKHiDMtK+J3cn+LzJQYL/C7iFimJMz1UUD29nN4QmxMDP3g0REoYftHvL3ckHb3IS4P+CmpdePrXMKPdn8IwpBq/4DXydXyA0m99oXj8XNwRncMDJjYGPmz+SRAWkH1isyY+Gj4cv4gvr+/uN4kn7ulwdEZCUgxj/10hrxklB+7XcXFzhL1gBH3nxIUjKy8Ob+BpoG0i+N02GDBn/PFpsKDhh+WANsIAeLwuZPB5S3GLR3rgQ6XojYNnMvab1riW+ZK8S2Ag9aoXDcUYYNVgRyXEFVFXChLJ6Km4feIh0quEQ9znZFjb1LCnoNnY8NfFCuTi27G+i1ivM4zY8yDLCEMZtLFp0DhEsc3Ty3oB1QvFSi+tukl+6fuRlIzwgB/qWNSI3VoMy8kW+J+uHyO40ENxrP+MgLc/i+GDb6ntQGm4Mn8378cZQB0xe01GLRPcWtUy1xKvYdS8FPKV2KLL/A+dDa+rm3fYgC0ZDGLi9aBHORbBg3skbG9bZC24fBC8TUW+VMWC4PoJ2rsHVRKqxEI/nS2ZjX1ftm+rFkOjX0tGFKksZ2obaUG7TcIqWAl7D6aOHceTkBVy9dgUXrz6AR2zBRzp9RUsBb+Ds8SO45J4uWgctBbyAs2fP4qJdJIRdhQ8LL90Ht84cw5HzLyB2thLV8Q44ffg4zt0P/LgKeF4xksKCkVAkHllaCpgmOd7cIiSFvkZ8XuNeGH0ROeJVNLIbPv1VmY3oV6+RUCD8kZYC2ly9iPPnL+Ga7StB2fhFwXh4/izOnr+PoBa8ZDQS19MQWgoYFIioLLGDX6ys/JJ0JGVXCjp41XlZECtOU2gpYHBQo+WyE6PxRrKauR6xGLQNWgoYitfxeXWdyoZUJL6RrokRK29baOFw5SIxkaCLWRcYIBsZ77wRpjIcJuFhUBw+DM1e0K9zLdGKKAleJbYzTtxRxJRpXaCk2hN9TYTvQFbR6whtwVOg7CY+pzlaTT1LLPXGjqcmXqh3ii37myiEeTTBkOFUHvW1wVTqjFE928NQj4lcoXiphXXzm+aXfjiXoY7ugwc3cGM1LKPI99R9MIYZtUMHLQ6y6BmqMpFeqQE9NR3ot6tCuXYf9NGSsKkkureoZRrpghZuMpV0YKQnMteK5jUZMpyaVx/aTCV0HtUT7Q31wMzNElZ8TB2YDegKFSUTfDG8AOcvBjeNZ1p5I1+X1UBJD2RI9mvVaGlBVUkNugbtpTzrIo3/H1JAOaNRmDdUEYHnNuO4b8NKpALBrpdw1r4ak+YMFYjzPgac2Nuw3vEYWSqluLVyBxo68aRKAYtfYs+KwwhlKSHh3AYcCRSWUJKsj5/tgas3fJHPL4TdzzPw4/30/5EUUHJZawIOYIqJHjqYjsDXJ4LRxK3XEIlSwGpE3liOyf3MYGZG/evVFd2nnxYlECIpBq3ffaVIAWup8MOeBVvg3mQjNb9tW0PzW4Gfh3CuFvorG8KAkQAnPy4GjFBHYAAHA0driWZqHU28SrSrRKGm7lHzprdeMZr4nHIjJXuWGjqeasQ9S5NZLfqbaqnPIwOsevESCJ9IdTzVrzsQchL8U03dWOI08D1RUwX3oKlZYNowPnyeuoD5/SH82MwpPonLZzFFG5YPNodTv84G8zJY1GfhR7qAdfPU/mVXcKiRj5oUb1W9r0sy0v1a78//DykgU0EH077uA58bL+or5aIwlKmbQY3aJwU25Y8BLx6nf30Mwx8XYqSJKcZ+PhJ1TjypUkAe4s9bw85wDmZamOPTuQZ4ceQBVX5Jsr5kZD8+i2u5Bhg+dBJWWVnC7+BF0N7Bv10KKK2sVGdwZzhVz8T74fHuzyRr+EVIlgJyUTFkJ6IS4hEbG4Vnf27GoRMrRClo+FJj0BqkSwFpKhHuEooipfpjuY7mtm0rkd5Q8LPhf3UXbNxT8bZICUbG7dGp7wBUvDiNGyFcVOdkSx6GiuDVuZaiECXJq5Q9Br+u04PHeQd4u9vieUQiwt39kRboi8S0GATEspv6nJhNPUvRJaxGjqd24p6ljKSW/U1USdLq8hiLEJ8YZKZQeYyNgWdIJrLCvBBT0dK6NTFBLL9p7wIluLGSkFxbxqioet9TTAh84zKRFOCPVL48CiPs8fDBU9heO4LjTkkSh5l0jJsuPxUMkwHomBsAPz93BKfmI9bTG4lJ9fPGhvggJjOFmjcWMZ4hyMwKg1dMGZh6GqgIdIWPhw3OvRmL3VbmTb1VaWmNfF2SUcVnEv1adLmj8dwrodmedav5T0oBGVAZ9y1GRNyGfQH9nY+sCA70zN/X+9k6eKn2sM82hHqkExwfeaFq4BiR06s5KSAPRQXFkFdSEnQaGGqqqAkLQFSFJFlfDPQ/WwfrmaaCDgO3pBTVGloQeAdF/F1SQHmpZa2mjnVXuDg9xBP/5us3yVJAFYybPgH0iQReylO48Kbg8+4NWxtmizFojuakgOzI50ju9gl6NN1IzWzbNkA/R/E/hVNM8ovYhF2USwolCojEfU6SPUvijqd6z1Jr/U2toTXrbuqfaitl9lvI+gc5QqdRVSK5vGgVuddWLxDt3CrikJqyApJfxiGtzw6bFBdVNJn//bxVrfFrtRZJricuidkzhGjOuUNKYw+RybPPkAw64/nXyXcLrpBsTgjZNnIyOZ5ApagJJdZTlxNHdhVxXPsN2R+US+WrjPh4BJJKSWkbuJ54GTZkvvkn5HBUMbG7L3Q9cSWlEXc9NaKC2Bw4SuLrMy+RmogH5EFYBXm1dQT57Nw7wuMmEXf3OFIVsZ0MnXCUpLZ+Q7YJ2rfU02g+uZtFraDKm/w2dQVxKKQ+Rj4hj0PLCTf5MJk4u9aPVE+FzyYyaaktKaI+F3uuIb0NfiBPi5+T5T1mkxt0oCjYz5aRXl/fFX6h4SaTSwumEWtv4U4tcD31/Y4cvmFD9s/sTaadedtgGzcDu4X11FL2lnjcOka2rbMmd6IrpJaVm+BFXibRG6+IPFwylVgHsYXpJVJF4u5sJvPHdScd+nxLzocJXUtCCoid9V7iLlk6J0QsBq2iwodsmrSU2AqDTdb0NiA/PBXIy8iTx6GknFrm4Ymz69xXtUgrb1to/tTT34GCBrQ1FaGoqYv2EgVE4j4nyZ4lccdTvWeptf6m1tCadTf1T7UVZYth6JzqCFs7B9g5eKKw3xQMa+sTnrRzS1MBLDUtaKspNDN0FEeR6qE1fWvc+3mrWuPX+itwkZ1VhK5mvcAN8EY8qhDh4Qa3UBWMGNeZGoIzwFDuhC4d6W3FAquGDTZRwieLJ+Od9VQMsPwctzLaoVJi2nqYhvNweLshrqw+iTeiYUVLaQRUx+LJ0QPYv38/9e8InHxe4vJB+vN+HDhkg2CpV8QV0P+bz1B+3wbxcSlgdDP5i6ftWoappg71Dj1gRnuKlMzRg+kMW6/XeOTFRTeVDCSkFYJdmYeUtMZGVZWRO3Hxqwo8e+aBML4WOhoYoIO8KtSU+eCK7qcnNTywVGp34BIEnr+AkmVXsX1Ugys9Ct0wcf7X2HD8NyidtMIZyRd6GsNobj0i+BxwlEww7ps12PRJBn5fegyxShLK6l+BnCIWOujSe6s6zLuXwtGeGq5IocjhAO6o/oJbHqF48asiLqw9Vvceen7mI1yN10M/qRfipMSgJVRGYufFr1Dx7Bk8wvjQ6mgAgw58RFKjBG43FWQkpKGQXYm8lDQUNQifxG3r37aLFK2vP2T8bch1+Qw/r1+EuZ/PwOdzF2PDzzPQub5dklHLf1IKKLzOJGc6H18oPMBODwKz5k6WfyBYPYdioEoZhE68KrBrtKCr26FFKSA/KxCBZATmTR2PAeXvQCZ9BksVabK+aiQ43kPayC1YN04LUfYOwms/FH+nFLCgu4SyahXA7tQReKTRK+WhtJSNdhpS7nyhytGc4LDK1wORClpQFn6laCgFlB6DFpEoBVSAXv/+6FCeh7zcVGQXcVCeX4xKqhi1UkCJ21anbfvU+0kB+UWI9fbA6yx5GHbSrL8oKkPGR+H/hxSQl/4Sl44ew+3gSnS2HIdxWuF4pb4Ac7TC8NDmMRwDcqFk0BkmvdomdGsVCt1hwnPD02R9GGTch23lHGxeOATdOjcvBeQl3sEuGzb6G73FdQdFLNz0Bboqq0qU9Wl7r8Vny6/jhd1lnD51CvfLR2Ft/0I8+rulgMMHo6d4WX8YAjNtPrLKWVDMeYYrnkaw+n0mOku8ViJFCthHh5rCR47bOVwvmQCrGd2EI8EKhzopYAePX5rEYMPsPq0bdUuUAlLHg64ROndSQk6QC5ycI8AzGYSBloYIXCuSAlqaNd2235tLfxOpBN7D9cRD0uV9cB/7K6b6rcIOshPnfzCUDU1k/COQSQH/CjwUJ0cggd0RFmZ6rX5tZnlaGGJK9NDHwrDRLfMtyfo+FO8rBWxaVj4qMqIRk6+BXn2ozkFLnW4pUkB+USLeso1gavARTrpKkQK2zPtt21qkNxTcCNhsO4UXlV0wyEILeWmF0FVUgv73VK+A6mGUtNdHzZ2f8IfSHpycp/uPayj4mU/w6M1kfDk6B48fZ2H6lyOgyE6E8/GjuFfQC9+tWIax8q9w5tglJBnOxdKlM2DGfYVL+68ja+hPWD/XXHD3woeHGno67MFO1z44dGTeR7gnnvYpHcb9mGSkdVyL08tM6yrCNkG7ui47Q2XeDxiqIfqtDh5SXuzFziedsf3ED2ju7l0ZMmT8+5FeTVVFI6J6NvYd2YrF/akGYuQEaOr0xqiOTCjo6kMu/CHsFBfit4mq/8jRRIHnWxQYKVL13UsklhkJT48pdceYLvkI5VhgVDdFyBn1g2GON7KNPoE5VRkyNdqhw+BvsOajNRI0CjCZaAlWWg7VZHwEPphPqTlXlxyMxwyGSlYWxDVW/0vvlgwZMj4O0ut4lan4zXoK9EkMHgXpYEBpGPXTZKoHzEfei6345rd7CHx2CCecy0QX/OppjVcIlSkIcnOEg2e88Klg2iHk5gSfuBREuLvAq07PwEZqsCe8A1/DNyy5lZVrGfwylTC8ixxKfPKgNrL+1JicjhZQmC/IMzfBkxoiqqI4v5T6zkfGyxi0nzAUmsJZGyDZV8XPjYL7M0/EFFPDuje+cH4RimxuA3+TnwvcgjPA4eQixsdN5DyiYVD/1SA/2gcevvGo0yrxixDn6wKnF2GCt29xs8Lh6hiApJwY+L+W/FRv631KlciIDERgUBgSk2IRFBiE8NQSFCa+pn6LQ25N43XXu7rotHwUxXvDmSp3Qowf7N0iBM8jMBgElanB8HAXxqOp++p9tp0MGTL+aUhvKOQ00V6DIPmJJxQHEoTyP8EMwa03TOhO2odnbo9w9dojHF6g32QhLXuFquH/xwbYq07E0OLjWLwvHFymOtRjz+HnP7whN3Ao1J3WYOmlBHDcD+Fa7mCMHqSNmJdBVHUnncrIRzh++BAOHdiC635v4XxsLzbZBCLh6TEcfxQhSCunowvFwjyU8jLhHdse00fpoyQ/H9yiAARxB2KExCuNtS6oxr4qvqoaEq/uwr0UHpTaFcH+j/MI5Yn8TdseIMtoCBi3F2HRuQiwzDvBe8M60NooGl5mFN4qD8Bw/SDsXHMVibxCPNu0Hg5qozFG3xVbrT3AVFdDzLkNOOSfjVg7e4hrldrmU1KAcuUzbNzyDGw1JoL2b4d9GQtyec8FD1V6bhFbd52riwuOzzasvkc1vMY+2Lz/DQx1mKDVU7zscATk6MOyRhgPppj7qi3bToYMGf9cpDcUFPwsJzjXDIR6WAmGz+oJFr8EKSmCx0Wbp0WvkAKGrLHG8LQn8CllIDfmDaqZajCkKjfDvsPRS0MT/ZdMRun5S2B1MkTS/imY+v0p8AaNg7Qb1mhULOZgzfoN+PkTE4z6cT82rh6JXmN+xt7f1mPNnL6CC21MPR1oFuciMeA1SL9h6KaribK8dwj3KoTZhM5ST9VI9FVR5TTSVaFGB0wo6RhBj6qA6aeSBf4mkyEYbtQO+lTDo9R5FHq2N4QeMxe0NoqGqWOGAV1VoGTyBYYXnMfFlw645lID9Wx/BOZoQ4edAqZaRyqOmujaZywW77RCY61SW31KLGgNXob57UPhx+ZCz4ggzqcAVUWmmPVDAR49b7zuhq6uqsx0VGroQU1HH+2qyqHdpw9o9RRDnYrH4Pp4MMS8W23Zds3z/0MK+L+nEtnRr/A6oaBOrVNPM1JACl5BOjLFHkavzI7Gq9cJaOS+ExPp/W+lgAVIb5Dpv00KSMErTkJYcALa7ueTIAWk6uX0pGxUCjOOrCYZ56MkPQnZwhmQlyVZKNgc0hsKfgE87ItgaRCFTMsv0FeRWkXcFZwVegVapjmvEC8RF1ZuR7T5THw+ogtVgXORmpAsmi78w68sA1tFHdxiE6xwcsX1zSPw5sRxNKNqokYUj6kRxZ/YedgDEUFncHDbKXjH+ODkocN1Iwom/WBfYQCcCkwxxkgOLG0tcCPskdxpPHq1cGdGE18VBYspCiGfDQ6n9r6ABv4mKg712iiCel1O7Qc2KjjKUKdfiK6ph97jJ2DCpEXYtnG6cDJDEUqKku5jew+fEtMAs2aw4HjwJeQXr4aO93nYVupjiEY7yesWoWYxDcP4PnjqwsT3h36su3gtKR4NvVvlbdh2zfNfkAL+w+Fnw+PqDfjm81Fo9zNm/Hgf6Q3iKlUKWJ0ID5tL2DB7No5G1G5gPrI9ruKGbz74hXb4ecaPuE8vTIJI738jBaxGoocNLm2YjdlHI+oqzb9DCkg/xxN72xo7HmdBpfQWVu54KaFRloYUKWBNAA5MMYFeB1OM+PoEgptkvAYBB6bARK8DTEd8jRPB7DZfu5S6FTgBZ3H3TSbu3IhARcwdnNi5Al9vfAEFo06iOaTT0EEk2StUAQV1JVQm+uG5HxvtqgPxIpo+600daKHUKMbLDddPxmDcH1bgvn2Mc1deIqlcGcbDB6ELMwfX5g3CL25Nw6ti8QXWrJ2HrgO/wP7f12Jm1yH46sAWbNhQP6KAnA70u1pg8gRqhCT4qg/jbp9gXH9VeqoUGrqgGviqUhkwGdARuVTl4OcejNT8WHh6+sK31t8UGwKfmEykBPgjNsYTIZlZCPOin/ZkQk+jAoGuPtRBdg5vxu6G1aAZ2LpaDfanH8PDzRYPArJQneyLoJR0hDr6oalW6X18SrRrZiY0qYPQ3GIiZhuEI1lvEFRUpjZZd72rKxal8oWIsH+IB09tce3IcTglVUmJR2PvFtqw7Vrm3y4F/GfDz36Ms9dyYTB8KCatsoKl30FcrLXVSZUCUih0x/j532Js9wY3XFKNzuOz15BrMBxDJ62ClaUfDl6kKmSJIj1hh+NvlQJS3Zvu4+fj27HdG98m+tGlgFRNEn8avz42xI8LR8LEdCw+H2nUfOeuAdKlgAoYsjMcJbnx8Hu8G59JyLgCla/wklzE+z3G7s+M2txQ/E9dT1VFBaSMlrpwuQK3S9WjhWT6wVhSlF9AKmqdNjUcwqkpI7m5ZaRONVTqSV74Sfaw8HJukYPnkwiX945cPnhF6OJpRDnJzy8XfabgFJKC0iYztQnaU1VE+6QK8kkZpw3LYheTorqCiuCUksI2SZXa6lPiETZbNDe7ijSKosR1lxH7LevJgxyhfacq8TJZtOoeac5QU+e+auO2ax5Jrqca8mqLJem24gVVDg5JeHKKnHnoTJ6eP0puR5WSBMddZOE3O8itJzbk/t1jxPqkr8BVVBz0lNx/4U283W4Q66OuEtLS8iCR64nzjtz6qjeZdDyWWltFneuJnt44TTaJvGtFhppMI9bXbhPnmIbun38B3DTi7xpG8undscKJLOvxCTmaJDgqSYStLQmNOSTR9SSkitguHEE2+NbuhVyS5u9KwoQLI07LepBPjiZRx+YD8kNPEzJlyx3icPsYuRkkjBHtIjIbtY/E5fuS/cv/IN7NOZIawvEl6/vOIBcLhF+rHJaQfkschF/EqYohp7+ZTf7wrz/2q2wXkhEbfOuOHbb7RXKI2p7Ojg+IrV9Ws74paWWphZv8iJyzTRFbBpck/jmODFx1izjaO5D7dxxJvMhT1Ro4/r+SviP+IDH0Qnlp5PiEnmSlG3Ussd3JxUMPibOzI3lg60eymmScTdwvHiIPnZ2J4wNb4td0hhZpflz3kVHS1IIa3bTJyUGuOhl+VGvOTglCKkMTKrU5YylAgaUGXV01UcvLQ/IrNjr0l9zbqImrhv4oqsWsjgGjwxgJzymoQlu7wehBoT201P9aGGhPlSbtk9LShppCG5alqAHNuoKKUFBH+zZJldrqU2JCkRraC1BUEutRSVq3MiyGdUaqoy3sHOzg4FmIflOafxdJnfuqjduu7TCgqqKIwrw8VMedxMrrTMycPQWfz9GC896HUJs4A0Ypfijo8yW+nDMWcLoBXw4bvjb3kaRhiiGfzMbkfurgN0l7r/7lQHIdMf/INuhcsMKJ6NqXAVMlaZLGCbozv8Rw4574ZP4CTDH7eDdYfxTkjDBsgiW0mTyk2NxCxvydWNJVDuwoFyQYT4KF4P0prUUORsMmwFKbCV6KDW5lzMfOJV3B1JuBzTu+hJbfNizdF4zKBjstKY2Bo1MakH0b+64mSL0W0ghSgfIqeXo3FsCQY4Jd0eTkGDVKSYDno+fI1rdA13b/1965R0VV7QH4A0YeMoC8VQRfhA8edtVUEssXmYRpSZmmrsBF1jXL1PKBXsXSWtert7yg6ZXQVTcTlRRE8BU6ICCWKCiIYiKGyihvkGEGxjvDQ3kOokZo5+Mv1tr7MGefYf/2b+99vt38fYjs+vDcwFGM8xhLZZAPq041n/lquhd1pnMgOB2HlxtuT68kO/s60lwRAz1eUY38jzNvQQT17VnNo+syEQ/DK1QdsFn8G7/dKKa0RJXliezo89xARo3zYGxlED6rTjWYzhJh1+c5Bo4ah8fYSoJ8VqHh1prk0XrIx4luT0b7h3IkcCYDmjqk5x469Bw9Dqf6K7X30HvBm5n9Vd2SvjveM3o3eFACrUeH7hM+ZIG3F696voqXz0I+9Gx+0V8zmp9d62nnUsAnkMKTm9lS6EvwCjeM5CktSgE1UniSzVsK8Q1egdp9p0mk15ZSwKYPZaxoAymgNmLVIKrzM/2o9vM9g3bUTzywn69JKaCIipx8RJ0tqwaLRo69KYoIr+/JqsghX9SZ6ltzpHdRBOEtirTq034CRbtGSX6ahANRCWQKezzbD+1dClhV8slBnhHBzqzhLJ0/ErNz4ezPMG9RCtgs8gwidmYxfOl8RpqdI3z/OY0ivbaUAtYUr49S2gZSQBEOQwfRsbig6nulLJOhMLPkgf18TUoBtZGGBbA+Okt1t6q/VFSETL0xRtWWtVJApTSMgPXRVN9aEUUyY0w0ZFZN8XBSwL8Ylb99y3qJM9OHn2HJ4jMM9ny2VUItgUflaZACtnPyDzJvwmy2Hw4jKDCAgJAS3D6dwajemqWAVGYi+XE3YZEHSSvvhNi4C31sFByaN4HZ2w8TFhRIQEAIJW6L8B1T0Eik96o4lZC2lgIONiFL8iO7wyI5mFZOJ7ExXfo60LcNpIAD+tlTeXQfV6y7kB3yE3cmL2GmY/Ux0C3SpBSwI+JuZqoYUoJIL4fIb49hO2cZE3tUsP+Dainga4N7YaYKMiUiPXIiv+WY7RyWTezRKt9TC1JAVcMl7mBrcDSKgVN46013+hvlEr12GXvvjmHWe164NH6N+THwB/uQKjIIWRdC6pUsbD4OxLdPdUivSN7B8oDD3Ok+GGezW2TlWaq+ZNbMnPMComJTrBU/8P5qfT7/z5tYPrG5mNrT9AWrQrviF+BDvQO4ngLarxRQoIpmRHqPwsNJAZuijaSAlQVcSc5AZqP6PFatXK9rRgqoLM3mfOptTPo6YdfUB1eWkn0+ldsmfXGyM2r11HHL9lhZBL5DQ/CI285rhhVcTzzAifzevDTOkUauuMeJbA/e066zavdcbB9zpyxP8MPnyBQCZnSk1Noem5rvTvGOJazsNI9/jjfhTPA2bvczJjN/DL7jrSHvV3aHZGA73p0B3c00Lua2e8qP8NHUBHxDluHUxD+WgICAQF1anHqSnw5mTfIAFk3twvmII0jtXsJjiE3N/G9d1D6kaI5fUmAsv0h80m1VWtYFw9xzREtSKbO0pUNWPMdO5yLuac2dc7Vl0zmRlIOBjTmyiwkkZKjfGjZFt+ICYXvycHas5EJGGSY2FtVKCrUPKU5CYnoJxj06o59zlp8lmWBSxIX0Miy7mtTssKmlhCuJMSSm5aBtZYup6Bap4T+wN8sal8GO9LGqfvtYjch2EK6OFnRI20l4uRM6l2SMfHMwxrmH8ZuxAkmhlLjku7i7O9c7D0Dttoo+fgmFsZz0E0nkGNhgLrtIQkIGFeq/qR5YqN1WkhMkZd2lSw8L9NRuq+gYMuQdKEg+SbrMlG6W6pPl1H6kWFKu5fL77XI6dza9H/2braNulgvESRJJLzGmR2d9cs7+THWzXCC9zJKuJnVapfIKUaG/M+iNF7DSvkNmokT1DLK4q0r9LSqzSTmdRmaOHLF1B3JSkriYp4ONeUWddregOEXD9QUEBJ4qWhirV5IdcxJdezGxa//OeyFKnOybezGtFT4kRW3Z5ey6YcsQrf/h7f0NySJHusUsZH6NEOnRfUjFSD5fwr4OQ3F/XsyBZZ8jKTXEwtIQkYE5Xc0N6jWATidTTO5eYe8xPQbdTUI5uvpkOW1Ld76IPMoeVZaxZ920RlNhbea2aqYOeZEsXrAf8YgXsD7ixz+iyzASp/LNwn8RfzONsPDzVQtdTSGPX83CcEPGDi3ga58vOKttgDLuMz7+/ho6Wlpcj9pNQllpg3Y//sDXFxAQePJpIVAUEhN3k65Of+PlhYsZl76JbRrO7XtwH1JtWXuGuKrKWpujrW+Hm4MpXa20kdYIkR7Zh1QYRuAhM0Y6i9Hu2A83k0MEhikwMzNEX2xJF9OGeZGSGweiUAwy4kyhK5McRCgLM8lsyTfTVm6rZuoUR23joMKIm/EnyTG3QJYpRWyjat9OPXF60Qf/OYMaZFn30R3yEf9wzWJvbBFa0lQuKs0Y8O4HPJt6gOSy37lpP4XZDokN2j3rga8vICDw5KN5jUIWybuuIXjEBjPJsJLMQE8mX1pMzFcvNj1HXx7FnMkJ+O5didN5fyZtHsKejaOJmfsGsbNCWdn/V5a+so0R+zcxnvtlndNXM/HrAeze4olimxfTZRvZ904s3l4Z+O37FHudXIJe9+Lm0nlkLpAw8/A6RuhCqVSKoZUxoT5vk+2/i7kNFzNK9+Lz8glmHV3LcF05Jz4ZQ9DwKDYZLWVavC87lznV6+CUuUfZGmGAgyIdg7e8GWooJ/Xfyzn6yhrmOmha/iknas5kEnz3stI5ndUTv2bA7i14KrbhNV3GxlB39kxZSIn/DubrbcDT35b1K4bRM3kVXhl+7PvUHq3rgUyYWkDo2hGc7j+E3pkH+PKzX3j9uzW41VkTk4V6N6qz65NMxkfP5PC6EaqQVIpUehcr40P4vJ2N/64m1njKj/LRtHh8dy7B4L9TWFjiz475emzw9Md2/QqGOfQgb5UnX2lPZfLb05nUNRLf8dH12904tvH11fG0haHHw7Jo0SLy81uxh19AQKBZtLS02Lx5c81vLdPsQFCZl0Jk8HYkdw0ZfkGKcpAZ2NqhXOPPZy9txd+jV4NdHbU+pPQq/4/8F7X/R0n81TFVPqRQtQ/pZkqVD6ky5jJ9dGvLpqFISuV6Zhnxab0oOX2dG3IJqcWiez6ka3nHq3xISwa7UjD3NBsDQ6lw0eJqaS+mOadU+ZCkah+Srxvd6/bnhhPwm3OaoK1hlHXL5ljHOfh55HLyy8tkpR1CkmHPaPvarKKchE0/clGkR8KNvoxQbiDq12P8kuXIrNma9wjUuq3S1W4rRVKV26osPo1eJWq3lRxJ6vPcc1sV1Lqt+vGuqmetdls5Io1Uu61WU3FpJd8klPH+kBo/UqMn1LhOR9cC5p7aSGBoBS5aVyntNQnnlEQyr0mJiLuKr1vdN0TVz+kEl6+lE3v2FmN1jdC/c5m4QwXIjOWcPHyefr3tefYdT2TLtRjWSz33pnZBnarT7ra8aFj/+lrS7Ux/5yZ+4Ytw1NxcD4WLiwulpX+M00lA4K+GOlC0hpZ3PT0mygtuUdbRFFFJIYhNH1x1UV5IQaVRfdWFvJj8coMHV12oyueV62FmVD+0tTWygjwqjMwQqzrrSh0dFOrs4PIivvexQtfUrFpbUiFH/VOoGjyb3lNf3Kcqo2hYpwZ5cT7lBqa0ygCiRlZAXoURZmJVGFEUkn2zA12V0fx0bQxvuNVZk2ptuwsICDwV/EETBY35U31IqvJ/dpBQ83Buqzo0V6cGXaOHCBJq9DupgkTVB0Mr/ygb1n5H1HkLhrk22LjQag+VgIDA00CbZRQCAgICAk8mbZZRCAgICAg8mQiBQkBAQEBAA/B/0Lxqbt13pDgAAAAASUVORK5CYII=)"
      ],
      "metadata": {
        "id": "nKgwAjPMSSFb"
      }
    },
    {
      "cell_type": "markdown",
      "source": [
        "Różnica w uzyskanych wynikach może wynikać z faktu, że w ramach projektu zostosowano inną architekturę niż autorzy publikacji oraz użyto tylko 1000 obrazów ze zbioru treningowego oraz 1000 obrazów z zbioru testowego. "
      ],
      "metadata": {
        "id": "gWeIFjMkTwxw"
      }
    }
  ]
}